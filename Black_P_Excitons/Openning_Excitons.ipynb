{
 "cells": [
  {
   "cell_type": "code",
   "execution_count": 12,
   "id": "67b14cc2",
   "metadata": {},
   "outputs": [],
   "source": [
    "import numpy as np\n",
    "import scipy.fftpack as sfft\n",
    "from scipy.optimize import least_squares\n",
    "import matplotlib.pyplot as plt\n",
    "import h5py\n",
    "import pickle\n",
    "import constants as cst\n",
    "import honeycomb as honey\n",
    "from LatticeInteraction import LattInter\n",
    "import sys\n",
    "import os\n",
    "import subprocess\n",
    "from copy import copy\n",
    "import matplotlib.colors as colors\n",
    "from mpl_toolkits.mplot3d import Axes3D\n",
    "\n",
    "#%matplotlib notebook\n",
    "\n",
    "import Reading_Scripts as Reading\n",
    "import Plotting_Scripts as Plotting\n",
    "import Fourier_Transforms as Fourier\n",
    "import Coulomb_Potentials as Potentials\n",
    "import Reading_Scripts as reading\n",
    "\n",
    "np.set_printoptions(threshold=np.inf)\n",
    "\n",
    "#%matplotlib widget"
   ]
  },
  {
   "cell_type": "code",
   "execution_count": 13,
   "id": "de2f1936",
   "metadata": {},
   "outputs": [],
   "source": [
    "out_path = \"./../../OUT/\"\n",
    "path = \"./../../DATA/data_excitons/BlackP/\"\n",
    "\n",
    "\n",
    "system=\"BlackP\""
   ]
  },
  {
   "cell_type": "code",
   "execution_count": 14,
   "id": "026828a2",
   "metadata": {},
   "outputs": [
    {
     "ename": "NameError",
     "evalue": "name 'Plot_bandstructure' is not defined",
     "output_type": "error",
     "traceback": [
      "\u001b[0;31m---------------------------------------------------------------------------\u001b[0m",
      "\u001b[0;31mNameError\u001b[0m                                 Traceback (most recent call last)",
      "Cell \u001b[0;32mIn[14], line 12\u001b[0m\n\u001b[1;32m     10\u001b[0m fig, ax \u001b[38;5;241m=\u001b[39m plt\u001b[38;5;241m.\u001b[39msubplots(figsize\u001b[38;5;241m=\u001b[39m(\u001b[38;5;241m5\u001b[39m, \u001b[38;5;241m4\u001b[39m))\n\u001b[1;32m     11\u001b[0m \u001b[38;5;66;03m#Plot_bandstructure(epsk[:,:],klabel,\"black\",\"-\",Emin=-100.0,Emax=100.0)\u001b[39;00m\n\u001b[0;32m---> 12\u001b[0m Plot_bandstructure(epsk_new[:,:],klabel,\u001b[38;5;124m\"\u001b[39m\u001b[38;5;124mgray\u001b[39m\u001b[38;5;124m\"\u001b[39m,\u001b[38;5;124m\"\u001b[39m\u001b[38;5;124m--\u001b[39m\u001b[38;5;124m\"\u001b[39m,Emin\u001b[38;5;241m=\u001b[39m\u001b[38;5;241m-\u001b[39m\u001b[38;5;241m100.0\u001b[39m,Emax\u001b[38;5;241m=\u001b[39m\u001b[38;5;241m100.0\u001b[39m)\n\u001b[1;32m     13\u001b[0m Plot_bandstructure(epsk_new[:,\u001b[38;5;241m19\u001b[39m:\u001b[38;5;241m21\u001b[39m],klabel,\u001b[38;5;124m\"\u001b[39m\u001b[38;5;124mred\u001b[39m\u001b[38;5;124m\"\u001b[39m,\u001b[38;5;124m\"\u001b[39m\u001b[38;5;124m-\u001b[39m\u001b[38;5;124m\"\u001b[39m,Emin\u001b[38;5;241m=\u001b[39m\u001b[38;5;241m-\u001b[39m\u001b[38;5;241m100.0\u001b[39m,Emax\u001b[38;5;241m=\u001b[39m\u001b[38;5;241m100.0\u001b[39m)\n\u001b[1;32m     14\u001b[0m \u001b[38;5;66;03m#Plot_bandstructure(epsk[:,19:21],klabel,\"red\",Emin=-100.0,Emax=100.0)\u001b[39;00m\n",
      "\u001b[0;31mNameError\u001b[0m: name 'Plot_bandstructure' is not defined"
     ]
    },
    {
     "data": {
      "image/png": "[encoded data removed]",
      "text/plain": [
       "<Figure size 500x400 with 1 Axes>"
      ]
     },
     "metadata": {},
     "output_type": "display_data"
    }
   ],
   "source": [
    "fname=\"./../../OUT/Band_Structure_out/\"+system+\"_wann_calc.h5\"\n",
    "fname_new=\"./../../OUT/Band_Structure_out/\"+system+\"_New_Ham\"+\"_wann_calc.h5\"\n",
    "\n",
    "epsk=reading.ReadBands(fname)\n",
    "epsk_new=reading.ReadBands(fname_new)\n",
    "\n",
    "\n",
    "\n",
    "klabel=[r\"$\\Gamma$\",\"X\",\"S\",\"Y\",r\"$\\Gamma$\"]\n",
    "fig, ax = plt.subplots(figsize=(5, 4))\n",
    "#Plot_bandstructure(epsk[:,:],klabel,\"black\",\"-\",Emin=-100.0,Emax=100.0)\n",
    "Plot_bandstructure(epsk_new[:,:],klabel,\"gray\",\"--\",Emin=-100.0,Emax=100.0)\n",
    "Plot_bandstructure(epsk_new[:,19:21],klabel,\"red\",\"-\",Emin=-100.0,Emax=100.0)\n",
    "#Plot_bandstructure(epsk[:,19:21],klabel,\"red\",Emin=-100.0,Emax=100.0)\n",
    "ax.set_ylim(-3,3)\n",
    "#plt.savefig(\"band_small\"+\".pdf\", bbox_inches=\"tight\", transparent=True)\n",
    "#plt.savefig(\"band_small\"+\".png\", bbox_inches=\"tight\", transparent=True)"
   ]
  },
  {
   "cell_type": "code",
   "execution_count": 25,
   "id": "7517914a",
   "metadata": {},
   "outputs": [
    {
     "data": {
      "text/plain": [
       "(array([24]), array([24]), array([24]))"
      ]
     },
     "execution_count": 25,
     "metadata": {},
     "output_type": "execute_result"
    }
   ],
   "source": [
    "nkx=48\n",
    "nky=48\n",
    "nkz=48\n",
    "\n",
    "\n",
    "name_Exciton_energy = str(nkx)+'x'+str(nky)+'x'+str(nkz)+'.log'\n",
    "\n",
    "result = subprocess.run(['bash','./log_Hqpgw_new/read.sh', './log_Hqpgw_new/'+name_Exciton_energy, 'E(1)', \"1\"],capture_output=True,text=True)\n",
    "E_exciton = float(result.stdout.strip())\n",
    "\n",
    "fname = path + \"BlackP_grid_nk\"+str(nkx)+\"x\"+str(nky)+\"x\"+str(nkz)+\"_wann_calc.h5\"\n",
    "Energies = Reading.ReadBands(fname)\n",
    "#Energie_Valence = np.reshape(Energies[:,19],[nkx,nky,nkz])\n",
    "Energie_Valence    = Energies[:,19]\n",
    "Energie_Conduction = Energies[:,20]\n",
    "\n",
    "\n",
    "\n",
    "nkx=48\n",
    "nky=48\n",
    "nkz=48\n",
    "\n",
    "##estos archivos se deben mover a la carpeta de outputs al final del dia\n",
    "fname=\"./out_Hqpgw_new/\"+str(nkx)+\"x\"+str(nky)+\"x\"+str(nkz)+\"_exc.h5\"\n",
    "ϵ,ϕ_real,ϕ_imag =Reading.Read_Eigen_states(fname)\n",
    "\n",
    "fname=\"./out_Hqpgw_new/\"+str(nkx)+\"x\"+str(nky)+\"x\"+str(nkz)+\"_exc_dens.h5\"\n",
    "\n",
    "ψ = Reading.Read_Density(fname)\n",
    "\n",
    "np.where(ψ[0,:].reshape(nkx,nky,nkz)==np.max(ψ[0,:].reshape(nkx,nky,nkz)))"
   ]
  },
  {
   "cell_type": "code",
   "execution_count": 26,
   "id": "0a484339",
   "metadata": {},
   "outputs": [],
   "source": [
    "ψ_Exciton_k=np.zeros((1,1,nkx*nky*nkz))\n",
    "ψ_Exciton_k[0,0,:] = ψ[0,:]\n",
    "\n",
    "ψ_Exciton_R = Fourier.Transform_r(nkx,nky,nkz,ψ_Exciton_k)"
   ]
  },
  {
   "cell_type": "code",
   "execution_count": 27,
   "id": "8337a668",
   "metadata": {},
   "outputs": [
    {
     "data": {
      "application/vnd.plotly.v1+json": {
       "config": {
        "plotlyServerURL": "https://plot.ly"
       },
       "data": [
        {
         "cmax": 0.6,
         "cmin": 0,
         "colorbar": {
          "orientation": "h",
          "tickfont": {
           "color": "black",
           "family": "Old Standard TT, serif",
           "size": 30
          }
         },
         "colorscale": [
          [
           0,
           "rgb(255,245,240)"
          ],
          [
           0.125,
           "rgb(254,224,210)"
          ],
          [
           0.25,
           "rgb(252,187,161)"
          ],
          [
           0.375,
           "rgb(252,146,114)"
          ],
          [
           0.5,
           "rgb(251,106,74)"
          ],
          [
           0.625,
           "rgb(239,59,44)"
          ],
          [
           0.75,
           "rgb(203,24,29)"
          ],
          [
           0.875,
           "rgb(165,15,21)"
          ],
          [
           1,
           "rgb(103,0,13)"
          ]
         ],
         "type": "surface",
         "x": [
          0,
          1,
          2,
          3,
          4,
          5,
          6,
          7,
          8,
          9,
          10,
          11,
          12,
          13,
          14,
          15,
          16,
          17,
          18,
          19,
          20,
          21,
          22,
          23,
          24,
          25,
          26,
          27,
          28,
          29,
          30,
          31,
          32,
          33,
          34,
          35,
          36,
          37,
          38,
          39,
          40,
          41,
          42,
          43,
          44,
          45,
          46,
          47
         ],
         "y": [
          0,
          1,
          2,
          3,
          4,
          5,
          6,
          7,
          8,
          9,
          10,
          11,
          12,
          13,
          14,
          15,
          16,
          17,
          18,
          19,
          20,
          21,
          22,
          23,
          24,
          25,
          26,
          27,
          28,
          29,
          30,
          31,
          32,
          33,
          34,
          35,
          36,
          37,
          38,
          39,
          40,
          41,
          42,
          43,
          44,
          45,
          46,
          47
         ],
         "z": [
          [
           1.4337146429144189e-13,
           5.556134169475864e-13,
           1.1444651811555868e-12,
           8.327458893211675e-13,
           1.1625322474484168e-12,
           7.445278431995452e-13,
           1.1167438264445533e-12,
           1.2774788405737075e-12,
           1.0780303909409407e-12,
           6.626954001182947e-13,
           4.375561014583674e-13,
           1.1289302729963765e-13,
           3.7955995149874325e-14,
           8.408996643010799e-14,
           1.3784155611189601e-13,
           7.395751317287143e-14,
           6.910879834479446e-14,
           1.2083417833340788e-13,
           5.484587556216106e-13,
           1.019043285483929e-11,
           9.03429005896706e-11,
           7.868341653772981e-12,
           3.052035833364542e-12,
           2.9381706551939953e-12,
           1.9388869900882092e-11,
           2.971033714460358e-12,
           3.000701489743472e-12,
           7.635699105493813e-12,
           9.037137060641255e-11,
           1.0100111110407721e-11,
           5.493663629214633e-13,
           1.2134365576512639e-13,
           6.9042885675687e-14,
           7.256656013959782e-14,
           1.382229144365365e-13,
           8.422816865437951e-14,
           3.795890706661894e-14,
           1.129854613808797e-13,
           4.3797693403372485e-13,
           6.626755697296704e-13,
           1.0780944838850932e-12,
           1.2770307107411406e-12,
           1.1159338031320829e-12,
           7.441050027424569e-13,
           1.162342583275546e-12,
           8.329632326255969e-13,
           1.1446192265381827e-12,
           5.548552837454684e-13
          ],
          [
           3.8254830100543965e-13,
           5.549269889450856e-13,
           1.0973355994096078e-12,
           6.171765938760871e-13,
           5.559137614335915e-13,
           4.910439686470239e-13,
           7.9188809752884e-13,
           1.1757231121680382e-12,
           1.0230205802643991e-12,
           5.552654255700959e-13,
           2.8986515672143276e-13,
           1.9744449747796227e-13,
           1.5007153147081546e-13,
           9.995734599877047e-14,
           1.1105427002966179e-13,
           2.596984995786025e-14,
           2.088601193097118e-13,
           2.6211737861507198e-12,
           1.5698723920117793e-11,
           6.46864739307009e-11,
           1.2215633068074623e-10,
           2.2382468632591954e-10,
           3.325998831092947e-10,
           1.2538491154223395e-09,
           3.1339136347648203e-09,
           1.1645788236517427e-09,
           3.5221867180926545e-10,
           2.1650531186569334e-10,
           1.0455892880317577e-10,
           6.297292632629152e-11,
           1.1632228304807372e-11,
           7.644112534651468e-13,
           3.597577724255126e-13,
           1.3026740349048716e-13,
           1.724084110111336e-13,
           1.34895586435848e-13,
           1.561336347616288e-13,
           1.577266865686287e-13,
           3.51622235539144e-13,
           5.580010232715583e-13,
           9.46643274881675e-13,
           1.3848295723258465e-12,
           1.1778298605503215e-12,
           5.354237231510326e-13,
           7.749209262597705e-13,
           6.561052870705357e-13,
           7.281306470134634e-13,
           4.783419148124272e-13
          ],
          [
           4.4044432930715996e-13,
           5.775465439918678e-13,
           1.188417840425023e-12,
           7.088422952763984e-13,
           5.278301052204812e-13,
           4.8076441991932e-13,
           6.477580810304691e-13,
           1.1103383074740637e-12,
           9.643295380730665e-13,
           4.906060864217482e-13,
           1.3990583758401076e-13,
           2.529732547017243e-13,
           2.198702152529481e-13,
           1.1053559523637327e-13,
           5.640656752921044e-14,
           4.518230542393176e-14,
           8.10689315544434e-15,
           1.5398811242562293e-12,
           3.764299877074555e-11,
           8.678850737624684e-11,
           1.5020552005805072e-10,
           2.395339005647721e-10,
           4.143139965775138e-10,
           1.991784299476625e-09,
           6.501762133609234e-09,
           1.871901308242769e-09,
           4.5700075723899224e-10,
           2.3486302696442237e-10,
           1.2369489900523045e-10,
           9.175762852746945e-11,
           2.974491796487595e-11,
           1.9964387512417207e-13,
           9.751741400641476e-14,
           2.006006410366883e-13,
           1.5548181219843554e-13,
           1.4589009958514487e-13,
           2.2399231474775447e-13,
           1.8320139291592312e-13,
           1.9481803206416678e-13,
           4.708029591870011e-13,
           8.712674324617177e-13,
           1.3847914540740576e-12,
           8.216221032970083e-13,
           4.68921570373107e-13,
           8.139501443834311e-13,
           7.914712772362276e-13,
           7.823877009800552e-13,
           4.907964790303602e-13
          ],
          [
           4.836156731947648e-13,
           5.71942646493059e-13,
           1.1134782602112234e-12,
           8.301507084147373e-13,
           6.219672839713043e-13,
           5.256638481512061e-13,
           6.03411209082546e-13,
           1.0432609431516684e-12,
           8.744903861785465e-13,
           4.2777259229430403e-13,
           3.647385158298108e-14,
           2.2617707072304364e-13,
           2.762703291210286e-13,
           1.2177655009122982e-13,
           1.3046186552784308e-13,
           3.6096170596792927e-13,
           2.817785547483686e-13,
           1.9963857498469949e-13,
           6.881011910473304e-11,
           1.1145041320663715e-10,
           2.0177648636474196e-10,
           3.059857260083779e-10,
           5.191343252187044e-10,
           1.7367410773326384e-09,
           4.20715590044813e-09,
           1.61098604860739e-09,
           5.269607585707721e-10,
           2.9358198893385695e-10,
           1.623532519493085e-10,
           1.1752849185649186e-10,
           6.086643018069395e-11,
           6.013522009192269e-13,
           3.874358142667213e-13,
           4.3319958526797325e-13,
           1.9496318539633456e-13,
           1.7843533613681827e-13,
           2.840321562727135e-13,
           1.8751350673268117e-13,
           8.165401646777818e-14,
           4.04991063382385e-13,
           8.295824470067719e-13,
           1.2231972835631703e-12,
           6.180215368974794e-13,
           4.4818623204685173e-13,
           8.109041405552772e-13,
           9.491491776510325e-13,
           9.362221326254075e-13,
           5.25609239891374e-13
          ],
          [
           1.0945551208040514e-13,
           5.649303337040484e-13,
           1.0319924487014185e-12,
           9.963964673207321e-13,
           7.976313189466559e-13,
           6.026050840572557e-13,
           5.978509674443906e-13,
           9.539799830983172e-13,
           7.494280412283443e-13,
           3.3827458627613424e-13,
           4.5773020394044065e-14,
           1.5824836836274147e-13,
           2.8008541480698244e-13,
           1.3736193264668478e-13,
           3.4160420046470635e-13,
           9.143614648561084e-13,
           2.1028194850992656e-12,
           1.0871063659462767e-11,
           6.375416009691378e-11,
           1.1656717526116906e-10,
           2.2858492217364926e-10,
           4.0221684044678803e-10,
           7.236743010523464e-10,
           1.7982490709900862e-09,
           2.7517940474568304e-09,
           1.7842730571915403e-09,
           6.785936431118804e-10,
           3.703469321393242e-10,
           2.1221442639263828e-10,
           1.0117921954707543e-10,
           5.386452283653014e-11,
           9.685190072353503e-12,
           2.0718274893406003e-12,
           8.774731358493215e-13,
           3.647392810919536e-13,
           2.272978688851639e-13,
           3.1171299706532147e-13,
           1.8375453033512988e-13,
           6.739883837448307e-14,
           3.2283051231842294e-13,
           7.993059298331025e-13,
           9.647311083202052e-13,
           5.087796709698607e-13,
           4.636559930787239e-13,
           8.035266381884754e-13,
           1.1141881930925046e-12,
           1.1286931932372057e-12,
           5.952061220650441e-13
          ],
          [
           2.1181300398015304e-13,
           5.769687240762836e-13,
           1.0131947661747654e-12,
           1.1731307788842904e-12,
           9.457813851177627e-13,
           6.584579281380882e-13,
           5.520820179842716e-13,
           8.691554373658706e-13,
           6.304582278110217e-13,
           2.479819205284068e-13,
           5.721622004578697e-14,
           1.1576976821775753e-13,
           2.2318494085820694e-13,
           1.360359877827355e-13,
           9.83033654509325e-13,
           1.7576828790325413e-12,
           6.655954612339418e-12,
           3.330580844358937e-11,
           8.026798256112332e-11,
           1.4035966410984734e-10,
           2.6903779226161205e-10,
           4.891112458192546e-10,
           9.774227409283718e-10,
           4.6208643899549604e-09,
           1.0788126723601158e-08,
           4.718797911969758e-09,
           8.336599351737076e-10,
           4.3214718689817124e-10,
           2.640224074835138e-10,
           1.1297659455802997e-10,
           6.584396951913218e-11,
           3.174162568715264e-11,
           5.922466615676779e-12,
           1.561275808698192e-12,
           8.188644521518696e-13,
           2.6519299682106253e-13,
           2.8709857636210716e-13,
           1.6192894754818496e-13,
           8.017788762270708e-14,
           2.5330244877311913e-13,
           7.756015659425912e-13,
           7.307089267870268e-13,
           4.3282709095144773e-13,
           5.086825853427945e-13,
           8.230178240090009e-13,
           1.2456913794479506e-12,
           1.224830659023655e-12,
           6.610273522881055e-13
          ],
          [
           2.0350933348835147e-15,
           6.121254878169235e-13,
           1.002717576179639e-12,
           1.2795593027331068e-12,
           9.857420241283943e-13,
           6.855318292841032e-13,
           4.4552204045247147e-13,
           7.946617960962324e-13,
           5.389670220654124e-13,
           1.9369170607968393e-13,
           7.901492709369214e-14,
           1.0778006376482154e-13,
           1.5647743455543858e-13,
           1.1302539808285003e-13,
           1.6232523926253903e-12,
           3.848243404770197e-12,
           1.0909833994752535e-11,
           4.5527533210670864e-11,
           1.0756885486454635e-10,
           2.0199187487199325e-10,
           3.962623401488249e-10,
           6.657137259538955e-10,
           1.204020801989154e-09,
           7.67944524859803e-09,
           2.2696401970882984e-08,
           7.853604650640131e-09,
           1.026339025308556e-09,
           5.788932549237568e-10,
           4.0091854875453985e-10,
           1.4195058883521498e-10,
           8.735722598565462e-11,
           4.503754831598936e-11,
           9.590303218369786e-12,
           3.4341548852595323e-12,
           1.2916080892434632e-12,
           2.9696080489364977e-13,
           2.3382240974311686e-13,
           1.4335857553534988e-13,
           1.0906449159940123e-13,
           2.2567151698970382e-13,
           7.167650363508775e-13,
           6.011479671548588e-13,
           3.5249563824682885e-13,
           5.76156270179515e-13,
           8.610646309592302e-13,
           1.3243320810713313e-12,
           1.179242139380606e-12,
           6.949012336156916e-13
          ],
          [
           3.8787682176255216e-14,
           6.658917295865729e-13,
           9.906522307690521e-13,
           1.3402816036971806e-12,
           9.596933365545685e-13,
           7.204451936226076e-13,
           3.0568713504339157e-13,
           7.072751691285828e-13,
           4.634368228411194e-13,
           1.6624328284435502e-13,
           1.1489634626517125e-13,
           1.272803628468699e-13,
           1.244494260464859e-13,
           1.177358725887629e-13,
           1.8751838103275566e-12,
           7.070301351915022e-12,
           1.9503874434902748e-11,
           4.7667312421883045e-11,
           1.0865450154500868e-10,
           2.305603208218865e-10,
           5.034551056970143e-10,
           9.640036928383202e-10,
           1.5761979842470566e-09,
           5.253956773018735e-09,
           1.0464903640962894e-08,
           5.40416874565657e-09,
           1.381754076835915e-09,
           8.471711454610727e-10,
           4.802435195212248e-10,
           1.8017879934086955e-10,
           8.939566742533558e-11,
           4.076170840922224e-11,
           1.6457929593987768e-11,
           6.658881105102101e-12,
           1.7584676216139236e-12,
           3.1433657455202277e-13,
           1.9786149148931178e-13,
           1.7102202257749133e-13,
           1.4530734937452446e-13,
           2.161634426160896e-13,
           5.809755170889838e-13,
           5.841054179673749e-13,
           2.5789953422825044e-13,
           6.778854898631941e-13,
           9.077975634455145e-13,
           1.3753192225809351e-12,
           1.070796977943487e-12,
           7.069657095717915e-13
          ],
          [
           5.042386249848162e-14,
           7.240717196532629e-13,
           9.769927790918154e-13,
           1.385353432004872e-12,
           9.218680620759042e-13,
           7.921578415505911e-13,
           1.6321469010679863e-13,
           6.154473417635961e-13,
           3.838502383406e-13,
           1.5379261501822378e-13,
           1.5083732661057496e-13,
           1.6832993799258105e-13,
           1.309769057527271e-13,
           1.6341676927645725e-13,
           2.661258603971875e-12,
           8.853389524926232e-12,
           3.2811017109896735e-11,
           7.005891987612526e-11,
           1.3691537424367664e-10,
           2.831953946688035e-10,
           5.954413490741337e-10,
           1.295249370822463e-09,
           2.1908277382832704e-09,
           1.3955157256461877e-09,
           1.003326226200771e-09,
           1.2445741191941432e-09,
           2.042435356056965e-09,
           1.1685927707278062e-09,
           5.019918898891353e-10,
           2.456153899929213e-10,
           1.1655561630430425e-10,
           5.676527632436779e-11,
           2.720027418195927e-11,
           8.37478618937179e-12,
           2.445306462327689e-12,
           3.0015613929758484e-13,
           2.0833333950692698e-13,
           2.370527236727875e-13,
           2.0366387181286028e-13,
           2.0603954276549557e-13,
           3.974821008744281e-13,
           6.386855789182108e-13,
           1.5048804830167704e-13,
           8.205565848145033e-13,
           9.481870973719769e-13,
           1.4132673436457873e-12,
           9.672910318594496e-13,
           7.191759311580962e-13
          ],
          [
           6.390724251512194e-14,
           7.715110482851318e-13,
           9.532422871226869e-13,
           1.420182602132193e-12,
           8.927537562564321e-13,
           8.873931358330557e-13,
           5.447637403000308e-14,
           5.413920110987507e-13,
           3.013537563223568e-13,
           1.4789935872951181e-13,
           1.75941663701845e-13,
           2.0370839477081616e-13,
           1.6758569455309977e-13,
           2.539942952431721e-13,
           4.817548944831986e-12,
           1.060124499645588e-11,
           3.609627850992948e-11,
           9.107654942542872e-11,
           1.9359477971458918e-10,
           4.1923534433661427e-10,
           8.185282578839524e-10,
           1.9948842362234328e-09,
           3.055350522535789e-09,
           5.628084787872827e-09,
           1.8469522658941644e-08,
           4.954848975019338e-09,
           3.017088594171804e-09,
           1.833637605622544e-09,
           6.173616660017599e-10,
           3.904596839406604e-10,
           1.6808287543347194e-10,
           6.169879328014159e-11,
           3.1362576589690916e-11,
           9.870446717981638e-12,
           4.4489718940595144e-12,
           3.660657420089843e-13,
           2.748361439023376e-13,
           2.781722228983898e-13,
           2.6986949088719565e-13,
           1.9064688786388432e-13,
           2.4593990855795453e-13,
           6.893261219466713e-13,
           5.284820790446176e-14,
           9.328872908899208e-13,
           9.655930964961293e-13,
           1.4408820224519412e-12,
           8.958031710564822e-13,
           7.45662747605248e-13
          ],
          [
           6.235760477889703e-14,
           8.033423637927155e-13,
           9.176174653028363e-13,
           1.4474589766447505e-12,
           8.730222995666864e-13,
           9.38465123370551e-13,
           8.224701502288351e-15,
           4.745963781277161e-13,
           2.320340934915959e-13,
           1.4242853545310459e-13,
           1.8163471272330294e-13,
           2.045106189867189e-13,
           2.1568815704651998e-13,
           4.988101692080977e-13,
           6.867937961564133e-12,
           1.623202369731932e-11,
           3.872521507603646e-11,
           9.355689520487182e-11,
           2.1922062254311508e-10,
           5.232809377049698e-10,
           1.0729614000698244e-09,
           2.9883947175137372e-09,
           5.657060051611928e-09,
           1.1456179903957882e-08,
           3.0133773920340394e-08,
           1.0198434791489431e-08,
           5.646610877151631e-09,
           2.7720373469392463e-09,
           8.112250740117544e-10,
           4.891016229723793e-10,
           1.905103769808613e-10,
           6.666649851980889e-11,
           3.1395215766782346e-11,
           1.458497498619094e-11,
           6.456264070764888e-12,
           5.905083139096416e-13,
           3.7369920355943124e-13,
           2.83605816413711e-13,
           2.736392214038616e-13,
           1.7523272912781257e-13,
           1.7655096535761684e-13,
           6.543212053706595e-13,
           7.575243984857888e-15,
           9.549848050965839e-13,
           9.5395643812402e-13,
           1.460331624860821e-12,
           8.572053238040528e-13,
           7.875036495720389e-13
          ],
          [
           8.822530389448616e-14,
           8.264266420493512e-13,
           8.767707251789654e-13,
           1.47264779956169e-12,
           8.568498402928645e-13,
           8.862506902453519e-13,
           5.206195415179883e-16,
           3.9231974742201124e-13,
           1.8601987935464957e-13,
           1.3931369159158066e-13,
           1.680033686525105e-13,
           1.8328612162979336e-13,
           2.327641527557759e-13,
           8.961448440704955e-13,
           6.559434298722159e-12,
           2.1507226782582666e-11,
           5.331904360823315e-11,
           1.1569772402128239e-10,
           2.603310903933495e-10,
           6.504975831936394e-10,
           1.5616905094799669e-09,
           4.227502223148498e-09,
           1.0795153975201535e-08,
           1.6188767570860097e-08,
           2.3508074317221692e-08,
           1.4555321516866737e-08,
           1.0475554025253166e-08,
           3.8854398129737705e-09,
           1.2944390865783755e-09,
           5.815546490990933e-10,
           2.2236333290872212e-10,
           8.870126023929975e-11,
           4.4958697976940864e-11,
           1.8302102940585303e-11,
           6.084384827252967e-12,
           9.206241325541239e-13,
           4.2684847203612505e-13,
           2.808741594540664e-13,
           2.2179851279142493e-13,
           1.7217434541832424e-13,
           1.841659618878612e-13,
           5.074894864635428e-13,
           4.2373903585667473e-16,
           9.057930846085607e-13,
           9.20273817464373e-13,
           1.475929249163268e-12,
           8.373761774054983e-13,
           8.344442928549633e-13
          ],
          [
           5.582776391401431e-14,
           8.512785819599624e-13,
           8.40006060064356e-13,
           1.5028540860938381e-12,
           8.38784789816833e-13,
           5.063441575826082e-13,
           3.3227677029774577e-16,
           3.1160711601074664e-13,
           1.675127469887744e-13,
           1.5125965659404928e-13,
           1.651452839146719e-13,
           1.7251241858256607e-13,
           2.159827536837981e-13,
           1.2798730843177353e-12,
           7.40628214281308e-12,
           1.9581770184925108e-11,
           6.295652007408734e-11,
           1.571718311192605e-10,
           3.4123334742525176e-10,
           8.650513051054847e-10,
           2.5535316269048237e-09,
           6.868942797994994e-09,
           2.0270721837102525e-08,
           6.649699449380857e-08,
           1.0684093201558688e-07,
           6.434129395614447e-08,
           1.8617682192750132e-08,
           6.181347249634068e-09,
           2.291596145653667e-09,
           7.325932515709818e-10,
           2.8090510164914193e-10,
           1.3140667300056535e-10,
           4.9663536005437845e-11,
           1.560245705838378e-11,
           6.843889740241711e-12,
           1.3255124808268491e-12,
           4.065309247274045e-13,
           2.698389117031601e-13,
           1.9948984867006392e-13,
           1.963314492669391e-13,
           2.2238211968997416e-13,
           3.2715425807299415e-13,
           2.27637484123568e-15,
           5.198434955762935e-13,
           8.773341910867269e-13,
           1.4946846385023384e-12,
           8.223845669831131e-13,
           8.758061022911237e-13
          ],
          [
           5.291390718097753e-15,
           8.831905844864752e-13,
           8.124092535884247e-13,
           1.5425321905702462e-12,
           8.150129237448795e-13,
           1.0934861648532886e-13,
           7.047695391995985e-16,
           2.6065394322042155e-13,
           1.7039272925633183e-13,
           1.9056624265606004e-13,
           1.9296591961689084e-13,
           1.9274270132870118e-13,
           2.362768969505122e-13,
           1.4917134556596193e-12,
           1.0139765278647876e-11,
           1.9440132470617677e-11,
           5.894485665726765e-11,
           1.8578301677746984e-10,
           4.0687536445033277e-10,
           1.0496728161234593e-09,
           3.885935231593069e-09,
           1.0855591178712307e-08,
           3.92783319427099e-08,
           2.1564295661632562e-07,
           4.610699439253473e-07,
           2.1270939370863515e-07,
           3.4892655911890895e-08,
           9.595453098336394e-09,
           3.6878211609277054e-09,
           8.330093524242522e-10,
           3.261551614801711e-10,
           1.736271782380596e-10,
           4.4133908986624724e-11,
           1.4541416855369125e-11,
           9.845018936662452e-12,
           1.5428047870980092e-12,
           4.1888243928573933e-13,
           2.9273295734998865e-13,
           2.3288418748340126e-13,
           2.5421853611124475e-13,
           2.4137553297897234e-13,
           2.1773135285193144e-13,
           7.24072205274664e-15,
           8.313513991342454e-14,
           8.322921086982537e-13,
           1.5225680976611755e-12,
           8.076894564505657e-13,
           9.094562288140182e-13
          ],
          [
           2.7793144454681213e-15,
           9.189469312597094e-13,
           7.92020620518546e-13,
           1.5877430468631708e-12,
           7.712418157312223e-13,
           3.6863955218555184e-14,
           9.148195182215981e-16,
           2.2918949170653634e-13,
           1.9549100541592218e-13,
           2.4704491976979115e-13,
           2.4845588949699104e-13,
           2.603911039349788e-13,
           3.3081652153389246e-13,
           2.1265585255815634e-12,
           1.0384678016560729e-11,
           2.5133497702359728e-11,
           6.193429749424979e-11,
           1.8527328940451136e-10,
           4.6081614052502553e-10,
           1.3179487726258866e-09,
           5.416766417826908e-09,
           1.821020243857099e-08,
           7.233203712240943e-08,
           4.550418601704344e-07,
           9.781693277875145e-07,
           4.5063674311705356e-07,
           6.458699759678827e-08,
           1.603085751654848e-08,
           5.113018022605276e-09,
           1.0670244252875642e-09,
           3.7095753724033934e-10,
           1.7214219481607292e-10,
           4.8901390543420725e-11,
           1.847793149800202e-11,
           1.0035086250411122e-11,
           2.175774969036584e-12,
           5.539561963685475e-13,
           3.909127472651682e-13,
           3.011471762757174e-13,
           3.247842847874158e-13,
           2.625969999715572e-13,
           1.918292046379546e-13,
           1.073833908723971e-14,
           2.4467996154655032e-14,
           7.71341824109182e-13,
           1.557436830383107e-12,
           7.935040100619689e-13,
           9.384287018850149e-13
          ],
          [
           2.1983107627324374e-15,
           9.504878821970153e-13,
           7.751480775339572e-13,
           1.62580609314209e-12,
           6.071729138919519e-13,
           2.0673803176593312e-14,
           1.0994123479412811e-15,
           2.1690735568861204e-13,
           2.4457021720709653e-13,
           2.866628696406665e-13,
           2.968439116179997e-13,
           3.483903851174499e-13,
           4.454387593940176e-13,
           3.5916477814245097e-12,
           1.0324838340568778e-11,
           2.7615517936937668e-11,
           7.715407074759732e-11,
           2.0087653317004708e-10,
           5.610158850557961e-10,
           1.7884066459730918e-09,
           7.828487315966967e-09,
           3.346482251357294e-08,
           1.363608030625436e-07,
           4.971375825762208e-07,
           9.233259857278631e-07,
           4.885019885755469e-07,
           1.235273998014571e-07,
           2.983616358829825e-08,
           7.225704362288271e-09,
           1.49904133174147e-09,
           4.672369664006795e-10,
           1.794957119196489e-10,
           5.969410437064797e-11,
           2.1011263629423076e-11,
           9.156589715013562e-12,
           3.5245072827426762e-12,
           7.313738318164046e-13,
           5.224593991681291e-13,
           3.829409378498392e-13,
           3.6169464921767657e-13,
           3.188430149599312e-13,
           2.1727231108523127e-13,
           9.95524424018385e-15,
           1.1577643079919865e-14,
           5.902908982625945e-13,
           1.589710069073189e-12,
           7.800671729685554e-13,
           9.643214737336821e-13
          ],
          [
           4.033658729543007e-15,
           9.713774711146289e-13,
           7.626374831158232e-13,
           1.642744652370262e-12,
           1.3055815156247687e-13,
           1.8863646193848448e-14,
           1.9491635758591205e-15,
           2.2620128885120397e-13,
           3.0369630371903144e-13,
           2.844590693651723e-13,
           2.9256977943227395e-13,
           4.04424327334751e-13,
           4.675552184479193e-13,
           3.973587421856822e-12,
           1.3474744457271879e-11,
           2.936746056519476e-11,
           9.295792915986022e-11,
           2.3299498258299646e-10,
           7.285789374566269e-10,
           2.558659211129719e-09,
           1.0320825010234073e-08,
           5.825026896570406e-08,
           2.595761831846791e-07,
           5.163255681771654e-07,
           5.081453149719225e-07,
           4.911909319520669e-07,
           2.4340660258005466e-07,
           5.306626369239882e-08,
           9.060926292673768e-09,
           2.256408255898504e-09,
           6.322034890631249e-10,
           1.951045593738638e-10,
           7.869734734839891e-11,
           2.4170138052526632e-11,
           1.130971451975341e-11,
           3.892594894750741e-12,
           7.44414450397651e-13,
           6.329886236243076e-13,
           4.2746214787388835e-13,
           3.3957461514326935e-13,
           3.6448186801668863e-13,
           2.591171674918019e-13,
           6.181963530861595e-15,
           4.3061517618228024e-15,
           1.1473793583103676e-13,
           1.609510825535119e-12,
           7.678153542966752e-13,
           9.843952972086108e-13
          ],
          [
           5.488354417368478e-16,
           9.79724070924615e-13,
           7.586232785921318e-13,
           1.6299770795031317e-12,
           1.4065767123490932e-14,
           2.0958925760964743e-14,
           3.0118509151742433e-15,
           2.3883656536034825e-13,
           3.437333413943368e-13,
           2.4948245522154416e-13,
           2.515210770515765e-13,
           4.040994591895234e-13,
           4.018258581405743e-13,
           3.69190244243818e-12,
           1.7895156227307326e-11,
           3.76085800558199e-11,
           1.0372815815166059e-10,
           2.503311566334105e-10,
           8.959738750423257e-10,
           3.543033445733336e-09,
           1.3362964672863222e-08,
           9.678739605342088e-08,
           5.488665338125859e-07,
           9.000946410811291e-07,
           8.03093761863329e-07,
           8.166239972535933e-07,
           5.269091575925271e-07,
           8.986212737056353e-08,
           1.1323287871313951e-08,
           3.2777937576111246e-09,
           8.023690016757283e-10,
           1.8857776361359903e-10,
           9.328616254478408e-11,
           3.266694924531838e-11,
           1.3688581145092263e-11,
           3.622312456429339e-12,
           6.033850437114079e-13,
           6.666790000848607e-13,
           3.8793092821253536e-13,
           2.7983274315086915e-13,
           3.4970703375416534e-13,
           2.9167093207485567e-13,
           2.6937803438267446e-15,
           1.4341983259586488e-15,
           8.240651315643087e-15,
           1.6082327697962664e-12,
           7.579031811719907e-13,
           9.922830927651066e-13
          ],
          [
           2.5117889396429445e-15,
           9.773426422431078e-13,
           7.654143029520455e-13,
           1.0206500179893478e-12,
           4.913350866714428e-15,
           1.7037201773622645e-14,
           3.0650332999927076e-15,
           2.376628810819728e-13,
           3.4418963760342884e-13,
           2.194092801069915e-13,
           2.327839412410478e-13,
           3.410826873381516e-13,
           4.0619223165118006e-13,
           4.323367170266246e-12,
           2.0174304870590304e-11,
           4.8355569106476126e-11,
           1.231329021638515e-10,
           2.9384207023821376e-10,
           9.785331918569283e-10,
           4.320739554211915e-09,
           1.9491095940899292e-08,
           1.541445410047718e-07,
           1.2400904726210555e-06,
           4.006198526997869e-06,
           5.566921473544543e-06,
           3.7479696995161986e-06,
           1.2093695827941972e-06,
           1.4502381891320434e-07,
           1.685506241471088e-08,
           4.027701967445742e-09,
           8.914001925126922e-10,
           2.2849944949934383e-10,
           1.1159872505585811e-10,
           4.23850778091031e-11,
           1.505874725967237e-11,
           3.947081131159171e-12,
           5.387533551263143e-13,
           5.728266304313777e-13,
           3.219118832166219e-13,
           2.292030378416034e-13,
           3.3626571343494844e-13,
           3.0166032070137034e-13,
           1.3402372951535815e-15,
           3.0925600004338758e-15,
           3.301729542079549e-16,
           1.3726303072626881e-12,
           7.517426869712164e-13,
           9.811852188393172e-13
          ],
          [
           3.0795923876565695e-15,
           9.39707486776559e-13,
           7.772632435643308e-13,
           3.4449100231691317e-15,
           5.153163705336609e-15,
           6.440159879433851e-15,
           2.4575251080179566e-15,
           2.2066883062135138e-13,
           3.1561797626455586e-13,
           2.4604203050865613e-13,
           2.4370031562374736e-13,
           2.741821860059216e-13,
           6.324753974452002e-13,
           5.819383536735583e-12,
           2.2099392006557792e-11,
           5.217076058335052e-11,
           1.5769837648156452e-10,
           4.145706029359162e-10,
           9.724538066554884e-10,
           5.081477837888557e-09,
           3.151066639033895e-08,
           2.1499056428243843e-07,
           2.712677560572045e-06,
           2.9669202051531688e-05,
           7.279340570226229e-05,
           2.8984653529739273e-05,
           2.6448132714150674e-06,
           2.0417136110091119e-07,
           2.8545302532944543e-08,
           4.6944697009606625e-09,
           8.790594386856264e-10,
           3.599080187586349e-10,
           1.4536618903779618e-10,
           4.446613424220366e-11,
           1.921409971578981e-11,
           5.122475831886997e-12,
           7.01916462721647e-13,
           4.627811048796124e-13,
           2.840005746554177e-13,
           2.44953081467464e-13,
           4.177362355035049e-13,
           2.63057559739208e-13,
           1.5925881138311697e-15,
           2.754444438249692e-15,
           7.386017488107906e-16,
           8.085397087025444e-15,
           7.464091790976162e-13,
           9.13216064933095e-13
          ],
          [
           5.950772730960745e-15,
           5.791201273446181e-14,
           1.4510306774774814e-14,
           4.712886648986192e-16,
           7.76202013764596e-15,
           5.788846941700434e-15,
           2.6210548638972006e-15,
           2.7275817588719876e-13,
           3.2171280550755557e-13,
           4.020004598303964e-13,
           2.645991879075227e-13,
           2.427077954932477e-13,
           1.1899761948675034e-12,
           8.589937941708082e-12,
           2.7722711278126065e-11,
           4.533969126789222e-11,
           1.732961888391555e-10,
           6.868678373353601e-10,
           8.701440013186354e-10,
           5.729809239785271e-09,
           5.455509304503283e-08,
           2.666222773882987e-07,
           6.302468755792346e-06,
           0.00018891895663832774,
           0.0007440326185143858,
           0.00018737916428113662,
           6.163617956890848e-06,
           2.5437502553213705e-07,
           5.198668641027966e-08,
           5.207648926688525e-09,
           7.568605539879906e-10,
           6.549316654032978e-10,
           1.5354060576930765e-10,
           3.526081059567489e-11,
           2.804196105120579e-11,
           6.788794891093745e-12,
           1.1692810760093448e-12,
           3.9721329960486037e-13,
           2.607864704256715e-13,
           4.027641149427042e-13,
           6.205632426167822e-13,
           2.2884816831389233e-13,
           2.1367248383782243e-15,
           3.82674312507611e-15,
           3.2984875697196137e-15,
           9.008144940866648e-16,
           5.617213171456635e-14,
           1.1759296208388708e-13
          ],
          [
           9.432657712130335e-15,
           6.242116695868613e-14,
           1.9251167875067765e-15,
           4.032987764913273e-16,
           1.2538402726852304e-14,
           2.3341207399549723e-14,
           3.68259749711537e-15,
           6.496532270513095e-13,
           4.0791903988819305e-13,
           7.692276822551708e-13,
           3.0317034199620535e-13,
           3.3728631521141546e-13,
           2.072831458454187e-12,
           1.3756074641872439e-11,
           3.890954270452191e-11,
           3.3905852260153814e-11,
           1.589898280291579e-10,
           1.2139521919936649e-09,
           6.702675093737432e-10,
           5.606713578561412e-09,
           9.069343706555499e-08,
           3.1141123734727646e-07,
           1.3127699801867511e-05,
           0.0009404593408728524,
           0.005521706412749322,
           0.0009422037917373388,
           1.289042244561544e-05,
           2.980202199073946e-07,
           8.910510570226063e-08,
           4.933469234540028e-09,
           5.444210840814315e-10,
           1.214089008945812e-09,
           1.2818774168047732e-10,
           2.1765545048045826e-11,
           4.1753014662133504e-11,
           8.454086519293284e-12,
           1.958105056447173e-12,
           4.325806518577232e-13,
           2.5039132288560545e-13,
           7.775857569749516e-13,
           8.609108612534037e-13,
           5.004732666365799e-13,
           2.4790928809074343e-15,
           1.4597625236585782e-14,
           8.6031143530352e-15,
           8.127931900017982e-16,
           2.3988433219390023e-15,
           9.113241422860148e-14
          ],
          [
           7.860466885339235e-15,
           9.203892485680393e-14,
           3.8824782033430337e-16,
           1.8934688852400107e-15,
           1.901840348514887e-14,
           4.3415197069717633e-14,
           4.533717643988946e-15,
           1.5283983371042434e-12,
           5.439851820697034e-13,
           1.3274929193448906e-12,
           3.5331906633068383e-13,
           8.438404392282081e-13,
           3.100223291777388e-12,
           2.1129354244833213e-11,
           5.618255194066976e-11,
           2.5637953596801906e-11,
           1.393622221896181e-10,
           1.915147162693522e-09,
           4.5714324459845796e-10,
           4.9848568900491235e-09,
           1.3256207516816402e-07,
           3.405581419383973e-07,
           2.429500910230437e-05,
           0.0035306442720386007,
           0.03218810878072827,
           0.003565426887085393,
           2.4031443548287953e-05,
           3.2813892803109495e-07,
           1.3185936866574934e-07,
           4.301587937988383e-09,
           3.4380139539414e-10,
           1.936852714789234e-09,
           1.0756277329149894e-10,
           1.3909633067687595e-11,
           6.044344363407645e-11,
           1.0456073331825233e-11,
           2.947046130694408e-12,
           8.634517524435603e-13,
           2.698000531257938e-13,
           1.3392845717017439e-12,
           9.986065254553677e-13,
           1.3527859992585609e-12,
           2.8591247419893815e-15,
           3.042638399775701e-14,
           1.703879036809555e-14,
           1.6373629646241235e-15,
           2.4930130834093922e-15,
           1.3335099313404453e-13
          ],
          [
           6.670569576028759e-15,
           1.2375513431070134e-13,
           3.684798235956287e-17,
           3.550310961543835e-15,
           2.526731587563478e-14,
           5.142901940311069e-14,
           4.606681815655496e-15,
           2.5525673489968117e-12,
           6.96754307574007e-13,
           1.8661891301175423e-12,
           3.8141274604404685e-13,
           1.678069945695732e-12,
           3.937524144690592e-12,
           2.7148241174595652e-11,
           7.519445310365676e-11,
           2.165162895421348e-11,
           1.2326276052130252e-10,
           2.5137608178239924e-09,
           3.099628775210534e-10,
           4.403101519046839e-09,
           1.6782985950309155e-07,
           3.493414101149949e-07,
           3.6655379944947744e-05,
           0.009248901931694444,
           0.14778007693797346,
           0.009341595296953423,
           3.647674666010033e-05,
           3.4157442742976506e-07,
           1.676275186351308e-07,
           3.969021563333721e-09,
           2.4132292918504126e-10,
           2.534146259021841e-09,
           1.0361123534417708e-10,
           1.4273541689585751e-11,
           7.852462849194462e-11,
           1.3651555933307033e-11,
           3.831684047867641e-12,
           1.6608841973343837e-12,
           3.171219534231421e-13,
           1.874403029124142e-12,
           9.796615440865589e-13,
           2.4456910257802103e-12,
           3.4758198100703922e-15,
           4.248952248363522e-14,
           2.510266955090814e-14,
           2.9456922074371885e-15,
           2.4026544384078914e-15,
           1.5764554704169855e-13
          ],
          [
           8.530821319813289e-15,
           1.4949580049641322e-13,
           1.03692876368642e-15,
           3.9327346690207635e-15,
           2.8119707885082792e-14,
           4.930802569215319e-14,
           4.141182210454613e-15,
           2.984481192730743e-12,
           8.543693450950737e-13,
           2.0947791042705525e-12,
           3.6568126717098647e-13,
           2.1029704679870446e-12,
           4.2272441048294165e-12,
           2.2813232051547193e-11,
           8.507380071790573e-11,
           1.826321001403559e-11,
           1.1058349706153524e-10,
           2.755043511474375e-09,
           2.3874446425814615e-10,
           4.035468177527815e-09,
           1.8209003037862583e-07,
           3.4728713981222797e-07,
           4.20188672658921e-05,
           0.01326949202743411,
           0.2927020982326788,
           0.013287021707545803,
           4.206016405006775e-05,
           3.4726035030856383e-07,
           1.8209768924113046e-07,
           4.039770541332697e-09,
           2.3854240402177553e-10,
           2.7550769536117454e-09,
           1.1068340982421139e-10,
           1.8259303523822077e-11,
           8.506898994491495e-11,
           2.2794732247462885e-11,
           4.229918808013489e-12,
           2.0998604664988825e-12,
           3.655212458661534e-13,
           2.0947813515872603e-12,
           8.544668120029048e-13,
           2.9856549490411175e-12,
           4.168872544198007e-15,
           4.9377057364774565e-14,
           2.8140476169746705e-14,
           3.916094017278814e-15,
           1.0295932262333754e-15,
           1.4932014265150725e-13
          ],
          [
           1.840310911429465e-15,
           1.5807537181964173e-13,
           2.4020979902542594e-15,
           2.9564714740805166e-15,
           2.505600978247053e-14,
           4.244756043675288e-14,
           3.464976643056551e-15,
           2.44689121140603e-12,
           9.79335558606808e-13,
           1.874746809533343e-12,
           3.172530690289448e-13,
           1.6639757247632754e-12,
           3.830116400574619e-12,
           1.3677477340882965e-11,
           7.854609635773931e-11,
           1.4279422012104335e-11,
           1.0349857780255271e-10,
           2.5345445771570815e-09,
           2.4146783184472583e-10,
           3.963954224251379e-09,
           1.6765602254262794e-07,
           3.4158313041563255e-07,
           3.6449711226037025e-05,
           0.00933984674199491,
           0.14807950967565342,
           0.00926486435733718,
           3.6693446226528075e-05,
           3.4931385171562133e-07,
           1.6787351697310893e-07,
           4.406352990957772e-09,
           3.0969475490056067e-10,
           2.51415754667654e-09,
           1.2334316372751024e-10,
           2.1647658792669015e-11,
           7.52062584013824e-11,
           2.716754864386564e-11,
           3.940674310825e-12,
           1.6758705521344955e-12,
           3.813920523195942e-13,
           1.866648313655372e-12,
           6.966796326362291e-13,
           2.554972160460088e-12,
           4.631009281978892e-15,
           5.146403535431012e-14,
           2.5257464767645498e-14,
           3.5338200110429592e-15,
           3.4555661670639647e-17,
           1.2386645970730593e-13
          ],
          [
           2.4411203024028278e-15,
           1.3384725987228306e-13,
           2.482008896192671e-15,
           1.6405562235016219e-15,
           1.7003236702289402e-14,
           3.044978139857519e-14,
           2.8649848745852333e-15,
           1.3547276937561908e-12,
           9.984357326742504e-13,
           1.339650537262157e-12,
           2.6982452136102265e-13,
           8.655892398103677e-13,
           2.9465252031457727e-12,
           1.0474956180637457e-11,
           6.046991627785594e-11,
           1.3912549633649989e-11,
           1.0743999754588e-10,
           1.937535386542758e-09,
           3.438293871697261e-10,
           4.296370348747566e-09,
           1.3190336429122667e-07,
           3.2812369377984423e-07,
           2.4022364213963718e-05,
           0.0035682551884885783,
           0.03224857767670232,
           0.0035355783104086074,
           2.4316934571842152e-05,
           3.405467819932957e-07,
           1.3262110026184356e-07,
           4.98701107206349e-09,
           4.568047837584756e-10,
           1.9157506905830255e-09,
           1.3941296618112557e-10,
           2.5629616269133046e-11,
           5.620118525633956e-11,
           2.115201555714787e-11,
           3.1029414504978805e-12,
           8.427660509547594e-13,
           3.534876780896336e-13,
           1.3281766947911845e-12,
           5.439986779761113e-13,
           1.529951344195706e-12,
           4.53888966583551e-15,
           4.3416994185125117e-14,
           1.9006087733179057e-14,
           1.88406289682496e-15,
           3.979360560444518e-16,
           9.228470811716388e-14
          ],
          [
           3.2507303910604537e-15,
           9.159138930401321e-14,
           2.3935404192535673e-15,
           8.078407140557395e-16,
           8.59452112520011e-15,
           1.4641236180835186e-14,
           2.4880988093670584e-15,
           5.014503355215995e-13,
           8.611858220768285e-13,
           7.777819502351444e-13,
           2.5033624291566403e-13,
           4.334748304136662e-13,
           1.9581001703647808e-12,
           8.461331361296014e-12,
           4.177244531808085e-11,
           2.175868529889593e-11,
           1.280692511718783e-10,
           1.2147164474569697e-09,
           5.442635375174071e-10,
           4.929016419154488e-09,
           8.914222874625102e-08,
           2.9798888494061946e-07,
           1.2889771434263569e-05,
           0.0009432624228676008,
           0.005529542576009095,
           0.0009413919295801786,
           1.3136358903402026e-05,
           3.114251573276141e-07,
           9.074468220286885e-08,
           5.607836146446494e-09,
           6.699528862932485e-10,
           1.2145350192621726e-09,
           1.5900860637404716e-10,
           3.389592641145375e-11,
           3.8926572322384273e-11,
           1.3770437581802033e-11,
           2.074549499116042e-12,
           3.3684015553190307e-13,
           3.0340967699886285e-13,
           7.697920168199056e-13,
           4.08050633926971e-13,
           6.500984651785946e-13,
           3.674703445254505e-15,
           2.333769054642279e-14,
           1.2540720779867043e-14,
           4.018056963921891e-16,
           1.940771746144839e-15,
           6.260983282265257e-14
          ],
          [
           1.0821843878723209e-14,
           1.1796873262714404e-13,
           5.58280955124749e-14,
           8.821690072307253e-16,
           3.3017565855662223e-15,
           3.8395109075010714e-15,
           2.1417756706487145e-15,
           2.290181080788637e-13,
           6.210133246742753e-13,
           4.0284960820316146e-13,
           2.6067786590143e-13,
           3.972936236849051e-13,
           1.1693745027400627e-12,
           6.789413545425135e-12,
           2.8051811918806005e-11,
           3.524589073875088e-11,
           1.5346319231240625e-10,
           6.553011629343075e-10,
           7.565519138571723e-10,
           5.204829264040176e-09,
           5.20080385507173e-08,
           2.543396566148326e-07,
           6.164877061466464e-06,
           0.00018761122525532236,
           0.0007449347732551238,
           0.00018908652967123616,
           6.305258155420992e-06,
           2.6666330570099007e-07,
           5.458858816980128e-08,
           5.730308263554245e-09,
           8.700049839629688e-10,
           6.872445361491211e-10,
           1.7329753094825046e-10,
           4.533768987769086e-11,
           2.773424268778528e-11,
           8.596478679682372e-12,
           1.1907601964246877e-12,
           2.4249945839955036e-13,
           2.64800204628122e-13,
           4.02315468586289e-13,
           3.2183250317008516e-13,
           2.7282072283295836e-13,
           2.61392766983985e-15,
           5.787899928165133e-15,
           7.774977909054012e-15,
           4.685337524197686e-16,
           1.441174262398138e-14,
           5.790098667477242e-14
          ],
          [
           1.6441548754186154e-16,
           9.11693810773153e-13,
           7.463217296621528e-13,
           7.955140023994892e-15,
           7.403558032754897e-16,
           2.750190039408435e-15,
           1.5933520203744377e-15,
           2.629987499611419e-13,
           4.180662940976862e-13,
           2.4503741420452233e-13,
           2.838792441149724e-13,
           4.626548675206509e-13,
           7.019182086326199e-13,
           5.121736867162676e-12,
           1.9217688540549766e-11,
           4.445269090145969e-11,
           1.4534179192217788e-10,
           3.600544320015497e-10,
           8.787419062016962e-10,
           4.693505650121235e-09,
           2.8553792325010213e-08,
           2.0414802432415013e-07,
           2.645726769077113e-06,
           2.902103255497002e-05,
           7.289526108150051e-05,
           2.969619443499697e-05,
           2.7135590963588557e-06,
           2.150487571522107e-07,
           3.152880303508276e-08,
           5.0820100508032945e-09,
           9.725476340292293e-10,
           4.147524989577885e-10,
           1.5769453049286506e-10,
           5.217794235133371e-11,
           2.2105222183030625e-11,
           5.821249508072618e-12,
           6.326711699358445e-13,
           2.7408262075979613e-13,
           2.4384125161131286e-13,
           2.4620308994381835e-13,
           3.157446510971647e-13,
           2.2069520467670757e-13,
           2.4547906777717654e-15,
           6.446783453110628e-15,
           5.170119731077321e-15,
           3.39654677604255e-15,
           7.772377709654653e-13,
           9.401281851532873e-13
          ],
          [
           2.823190672561644e-16,
           9.80638915756652e-13,
           7.516904583142427e-13,
           1.3727873955146783e-12,
           3.243669209480915e-16,
           3.098213652649806e-15,
           1.339575373662822e-15,
           3.0163826013814583e-13,
           3.3646946321129725e-13,
           2.2930322090883435e-13,
           3.218369766356851e-13,
           5.726280745207568e-13,
           5.385952965217175e-13,
           3.946376084308837e-12,
           1.50593958866527e-11,
           4.23784761108148e-11,
           1.116111851098067e-10,
           2.285114260160667e-10,
           8.91189031265705e-10,
           4.027926156774218e-09,
           1.6856506525853603e-08,
           1.4501887783481697e-07,
           1.2098693088547883e-06,
           3.7518330899959493e-06,
           5.571871642239087e-06,
           4.008598659704312e-06,
           1.2404270846384306e-06,
           1.5420443327233216e-07,
           1.9499801107111358e-08,
           4.321524393997882e-09,
           9.787884718115666e-10,
           2.9391566892035327e-10,
           1.2314082236947893e-10,
           4.836442839348181e-11,
           2.0176212820410316e-11,
           4.3232624658703814e-12,
           4.0609682399516634e-13,
           3.410276450066604e-13,
           2.328658548150342e-13,
           2.1952201872789343e-13,
           3.4433979693999836e-13,
           2.3777869374924494e-13,
           3.0615442374138647e-15,
           1.7064571066388574e-14,
           4.9326289145418186e-15,
           1.0252871393468947e-12,
           7.652691385917024e-13,
           9.77453805722963e-13
          ],
          [
           2.497320576864499e-16,
           9.921960122875336e-13,
           7.577790359506914e-13,
           1.608368812854506e-12,
           8.224461504073971e-15,
           1.4426255422478204e-15,
           2.6976038164060057e-15,
           2.9178737858117437e-13,
           3.497950955063471e-13,
           2.799066993433323e-13,
           3.878963699576749e-13,
           6.665335105222595e-13,
           6.032108236811937e-13,
           3.622461084832249e-12,
           1.3688527420896778e-11,
           3.266648566681232e-11,
           9.331115235697639e-11,
           1.8853228218311308e-10,
           8.022905438043574e-10,
           3.2784350426904326e-09,
           1.1321950008910774e-08,
           8.9867475264101e-08,
           5.270895171307719e-07,
           8.166493578674182e-07,
           8.029769690934265e-07,
           8.998910325730916e-07,
           5.4905059810358e-07,
           9.683205547420035e-08,
           1.3366848387981004e-08,
           3.5441091752410336e-09,
           8.962636784759697e-10,
           2.503634707114493e-10,
           1.0375131621080412e-10,
           3.761675022252082e-11,
           1.789593588076847e-11,
           3.691193381972985e-12,
           4.0174903647804923e-13,
           4.0416881290659633e-13,
           2.5159040210653637e-13,
           2.4956872190919035e-13,
           3.438642022081401e-13,
           2.3902335332406744e-13,
           3.003245904797226e-15,
           2.09991697270051e-14,
           1.4097687206318359e-14,
           1.6301032383535558e-12,
           7.585427940490922e-13,
           9.797023708212848e-13
          ],
          [
           9.828712170176398e-15,
           9.846366389084366e-13,
           7.676513067100154e-13,
           1.609610442347895e-12,
           1.1476236458092435e-13,
           4.308709163788185e-15,
           6.1816990339901946e-15,
           2.592687038790445e-13,
           3.6450991246606114e-13,
           3.3962623030516373e-13,
           4.2748802567177385e-13,
           6.330367342235193e-13,
           7.444654498334218e-13,
           3.8940297776157426e-12,
           1.1309392417337482e-11,
           2.4172922036557224e-11,
           7.870952218179486e-11,
           1.9504639560050294e-10,
           6.322381681967228e-10,
           2.2569542396907226e-09,
           9.059274893662579e-09,
           5.3075255183871784e-08,
           2.4346566970400647e-07,
           4.907295645783383e-07,
           5.071449110850199e-07,
           5.159338814579953e-07,
           2.596811314932345e-07,
           5.82763258576793e-08,
           1.0322790319063148e-08,
           2.5596387155390135e-09,
           7.287936374673303e-10,
           2.330097335919247e-10,
           9.297635171008263e-11,
           2.937272491808151e-11,
           1.3476536019648748e-11,
           3.973502993136448e-12,
           4.677312844372055e-13,
           4.0451651038550975e-13,
           2.926424979704323e-13,
           2.8451389635886615e-13,
           3.038182006461075e-13,
           2.2635238520443186e-13,
           1.9351529250578217e-15,
           1.888581866752797e-14,
           1.3061864178874086e-13,
           1.6427512961851757e-12,
           7.626421959903561e-13,
           9.713147825734292e-13
          ],
          [
           1.0190144541656658e-15,
           9.646485298497713e-13,
           7.799400043700806e-13,
           1.5897541358546478e-12,
           5.907346984518105e-13,
           1.157725360396247e-14,
           9.923797230826313e-15,
           2.1738492314705713e-13,
           3.1892356323540795e-13,
           3.6176652392145543e-13,
           3.8303136455026773e-13,
           5.225312047669326e-13,
           7.314840497482724e-13,
           3.5258828481031924e-12,
           9.157130637981541e-12,
           2.1013077710072135e-11,
           5.969505984511307e-11,
           1.7946711406534068e-10,
           4.673056821628953e-10,
           1.499245383071285e-09,
           7.224923823750881e-09,
           2.9842604706148456e-08,
           1.2353240177841748e-07,
           4.880946408271734e-07,
           9.224892672893197e-07,
           4.97002999373691e-07,
           1.3642796549353594e-07,
           3.3477562700658034e-08,
           7.829763972503139e-09,
           1.7890772743956504e-09,
           5.611456878471403e-10,
           2.0089767426508004e-10,
           7.717031162086779e-11,
           2.761682098414306e-11,
           1.0326056474664044e-11,
           3.592478618713134e-12,
           4.4570312670287316e-13,
           3.4840915541398646e-13,
           2.968750106387677e-13,
           2.8672527772638233e-13,
           2.44691030229802e-13,
           2.1696999363648555e-13,
           1.0778372301813367e-15,
           2.0630387957457226e-14,
           6.070758736986967e-13,
           1.625768113171576e-12,
           7.751875302247487e-13,
           9.504539613901172e-13
          ],
          [
           9.044372175478814e-16,
           9.386284700622224e-13,
           7.934910894034853e-13,
           1.5573975966159377e-12,
           7.716556101692154e-13,
           2.4469723254798644e-14,
           1.0673395763670613e-14,
           1.9193616160609493e-13,
           2.6267140282266754e-13,
           3.248537242036261e-13,
           3.0119990638080997e-13,
           3.9089949700914876e-13,
           5.540074256700324e-13,
           2.176813799922869e-12,
           1.0035340951573162e-11,
           1.8478308589141713e-11,
           4.8895342469351346e-11,
           1.7213198341958607e-10,
           3.710066546136426e-10,
           1.0669749290948222e-09,
           5.113360090057346e-09,
           1.603449056514144e-08,
           6.458240998258865e-08,
           4.505672688773532e-07,
           9.78204662281619e-07,
           4.552142352505331e-07,
           7.236962367497733e-08,
           1.8215467309778962e-08,
           5.418151343783519e-09,
           1.318352541559209e-09,
           4.608910956626971e-10,
           1.8529549259390005e-10,
           6.194743986835768e-11,
           2.513680771981392e-11,
           1.0386512752661829e-11,
           2.127193924173536e-12,
           3.310124244536413e-13,
           2.6040835248859565e-13,
           2.4848584230254506e-13,
           2.4714078930963954e-13,
           1.9558061163818444e-13,
           2.291994207578624e-13,
           8.821555308266807e-16,
           3.6608024002343205e-14,
           7.71317657128801e-13,
           1.5877295989271436e-12,
           7.920203159246187e-13,
           9.189541369416214e-13
          ],
          [
           2.0406321935066636e-15,
           9.094619449793599e-13,
           8.078084933700298e-13,
           1.522457857958095e-12,
           8.32445167473806e-13,
           8.32909080202804e-14,
           7.185274734397285e-15,
           2.1784527912583992e-13,
           2.4144939278983036e-13,
           2.5424806846301765e-13,
           2.3286625535698386e-13,
           2.927098045460733e-13,
           4.189692783179921e-13,
           1.543823843808244e-12,
           9.844616233166331e-12,
           1.4540526227407386e-11,
           4.412459216496371e-11,
           1.7365350864999604e-10,
           3.261798956602039e-10,
           8.328635875744078e-10,
           3.6887655475735766e-09,
           9.597132614084134e-09,
           3.489145133490959e-08,
           2.1283499090750962e-07,
           4.6154883953566017e-07,
           2.158517837410122e-07,
           3.9296692825085244e-08,
           1.085834330977077e-08,
           3.887401593665117e-09,
           1.0498951589804236e-09,
           4.0692770186120756e-10,
           1.8581623645988332e-10,
           5.895035543468996e-11,
           1.944260633174987e-11,
           1.0141490691672443e-11,
           1.4926923278346643e-12,
           2.364287356197542e-13,
           1.9278886222261732e-13,
           1.9302530952413647e-13,
           1.906638118149418e-13,
           1.7046645749187906e-13,
           2.607145941008079e-13,
           6.714190973638764e-16,
           1.0837657155769122e-13,
           8.151198753017998e-13,
           1.5425886820870648e-12,
           8.123425939654721e-13,
           8.832105548124067e-13
          ],
          [
           5.760463705324804e-14,
           8.75715798621414e-13,
           8.225689445748908e-13,
           1.4945653128699013e-12,
           8.773030711337181e-13,
           5.209591759748808e-13,
           2.2645221588014335e-15,
           3.273164344545776e-13,
           2.2253888707128098e-13,
           1.9635752686303745e-13,
           1.9944285569905095e-13,
           2.6981660274747693e-13,
           4.065321107758476e-13,
           1.3261066464809648e-12,
           6.843989702131039e-12,
           1.560021966806328e-11,
           4.965769520376073e-11,
           1.3143759793278644e-10,
           2.808912962554147e-10,
           7.324574726649449e-10,
           2.292326338217736e-09,
           6.182023347527111e-09,
           1.862068966471747e-08,
           6.442633356218253e-08,
           1.0704505711168633e-07,
           6.658735016809254e-08,
           2.0277865968953842e-08,
           6.870484193965365e-09,
           2.5544932212561236e-09,
           8.651741415853412e-10,
           3.4128774034744825e-10,
           1.5720965950772052e-10,
           6.296587952579359e-11,
           1.9585954721574112e-11,
           7.407144496716183e-12,
           1.2805535444028895e-12,
           2.16023115189794e-13,
           1.7252787702846487e-13,
           1.6520018353259215e-13,
           1.513406751493853e-13,
           1.6761877079866358e-13,
           3.117470906256079e-13,
           3.2018945457865074e-16,
           5.054081769636109e-13,
           8.388090188146264e-13,
           1.5029694482495244e-12,
           8.399096480571913e-13,
           8.512608602876664e-13
          ],
          [
           1.5726480385567624e-16,
           8.344207609828066e-13,
           8.374968933685515e-13,
           1.4758797189317425e-12,
           9.2008511773691e-13,
           9.055829903197353e-13,
           4.284632708550297e-16,
           5.078054028000988e-13,
           1.8434853327481137e-13,
           1.7223342328962165e-13,
           2.217454340579726e-13,
           2.8078813443675475e-13,
           4.2673101674370843e-13,
           9.210212529488742e-13,
           6.0842807787508845e-12,
           1.830266884150881e-11,
           4.4956923754550613e-11,
           8.871405562652354e-11,
           2.2233216236152752e-10,
           5.814999400798356e-10,
           1.294797042126358e-09,
           3.885686316106406e-09,
           1.0479085517555845e-08,
           1.4567226583497836e-08,
           2.3499391074310058e-08,
           1.6198592362798254e-08,
           1.079782058571703e-08,
           4.228739485847013e-09,
           1.5622257135589982e-09,
           6.505849960255085e-10,
           2.6038155805719263e-10,
           1.1572037820611388e-10,
           5.332514629173377e-11,
           2.1512789086556583e-11,
           6.561386945155047e-12,
           8.964483930043542e-13,
           2.326857643300054e-13,
           1.8325729270713492e-13,
           1.6804282113386755e-13,
           1.3939961846736174e-13,
           1.8619180204519605e-13,
           3.9247734418359833e-13,
           5.235023576458099e-16,
           8.86253062028404e-13,
           8.56757358127092e-13,
           1.4727609664668075e-12,
           8.767225658091311e-13,
           8.263334345028133e-13
          ],
          [
           3.683626826963922e-16,
           7.876282517593283e-13,
           8.571440167496371e-13,
           1.4603936137077363e-12,
           9.537466572990196e-13,
           9.548876520204531e-13,
           7.358548630007626e-15,
           6.546882383843417e-13,
           1.7671420950003387e-13,
           1.7530779958145654e-13,
           2.735894199436506e-13,
           2.8345766373608915e-13,
           3.736169647641695e-13,
           5.907907054787319e-13,
           6.4577047679266535e-12,
           1.458772302628197e-11,
           3.1399157251333343e-11,
           6.66652188239698e-11,
           1.904982866074042e-10,
           4.891504069946355e-10,
           8.113010259393998e-10,
           2.7721897298296855e-09,
           5.649727643775014e-09,
           1.0194080348769241e-08,
           3.0131325146447697e-08,
           1.1460156731314972e-08,
           5.658281518051415e-09,
           2.989315670138819e-09,
           1.0732049036706862e-09,
           5.233558615115672e-10,
           2.192724349073476e-10,
           9.357747979556674e-11,
           3.873244205545247e-11,
           1.6233892478892622e-11,
           6.868991047612908e-12,
           4.991252732621577e-13,
           2.1562731720473968e-13,
           2.0446019678421047e-13,
           1.8168208919028775e-13,
           1.425204789408669e-13,
           2.3226540607323897e-13,
           4.74732672755369e-13,
           8.090197817634926e-15,
           9.384931507286984e-13,
           8.728808551361474e-13,
           1.4474862148544238e-12,
           9.177017401450548e-13,
           8.031859382145584e-13
          ],
          [
           1.5385709346395122e-15,
           7.458859915515274e-13,
           8.955478582231259e-13,
           1.4410267320363399e-12,
           9.655413034234113e-13,
           9.329094538816008e-13,
           5.211652142739429e-14,
           6.895658890459244e-13,
           2.4608208467589673e-13,
           1.9071289494817193e-13,
           2.6984984607592214e-13,
           2.7802938920906695e-13,
           2.7477646156764325e-13,
           3.6624707650024487e-13,
           4.451477151257762e-12,
           9.874010468123138e-12,
           3.137184910475797e-11,
           6.16900314348308e-11,
           1.6807032277111985e-10,
           3.9052794244032e-10,
           6.173083950808429e-10,
           1.8339240751028856e-09,
           3.0187541743253013e-09,
           4.957936130599685e-09,
           1.8495929314796585e-08,
           5.636963487321466e-09,
           3.0557975088102223e-09,
           1.9957035792039105e-09,
           8.186860547927747e-10,
           4.193173962838237e-10,
           1.936330728510098e-10,
           9.109414197297035e-11,
           3.6107758482043325e-11,
           1.0603539552927386e-11,
           4.81818495581889e-12,
           2.542433616021598e-13,
           1.6755098224516317e-13,
           2.0364267395926584e-13,
           1.7595804062840436e-13,
           1.4796389282066855e-13,
           3.015646286239129e-13,
           5.415212994241613e-13,
           5.4009308137474746e-14,
           8.878122308847555e-13,
           8.926800007226565e-13,
           1.420054158993943e-12,
           9.534722641839657e-13,
           7.713714124235665e-13
          ],
          [
           8.807052072953649e-14,
           7.193792890865423e-13,
           9.66953325178248e-13,
           1.4133957883139183e-12,
           9.483353595672852e-13,
           8.200287788362481e-13,
           1.495824369314125e-13,
           6.388298933669077e-13,
           3.97583455834462e-13,
           2.0610427150315817e-13,
           2.0363954841936601e-13,
           2.369326436165682e-13,
           2.082632417828308e-13,
           3.003404291116956e-13,
           2.4472337824560805e-12,
           8.378398503392052e-12,
           2.720327506543424e-11,
           5.674933328130065e-11,
           1.1655267700501873e-10,
           2.4566582400534453e-10,
           5.019138228831738e-10,
           1.1688384257280877e-09,
           2.043147095355229e-09,
           1.2439325917293477e-09,
           1.0061746598392477e-09,
           1.395069098874691e-09,
           2.1912196418348883e-09,
           1.2956451234774997e-09,
           5.955346198267229e-10,
           2.832552932470187e-10,
           1.3693225804032457e-10,
           7.006391758365633e-11,
           3.281556059317935e-11,
           8.854745862624135e-12,
           2.661869997793989e-12,
           1.636208750127606e-13,
           1.309360639791001e-13,
           1.682318169890219e-13,
           1.5077856742088827e-13,
           1.5381627648308671e-13,
           3.840059497681181e-13,
           6.156236304806234e-13,
           1.6267723846909102e-13,
           7.923568697111793e-13,
           9.219327973760816e-13,
           1.3850699061600025e-12,
           9.772732632924475e-13,
           7.240986714988319e-13
          ],
          [
           4.577569146902158e-15,
           7.070601214906711e-13,
           1.0705368347194548e-12,
           1.375308779027929e-12,
           9.079908795216444e-13,
           6.769506958209114e-13,
           2.57351497763642e-13,
           5.843199624996839e-13,
           5.811425582743936e-13,
           2.1624239227380516e-13,
           1.4525146085916896e-13,
           1.7089807872214437e-13,
           1.9782667202135891e-13,
           3.145448319883494e-13,
           1.7599984985151457e-12,
           6.6616197434967326e-12,
           1.645908704297051e-11,
           4.075566283775893e-11,
           8.940160724640051e-11,
           1.8019587864776498e-10,
           4.802008815590893e-10,
           8.473540788459754e-10,
           1.3817628386801506e-09,
           5.395542178278853e-09,
           1.044381814901979e-08,
           5.248324339331697e-09,
           1.5766957594839554e-09,
           9.642326048024513e-10,
           5.035315409139626e-10,
           2.3061697455522948e-10,
           1.0867410547949611e-10,
           4.7671661003461904e-11,
           1.9508418989620274e-11,
           7.071510209383765e-12,
           1.8755036762192686e-12,
           1.1790788325127495e-13,
           1.244206973567584e-13,
           1.27186604301805e-13,
           1.1481928537694332e-13,
           1.6625571190672696e-13,
           4.636316779213935e-13,
           7.077776657226817e-13,
           3.0543025337769084e-13,
           7.200449368106584e-13,
           9.598498201864148e-13,
           1.3399618054815152e-12,
           9.908794298231205e-13,
           6.662604578068451e-13
          ],
          [
           4.4907110648085424e-15,
           6.949168744161853e-13,
           1.1791676739556513e-12,
           1.3241301155149273e-12,
           8.611193864367946e-13,
           5.754211082179187e-13,
           3.525594330127054e-13,
           6.015676238909648e-13,
           7.171648728984578e-13,
           2.2575872307173487e-13,
           1.0898458071905073e-13,
           1.4328749372365796e-13,
           2.338277440814131e-13,
           2.970529953015755e-13,
           1.2925922845509773e-12,
           3.436052761912374e-12,
           9.5902529288962e-12,
           4.5040397147930166e-11,
           8.736550865243578e-11,
           1.4194457559222744e-10,
           4.0092933214961364e-10,
           5.789740857081066e-10,
           1.0260835151509304e-09,
           7.849444077648858e-09,
           2.2693920285331134e-08,
           7.682699235204779e-09,
           1.2044042104739778e-09,
           6.658388734605813e-10,
           3.96323948606964e-10,
           2.0202036555342766e-10,
           1.0758164341148621e-10,
           4.552592034095373e-11,
           1.0911366121710915e-11,
           3.849678047967753e-12,
           1.6237456972798012e-12,
           1.1308173979432775e-13,
           1.5645576256664837e-13,
           1.0772445942140401e-13,
           7.898191682702672e-14,
           1.9374344044897437e-13,
           5.392859948863102e-13,
           7.957492804941617e-13,
           4.456000169153933e-13,
           6.847939217926505e-13,
           9.858123440286273e-13,
           1.2794097248164402e-12,
           1.0029113371747306e-12,
           6.1293279754729e-13
          ],
          [
           4.765602089384455e-15,
           6.611603159339071e-13,
           1.225008243492468e-12,
           1.245427536337013e-12,
           8.229134298233171e-13,
           5.082701769447305e-13,
           4.3331191008706335e-13,
           7.313196894507445e-13,
           7.760961931868524e-13,
           2.533822380412618e-13,
           8.009179783314766e-14,
           1.6190727022488734e-13,
           2.87052269865865e-13,
           2.651433675288233e-13,
           8.192723669233737e-13,
           1.5619096413908609e-12,
           5.923053452978407e-12,
           3.175302422448228e-11,
           6.584750072462084e-11,
           1.1295823253529453e-10,
           2.6407107115036665e-10,
           4.3218144704177775e-10,
           8.334552606814005e-10,
           4.721436721314428e-09,
           1.0801931292956315e-08,
           4.626418428706942e-09,
           9.776835765500601e-10,
           4.891837155415798e-10,
           2.690972910970533e-10,
           1.403798360093506e-10,
           8.027703991324058e-11,
           3.330856575016162e-11,
           6.65778270372732e-12,
           1.7581765222228682e-12,
           9.832396098771346e-13,
           1.359589408346812e-13,
           2.230956678467795e-13,
           1.15728382973297e-13,
           5.722312471553054e-14,
           2.481204736947664e-13,
           6.308432560360167e-13,
           8.704558920835216e-13,
           5.52359627855779e-13,
           6.578258952642873e-13,
           9.456443191798113e-13,
           1.1732263956114797e-12,
           1.0133593275749909e-12,
           5.780798476987052e-13
          ],
          [
           7.057957175066484e-14,
           5.956817632148612e-13,
           1.1291446554418963e-12,
           1.1141293720453824e-12,
           8.033244487078247e-13,
           4.633765127806995e-13,
           5.090220211646397e-13,
           9.65178331402036e-13,
           7.995815742361039e-13,
           3.2288915658631104e-13,
           6.734144820529726e-14,
           1.8369339105153862e-13,
           3.115585407014107e-13,
           2.272039613285735e-13,
           3.64885484149949e-13,
           8.777803881154745e-13,
           2.0728120847583263e-12,
           9.690444985448781e-12,
           5.3868316522372694e-11,
           1.0116985643707079e-10,
           2.1226123459342782e-10,
           3.703408561351901e-10,
           6.785352671883282e-10,
           1.7862199419058004e-09,
           2.7573055432397863e-09,
           1.8003891224012801e-09,
           7.238242774992016e-10,
           4.0226138876073734e-10,
           2.2862762106385615e-10,
           1.1658975735514652e-10,
           6.376154195271455e-11,
           1.0873609635881534e-11,
           2.103733254910037e-12,
           9.145344803712647e-13,
           3.4166380617858747e-13,
           1.3722126255998013e-13,
           2.7990529547892327e-13,
           1.5815882916134506e-13,
           4.5812312007806955e-14,
           3.384793198705827e-13,
           7.496863784827882e-13,
           9.547251215264363e-13,
           5.981880086357527e-13,
           6.024813166798835e-13,
           7.976256846563997e-13,
           9.964994151013529e-13,
           1.0316142557806155e-12,
           5.658042483364173e-13
          ],
          [
           1.885251722214081e-15,
           5.264429426840357e-13,
           9.367701058629563e-13,
           9.492974358594352e-13,
           8.105299132353802e-13,
           4.477986011307537e-13,
           6.171840710705102e-13,
           1.222937252332465e-12,
           8.295101057203393e-13,
           4.049875307568916e-13,
           8.16255377636665e-14,
           1.8734629545902266e-13,
           2.838414006922068e-13,
           1.7834051649238661e-13,
           1.9495778726617188e-13,
           4.333147453258552e-13,
           3.874649619236806e-13,
           6.008326854147303e-13,
           6.085372388553095e-11,
           1.1752480685977248e-10,
           1.6236238628421113e-10,
           2.935680275144499e-10,
           5.269812671089669e-10,
           1.6096705517906004e-09,
           4.203013544533602e-09,
           1.7361339381456133e-09,
           5.192258825318068e-10,
           3.0602003619846337e-10,
           2.0178243945004492e-10,
           1.1146671347369935e-10,
           6.88116418923987e-11,
           1.9922352786051842e-13,
           2.815473960425381e-13,
           3.6093528576607074e-13,
           1.3046233759296676e-13,
           1.2165285440308154e-13,
           2.761197124299231e-13,
           2.2600763184134943e-13,
           3.6504008036092305e-14,
           4.2789384666437445e-13,
           8.744001748746697e-13,
           1.0432869024520421e-12,
           6.034332020567608e-13,
           5.259063394628423e-13,
           6.222221094130406e-13,
           8.302017523260152e-13,
           1.1124486081556912e-12,
           5.721315145324215e-13
          ],
          [
           1.7666243675183313e-15,
           4.918236788301507e-13,
           7.829664243701164e-13,
           7.916513077236346e-13,
           8.134692555618141e-13,
           4.683504664640943e-13,
           8.192965503242616e-13,
           1.3839389442455317e-12,
           8.709411144120171e-13,
           4.707622092091786e-13,
           1.946920277869092e-13,
           1.8292300192225782e-13,
           2.2382583222367775e-13,
           1.4578133462877393e-13,
           1.5539910319546942e-13,
           2.00471097649136e-13,
           9.741782524974028e-14,
           1.9997008516077122e-13,
           2.971357407083642e-11,
           9.175691018959642e-11,
           1.2369242719265742e-10,
           2.348499728814156e-10,
           4.5707652130320284e-10,
           1.8717300321382855e-09,
           6.505537946462572e-09,
           1.9931031767999883e-09,
           4.143644907323427e-10,
           2.3956078785332125e-10,
           1.5021780745513967e-10,
           8.679826850502943e-11,
           3.7646599024196534e-11,
           1.543983640042403e-12,
           8.161404010942903e-15,
           4.516676844571062e-14,
           5.633126499573899e-14,
           1.1043936619955674e-13,
           2.197958802913184e-13,
           2.5277528290313536e-13,
           1.3977764203291998e-13,
           4.90582751759173e-13,
           9.638956787619575e-13,
           1.1103549221429166e-12,
           6.47002496218524e-13,
           4.809502380588574e-13,
           5.280425453503594e-13,
           7.088824394924172e-13,
           1.1873624180661315e-12,
           5.770379392516031e-13
          ],
          [
           3.2062350087270853e-15,
           4.795674068697358e-13,
           7.287310980226666e-13,
           6.561515912486083e-13,
           7.745109462559138e-13,
           5.346319634354678e-13,
           1.1752829847643317e-12,
           1.384418028613045e-12,
           9.46396791297101e-13,
           5.58007303796143e-13,
           3.51364618483923e-13,
           1.5743318688332084e-13,
           1.5600042153805992e-13,
           1.3478992242333553e-13,
           1.7222360995299489e-13,
           1.3014887867230585e-13,
           3.6004309410667556e-13,
           7.634422552784249e-13,
           1.1615295269914078e-11,
           6.298187754622241e-11,
           1.045530181495108e-10,
           2.165127492682204e-10,
           3.5230336159025146e-10,
           1.1660643329346148e-09,
           3.140773063154705e-09,
           1.255884866090221e-09,
           3.3262235355688693e-10,
           2.2383724693619754e-10,
           1.2217102686622895e-10,
           6.469528074519517e-11,
           1.570088558763127e-11,
           2.624756712968544e-12,
           2.0907634229879269e-13,
           2.594166764542816e-14,
           1.1092910918754585e-13,
           9.990901244498447e-14,
           1.5002191429164874e-13,
           1.9726696834165265e-13,
           2.899156316940427e-13,
           5.551648818486328e-13,
           1.022677301513039e-12,
           1.1755849074431173e-12,
           7.905270611475118e-13,
           4.91065574451037e-13,
           5.559775681164427e-13,
           6.173316305081212e-13,
           1.0970876732207387e-12,
           5.539054117688634e-13
          ]
         ]
        }
       ],
       "layout": {
        "margin": {
         "b": 10,
         "l": 10,
         "r": 10,
         "t": 10
        },
        "scene": {
         "xaxis": {
          "range": [
           11,
           36
          ],
          "tickfont": {
           "color": "black",
           "family": "Old Standard TT, serif",
           "size": 17
          },
          "ticktext": [
           "-1/4",
           "0",
           "1/4"
          ],
          "tickvals": [
           12,
           23,
           35
          ],
          "title": {
           "text": " "
          }
         },
         "yaxis": {
          "range": [
           11,
           36
          ],
          "tickfont": {
           "color": "black",
           "family": "Old Standard TT, serif",
           "size": 17
          },
          "ticktext": [
           "-1/4",
           "0",
           "1/4"
          ],
          "tickvals": [
           12,
           23,
           35
          ],
          "title": {
           "text": " "
          }
         },
         "zaxis": {
          "tickfont": {
           "color": "black",
           "family": "Old Standard TT, serif",
           "size": 17
          },
          "title": {
           "text": " "
          }
         }
        },
        "template": {
         "data": {
          "bar": [
           {
            "error_x": {
             "color": "#2a3f5f"
            },
            "error_y": {
             "color": "#2a3f5f"
            },
            "marker": {
             "line": {
              "color": "#E5ECF6",
              "width": 0.5
             },
             "pattern": {
              "fillmode": "overlay",
              "size": 10,
              "solidity": 0.2
             }
            },
            "type": "bar"
           }
          ],
          "barpolar": [
           {
            "marker": {
             "line": {
              "color": "#E5ECF6",
              "width": 0.5
             },
             "pattern": {
              "fillmode": "overlay",
              "size": 10,
              "solidity": 0.2
             }
            },
            "type": "barpolar"
           }
          ],
          "carpet": [
           {
            "aaxis": {
             "endlinecolor": "#2a3f5f",
             "gridcolor": "white",
             "linecolor": "white",
             "minorgridcolor": "white",
             "startlinecolor": "#2a3f5f"
            },
            "baxis": {
             "endlinecolor": "#2a3f5f",
             "gridcolor": "white",
             "linecolor": "white",
             "minorgridcolor": "white",
             "startlinecolor": "#2a3f5f"
            },
            "type": "carpet"
           }
          ],
          "choropleth": [
           {
            "colorbar": {
             "outlinewidth": 0,
             "ticks": ""
            },
            "type": "choropleth"
           }
          ],
          "contour": [
           {
            "colorbar": {
             "outlinewidth": 0,
             "ticks": ""
            },
            "colorscale": [
             [
              0,
              "#0d0887"
             ],
             [
              0.1111111111111111,
              "#46039f"
             ],
             [
              0.2222222222222222,
              "#7201a8"
             ],
             [
              0.3333333333333333,
              "#9c179e"
             ],
             [
              0.4444444444444444,
              "#bd3786"
             ],
             [
              0.5555555555555556,
              "#d8576b"
             ],
             [
              0.6666666666666666,
              "#ed7953"
             ],
             [
              0.7777777777777778,
              "#fb9f3a"
             ],
             [
              0.8888888888888888,
              "#fdca26"
             ],
             [
              1,
              "#f0f921"
             ]
            ],
            "type": "contour"
           }
          ],
          "contourcarpet": [
           {
            "colorbar": {
             "outlinewidth": 0,
             "ticks": ""
            },
            "type": "contourcarpet"
           }
          ],
          "heatmap": [
           {
            "colorbar": {
             "outlinewidth": 0,
             "ticks": ""
            },
            "colorscale": [
             [
              0,
              "#0d0887"
             ],
             [
              0.1111111111111111,
              "#46039f"
             ],
             [
              0.2222222222222222,
              "#7201a8"
             ],
             [
              0.3333333333333333,
              "#9c179e"
             ],
             [
              0.4444444444444444,
              "#bd3786"
             ],
             [
              0.5555555555555556,
              "#d8576b"
             ],
             [
              0.6666666666666666,
              "#ed7953"
             ],
             [
              0.7777777777777778,
              "#fb9f3a"
             ],
             [
              0.8888888888888888,
              "#fdca26"
             ],
             [
              1,
              "#f0f921"
             ]
            ],
            "type": "heatmap"
           }
          ],
          "heatmapgl": [
           {
            "colorbar": {
             "outlinewidth": 0,
             "ticks": ""
            },
            "colorscale": [
             [
              0,
              "#0d0887"
             ],
             [
              0.1111111111111111,
              "#46039f"
             ],
             [
              0.2222222222222222,
              "#7201a8"
             ],
             [
              0.3333333333333333,
              "#9c179e"
             ],
             [
              0.4444444444444444,
              "#bd3786"
             ],
             [
              0.5555555555555556,
              "#d8576b"
             ],
             [
              0.6666666666666666,
              "#ed7953"
             ],
             [
              0.7777777777777778,
              "#fb9f3a"
             ],
             [
              0.8888888888888888,
              "#fdca26"
             ],
             [
              1,
              "#f0f921"
             ]
            ],
            "type": "heatmapgl"
           }
          ],
          "histogram": [
           {
            "marker": {
             "pattern": {
              "fillmode": "overlay",
              "size": 10,
              "solidity": 0.2
             }
            },
            "type": "histogram"
           }
          ],
          "histogram2d": [
           {
            "colorbar": {
             "outlinewidth": 0,
             "ticks": ""
            },
            "colorscale": [
             [
              0,
              "#0d0887"
             ],
             [
              0.1111111111111111,
              "#46039f"
             ],
             [
              0.2222222222222222,
              "#7201a8"
             ],
             [
              0.3333333333333333,
              "#9c179e"
             ],
             [
              0.4444444444444444,
              "#bd3786"
             ],
             [
              0.5555555555555556,
              "#d8576b"
             ],
             [
              0.6666666666666666,
              "#ed7953"
             ],
             [
              0.7777777777777778,
              "#fb9f3a"
             ],
             [
              0.8888888888888888,
              "#fdca26"
             ],
             [
              1,
              "#f0f921"
             ]
            ],
            "type": "histogram2d"
           }
          ],
          "histogram2dcontour": [
           {
            "colorbar": {
             "outlinewidth": 0,
             "ticks": ""
            },
            "colorscale": [
             [
              0,
              "#0d0887"
             ],
             [
              0.1111111111111111,
              "#46039f"
             ],
             [
              0.2222222222222222,
              "#7201a8"
             ],
             [
              0.3333333333333333,
              "#9c179e"
             ],
             [
              0.4444444444444444,
              "#bd3786"
             ],
             [
              0.5555555555555556,
              "#d8576b"
             ],
             [
              0.6666666666666666,
              "#ed7953"
             ],
             [
              0.7777777777777778,
              "#fb9f3a"
             ],
             [
              0.8888888888888888,
              "#fdca26"
             ],
             [
              1,
              "#f0f921"
             ]
            ],
            "type": "histogram2dcontour"
           }
          ],
          "mesh3d": [
           {
            "colorbar": {
             "outlinewidth": 0,
             "ticks": ""
            },
            "type": "mesh3d"
           }
          ],
          "parcoords": [
           {
            "line": {
             "colorbar": {
              "outlinewidth": 0,
              "ticks": ""
             }
            },
            "type": "parcoords"
           }
          ],
          "pie": [
           {
            "automargin": true,
            "type": "pie"
           }
          ],
          "scatter": [
           {
            "fillpattern": {
             "fillmode": "overlay",
             "size": 10,
             "solidity": 0.2
            },
            "type": "scatter"
           }
          ],
          "scatter3d": [
           {
            "line": {
             "colorbar": {
              "outlinewidth": 0,
              "ticks": ""
             }
            },
            "marker": {
             "colorbar": {
              "outlinewidth": 0,
              "ticks": ""
             }
            },
            "type": "scatter3d"
           }
          ],
          "scattercarpet": [
           {
            "marker": {
             "colorbar": {
              "outlinewidth": 0,
              "ticks": ""
             }
            },
            "type": "scattercarpet"
           }
          ],
          "scattergeo": [
           {
            "marker": {
             "colorbar": {
              "outlinewidth": 0,
              "ticks": ""
             }
            },
            "type": "scattergeo"
           }
          ],
          "scattergl": [
           {
            "marker": {
             "colorbar": {
              "outlinewidth": 0,
              "ticks": ""
             }
            },
            "type": "scattergl"
           }
          ],
          "scattermapbox": [
           {
            "marker": {
             "colorbar": {
              "outlinewidth": 0,
              "ticks": ""
             }
            },
            "type": "scattermapbox"
           }
          ],
          "scatterpolar": [
           {
            "marker": {
             "colorbar": {
              "outlinewidth": 0,
              "ticks": ""
             }
            },
            "type": "scatterpolar"
           }
          ],
          "scatterpolargl": [
           {
            "marker": {
             "colorbar": {
              "outlinewidth": 0,
              "ticks": ""
             }
            },
            "type": "scatterpolargl"
           }
          ],
          "scatterternary": [
           {
            "marker": {
             "colorbar": {
              "outlinewidth": 0,
              "ticks": ""
             }
            },
            "type": "scatterternary"
           }
          ],
          "surface": [
           {
            "colorbar": {
             "outlinewidth": 0,
             "ticks": ""
            },
            "colorscale": [
             [
              0,
              "#0d0887"
             ],
             [
              0.1111111111111111,
              "#46039f"
             ],
             [
              0.2222222222222222,
              "#7201a8"
             ],
             [
              0.3333333333333333,
              "#9c179e"
             ],
             [
              0.4444444444444444,
              "#bd3786"
             ],
             [
              0.5555555555555556,
              "#d8576b"
             ],
             [
              0.6666666666666666,
              "#ed7953"
             ],
             [
              0.7777777777777778,
              "#fb9f3a"
             ],
             [
              0.8888888888888888,
              "#fdca26"
             ],
             [
              1,
              "#f0f921"
             ]
            ],
            "type": "surface"
           }
          ],
          "table": [
           {
            "cells": {
             "fill": {
              "color": "#EBF0F8"
             },
             "line": {
              "color": "white"
             }
            },
            "header": {
             "fill": {
              "color": "#C8D4E3"
             },
             "line": {
              "color": "white"
             }
            },
            "type": "table"
           }
          ]
         },
         "layout": {
          "annotationdefaults": {
           "arrowcolor": "#2a3f5f",
           "arrowhead": 0,
           "arrowwidth": 1
          },
          "autotypenumbers": "strict",
          "coloraxis": {
           "colorbar": {
            "outlinewidth": 0,
            "ticks": ""
           }
          },
          "colorscale": {
           "diverging": [
            [
             0,
             "#8e0152"
            ],
            [
             0.1,
             "#c51b7d"
            ],
            [
             0.2,
             "#de77ae"
            ],
            [
             0.3,
             "#f1b6da"
            ],
            [
             0.4,
             "#fde0ef"
            ],
            [
             0.5,
             "#f7f7f7"
            ],
            [
             0.6,
             "#e6f5d0"
            ],
            [
             0.7,
             "#b8e186"
            ],
            [
             0.8,
             "#7fbc41"
            ],
            [
             0.9,
             "#4d9221"
            ],
            [
             1,
             "#276419"
            ]
           ],
           "sequential": [
            [
             0,
             "#0d0887"
            ],
            [
             0.1111111111111111,
             "#46039f"
            ],
            [
             0.2222222222222222,
             "#7201a8"
            ],
            [
             0.3333333333333333,
             "#9c179e"
            ],
            [
             0.4444444444444444,
             "#bd3786"
            ],
            [
             0.5555555555555556,
             "#d8576b"
            ],
            [
             0.6666666666666666,
             "#ed7953"
            ],
            [
             0.7777777777777778,
             "#fb9f3a"
            ],
            [
             0.8888888888888888,
             "#fdca26"
            ],
            [
             1,
             "#f0f921"
            ]
           ],
           "sequentialminus": [
            [
             0,
             "#0d0887"
            ],
            [
             0.1111111111111111,
             "#46039f"
            ],
            [
             0.2222222222222222,
             "#7201a8"
            ],
            [
             0.3333333333333333,
             "#9c179e"
            ],
            [
             0.4444444444444444,
             "#bd3786"
            ],
            [
             0.5555555555555556,
             "#d8576b"
            ],
            [
             0.6666666666666666,
             "#ed7953"
            ],
            [
             0.7777777777777778,
             "#fb9f3a"
            ],
            [
             0.8888888888888888,
             "#fdca26"
            ],
            [
             1,
             "#f0f921"
            ]
           ]
          },
          "colorway": [
           "#636efa",
           "#EF553B",
           "#00cc96",
           "#ab63fa",
           "#FFA15A",
           "#19d3f3",
           "#FF6692",
           "#B6E880",
           "#FF97FF",
           "#FECB52"
          ],
          "font": {
           "color": "#2a3f5f"
          },
          "geo": {
           "bgcolor": "white",
           "lakecolor": "white",
           "landcolor": "#E5ECF6",
           "showlakes": true,
           "showland": true,
           "subunitcolor": "white"
          },
          "hoverlabel": {
           "align": "left"
          },
          "hovermode": "closest",
          "mapbox": {
           "style": "light"
          },
          "paper_bgcolor": "white",
          "plot_bgcolor": "#E5ECF6",
          "polar": {
           "angularaxis": {
            "gridcolor": "white",
            "linecolor": "white",
            "ticks": ""
           },
           "bgcolor": "#E5ECF6",
           "radialaxis": {
            "gridcolor": "white",
            "linecolor": "white",
            "ticks": ""
           }
          },
          "scene": {
           "xaxis": {
            "backgroundcolor": "#E5ECF6",
            "gridcolor": "white",
            "gridwidth": 2,
            "linecolor": "white",
            "showbackground": true,
            "ticks": "",
            "zerolinecolor": "white"
           },
           "yaxis": {
            "backgroundcolor": "#E5ECF6",
            "gridcolor": "white",
            "gridwidth": 2,
            "linecolor": "white",
            "showbackground": true,
            "ticks": "",
            "zerolinecolor": "white"
           },
           "zaxis": {
            "backgroundcolor": "#E5ECF6",
            "gridcolor": "white",
            "gridwidth": 2,
            "linecolor": "white",
            "showbackground": true,
            "ticks": "",
            "zerolinecolor": "white"
           }
          },
          "shapedefaults": {
           "line": {
            "color": "#2a3f5f"
           }
          },
          "ternary": {
           "aaxis": {
            "gridcolor": "white",
            "linecolor": "white",
            "ticks": ""
           },
           "baxis": {
            "gridcolor": "white",
            "linecolor": "white",
            "ticks": ""
           },
           "bgcolor": "#E5ECF6",
           "caxis": {
            "gridcolor": "white",
            "linecolor": "white",
            "ticks": ""
           }
          },
          "title": {
           "x": 0.05
          },
          "xaxis": {
           "automargin": true,
           "gridcolor": "white",
           "linecolor": "white",
           "ticks": "",
           "title": {
            "standoff": 15
           },
           "zerolinecolor": "white",
           "zerolinewidth": 2
          },
          "yaxis": {
           "automargin": true,
           "gridcolor": "white",
           "linecolor": "white",
           "ticks": "",
           "title": {
            "standoff": 15
           },
           "zerolinecolor": "white",
           "zerolinewidth": 2
          }
         }
        },
        "width": 700
       }
      },
      "text/html": [
       "<div>                            <div id=\"ce2ab18a-fbd8-411d-90f3-c786a27ff62d\" class=\"plotly-graph-div\" style=\"height:525px; width:700px;\"></div>            <script type=\"text/javascript\">                require([\"plotly\"], function(Plotly) {                    window.PLOTLYENV=window.PLOTLYENV || {};                                    if (document.getElementById(\"ce2ab18a-fbd8-411d-90f3-c786a27ff62d\")) {                    Plotly.newPlot(                        \"ce2ab18a-fbd8-411d-90f3-c786a27ff62d\",                        [{\"cmax\":0.6,\"cmin\":0,\"colorbar\":{\"orientation\":\"h\",\"tickfont\":{\"color\":\"black\",\"family\":\"Old Standard TT, serif\",\"size\":30}},\"colorscale\":[[0.0,\"rgb(255,245,240)\"],[0.125,\"rgb(254,224,210)\"],[0.25,\"rgb(252,187,161)\"],[0.375,\"rgb(252,146,114)\"],[0.5,\"rgb(251,106,74)\"],[0.625,\"rgb(239,59,44)\"],[0.75,\"rgb(203,24,29)\"],[0.875,\"rgb(165,15,21)\"],[1.0,\"rgb(103,0,13)\"]],\"x\":[0.0,1.0,2.0,3.0,4.0,5.0,6.0,7.0,8.0,9.0,10.0,11.0,12.0,13.0,14.0,15.0,16.0,17.0,18.0,19.0,20.0,21.0,22.0,23.0,24.0,25.0,26.0,27.0,28.0,29.0,30.0,31.0,32.0,33.0,34.0,35.0,36.0,37.0,38.0,39.0,40.0,41.0,42.0,43.0,44.0,45.0,46.0,47.0],\"y\":[0.0,1.0,2.0,3.0,4.0,5.0,6.0,7.0,8.0,9.0,10.0,11.0,12.0,13.0,14.0,15.0,16.0,17.0,18.0,19.0,20.0,21.0,22.0,23.0,24.0,25.0,26.0,27.0,28.0,29.0,30.0,31.0,32.0,33.0,34.0,35.0,36.0,37.0,38.0,39.0,40.0,41.0,42.0,43.0,44.0,45.0,46.0,47.0],\"z\":[[1.4337146429144189e-13,5.556134169475864e-13,1.1444651811555868e-12,8.327458893211675e-13,1.1625322474484168e-12,7.445278431995452e-13,1.1167438264445533e-12,1.2774788405737075e-12,1.0780303909409407e-12,6.626954001182947e-13,4.375561014583674e-13,1.1289302729963765e-13,3.7955995149874325e-14,8.408996643010799e-14,1.3784155611189601e-13,7.395751317287143e-14,6.910879834479446e-14,1.2083417833340788e-13,5.484587556216106e-13,1.019043285483929e-11,9.03429005896706e-11,7.868341653772981e-12,3.052035833364542e-12,2.9381706551939953e-12,1.9388869900882092e-11,2.971033714460358e-12,3.000701489743472e-12,7.635699105493813e-12,9.037137060641255e-11,1.0100111110407721e-11,5.493663629214633e-13,1.2134365576512639e-13,6.9042885675687e-14,7.256656013959782e-14,1.382229144365365e-13,8.422816865437951e-14,3.795890706661894e-14,1.129854613808797e-13,4.3797693403372485e-13,6.626755697296704e-13,1.0780944838850932e-12,1.2770307107411406e-12,1.1159338031320829e-12,7.441050027424569e-13,1.162342583275546e-12,8.329632326255969e-13,1.1446192265381827e-12,5.548552837454684e-13],[3.8254830100543965e-13,5.549269889450856e-13,1.0973355994096078e-12,6.171765938760871e-13,5.559137614335915e-13,4.910439686470239e-13,7.9188809752884e-13,1.1757231121680382e-12,1.0230205802643991e-12,5.552654255700959e-13,2.8986515672143276e-13,1.9744449747796227e-13,1.5007153147081546e-13,9.995734599877047e-14,1.1105427002966179e-13,2.596984995786025e-14,2.088601193097118e-13,2.6211737861507198e-12,1.5698723920117793e-11,6.46864739307009e-11,1.2215633068074623e-10,2.2382468632591954e-10,3.325998831092947e-10,1.2538491154223395e-09,3.1339136347648203e-09,1.1645788236517427e-09,3.5221867180926545e-10,2.1650531186569334e-10,1.0455892880317577e-10,6.297292632629152e-11,1.1632228304807372e-11,7.644112534651468e-13,3.597577724255126e-13,1.3026740349048716e-13,1.724084110111336e-13,1.34895586435848e-13,1.561336347616288e-13,1.577266865686287e-13,3.51622235539144e-13,5.580010232715583e-13,9.46643274881675e-13,1.3848295723258465e-12,1.1778298605503215e-12,5.354237231510326e-13,7.749209262597705e-13,6.561052870705357e-13,7.281306470134634e-13,4.783419148124272e-13],[4.4044432930715996e-13,5.775465439918678e-13,1.188417840425023e-12,7.088422952763984e-13,5.278301052204812e-13,4.8076441991932e-13,6.477580810304691e-13,1.1103383074740637e-12,9.643295380730665e-13,4.906060864217482e-13,1.3990583758401076e-13,2.529732547017243e-13,2.198702152529481e-13,1.1053559523637327e-13,5.640656752921044e-14,4.518230542393176e-14,8.10689315544434e-15,1.5398811242562293e-12,3.764299877074555e-11,8.678850737624684e-11,1.5020552005805072e-10,2.395339005647721e-10,4.143139965775138e-10,1.991784299476625e-09,6.501762133609234e-09,1.871901308242769e-09,4.5700075723899224e-10,2.3486302696442237e-10,1.2369489900523045e-10,9.175762852746945e-11,2.974491796487595e-11,1.9964387512417207e-13,9.751741400641476e-14,2.006006410366883e-13,1.5548181219843554e-13,1.4589009958514487e-13,2.2399231474775447e-13,1.8320139291592312e-13,1.9481803206416678e-13,4.708029591870011e-13,8.712674324617177e-13,1.3847914540740576e-12,8.216221032970083e-13,4.68921570373107e-13,8.139501443834311e-13,7.914712772362276e-13,7.823877009800552e-13,4.907964790303602e-13],[4.836156731947648e-13,5.71942646493059e-13,1.1134782602112234e-12,8.301507084147373e-13,6.219672839713043e-13,5.256638481512061e-13,6.03411209082546e-13,1.0432609431516684e-12,8.744903861785465e-13,4.2777259229430403e-13,3.647385158298108e-14,2.2617707072304364e-13,2.762703291210286e-13,1.2177655009122982e-13,1.3046186552784308e-13,3.6096170596792927e-13,2.817785547483686e-13,1.9963857498469949e-13,6.881011910473304e-11,1.1145041320663715e-10,2.0177648636474196e-10,3.059857260083779e-10,5.191343252187044e-10,1.7367410773326384e-09,4.20715590044813e-09,1.61098604860739e-09,5.269607585707721e-10,2.9358198893385695e-10,1.623532519493085e-10,1.1752849185649186e-10,6.086643018069395e-11,6.013522009192269e-13,3.874358142667213e-13,4.3319958526797325e-13,1.9496318539633456e-13,1.7843533613681827e-13,2.840321562727135e-13,1.8751350673268117e-13,8.165401646777818e-14,4.04991063382385e-13,8.295824470067719e-13,1.2231972835631703e-12,6.180215368974794e-13,4.4818623204685173e-13,8.109041405552772e-13,9.491491776510325e-13,9.362221326254075e-13,5.25609239891374e-13],[1.0945551208040514e-13,5.649303337040484e-13,1.0319924487014185e-12,9.963964673207321e-13,7.976313189466559e-13,6.026050840572557e-13,5.978509674443906e-13,9.539799830983172e-13,7.494280412283443e-13,3.3827458627613424e-13,4.5773020394044065e-14,1.5824836836274147e-13,2.8008541480698244e-13,1.3736193264668478e-13,3.4160420046470635e-13,9.143614648561084e-13,2.1028194850992656e-12,1.0871063659462767e-11,6.375416009691378e-11,1.1656717526116906e-10,2.2858492217364926e-10,4.0221684044678803e-10,7.236743010523464e-10,1.7982490709900862e-09,2.7517940474568304e-09,1.7842730571915403e-09,6.785936431118804e-10,3.703469321393242e-10,2.1221442639263828e-10,1.0117921954707543e-10,5.386452283653014e-11,9.685190072353503e-12,2.0718274893406003e-12,8.774731358493215e-13,3.647392810919536e-13,2.272978688851639e-13,3.1171299706532147e-13,1.8375453033512988e-13,6.739883837448307e-14,3.2283051231842294e-13,7.993059298331025e-13,9.647311083202052e-13,5.087796709698607e-13,4.636559930787239e-13,8.035266381884754e-13,1.1141881930925046e-12,1.1286931932372057e-12,5.952061220650441e-13],[2.1181300398015304e-13,5.769687240762836e-13,1.0131947661747654e-12,1.1731307788842904e-12,9.457813851177627e-13,6.584579281380882e-13,5.520820179842716e-13,8.691554373658706e-13,6.304582278110217e-13,2.479819205284068e-13,5.721622004578697e-14,1.1576976821775753e-13,2.2318494085820694e-13,1.360359877827355e-13,9.83033654509325e-13,1.7576828790325413e-12,6.655954612339418e-12,3.330580844358937e-11,8.026798256112332e-11,1.4035966410984734e-10,2.6903779226161205e-10,4.891112458192546e-10,9.774227409283718e-10,4.6208643899549604e-09,1.0788126723601158e-08,4.718797911969758e-09,8.336599351737076e-10,4.3214718689817124e-10,2.640224074835138e-10,1.1297659455802997e-10,6.584396951913218e-11,3.174162568715264e-11,5.922466615676779e-12,1.561275808698192e-12,8.188644521518696e-13,2.6519299682106253e-13,2.8709857636210716e-13,1.6192894754818496e-13,8.017788762270708e-14,2.5330244877311913e-13,7.756015659425912e-13,7.307089267870268e-13,4.3282709095144773e-13,5.086825853427945e-13,8.230178240090009e-13,1.2456913794479506e-12,1.224830659023655e-12,6.610273522881055e-13],[2.0350933348835147e-15,6.121254878169235e-13,1.002717576179639e-12,1.2795593027331068e-12,9.857420241283943e-13,6.855318292841032e-13,4.4552204045247147e-13,7.946617960962324e-13,5.389670220654124e-13,1.9369170607968393e-13,7.901492709369214e-14,1.0778006376482154e-13,1.5647743455543858e-13,1.1302539808285003e-13,1.6232523926253903e-12,3.848243404770197e-12,1.0909833994752535e-11,4.5527533210670864e-11,1.0756885486454635e-10,2.0199187487199325e-10,3.962623401488249e-10,6.657137259538955e-10,1.204020801989154e-09,7.67944524859803e-09,2.2696401970882984e-08,7.853604650640131e-09,1.026339025308556e-09,5.788932549237568e-10,4.0091854875453985e-10,1.4195058883521498e-10,8.735722598565462e-11,4.503754831598936e-11,9.590303218369786e-12,3.4341548852595323e-12,1.2916080892434632e-12,2.9696080489364977e-13,2.3382240974311686e-13,1.4335857553534988e-13,1.0906449159940123e-13,2.2567151698970382e-13,7.167650363508775e-13,6.011479671548588e-13,3.5249563824682885e-13,5.76156270179515e-13,8.610646309592302e-13,1.3243320810713313e-12,1.179242139380606e-12,6.949012336156916e-13],[3.8787682176255216e-14,6.658917295865729e-13,9.906522307690521e-13,1.3402816036971806e-12,9.596933365545685e-13,7.204451936226076e-13,3.0568713504339157e-13,7.072751691285828e-13,4.634368228411194e-13,1.6624328284435502e-13,1.1489634626517125e-13,1.272803628468699e-13,1.244494260464859e-13,1.177358725887629e-13,1.8751838103275566e-12,7.070301351915022e-12,1.9503874434902748e-11,4.7667312421883045e-11,1.0865450154500868e-10,2.305603208218865e-10,5.034551056970143e-10,9.640036928383202e-10,1.5761979842470566e-09,5.253956773018735e-09,1.0464903640962894e-08,5.40416874565657e-09,1.381754076835915e-09,8.471711454610727e-10,4.802435195212248e-10,1.8017879934086955e-10,8.939566742533558e-11,4.076170840922224e-11,1.6457929593987768e-11,6.658881105102101e-12,1.7584676216139236e-12,3.1433657455202277e-13,1.9786149148931178e-13,1.7102202257749133e-13,1.4530734937452446e-13,2.161634426160896e-13,5.809755170889838e-13,5.841054179673749e-13,2.5789953422825044e-13,6.778854898631941e-13,9.077975634455145e-13,1.3753192225809351e-12,1.070796977943487e-12,7.069657095717915e-13],[5.042386249848162e-14,7.240717196532629e-13,9.769927790918154e-13,1.385353432004872e-12,9.218680620759042e-13,7.921578415505911e-13,1.6321469010679863e-13,6.154473417635961e-13,3.838502383406e-13,1.5379261501822378e-13,1.5083732661057496e-13,1.6832993799258105e-13,1.309769057527271e-13,1.6341676927645725e-13,2.661258603971875e-12,8.853389524926232e-12,3.2811017109896735e-11,7.005891987612526e-11,1.3691537424367664e-10,2.831953946688035e-10,5.954413490741337e-10,1.295249370822463e-09,2.1908277382832704e-09,1.3955157256461877e-09,1.003326226200771e-09,1.2445741191941432e-09,2.042435356056965e-09,1.1685927707278062e-09,5.019918898891353e-10,2.456153899929213e-10,1.1655561630430425e-10,5.676527632436779e-11,2.720027418195927e-11,8.37478618937179e-12,2.445306462327689e-12,3.0015613929758484e-13,2.0833333950692698e-13,2.370527236727875e-13,2.0366387181286028e-13,2.0603954276549557e-13,3.974821008744281e-13,6.386855789182108e-13,1.5048804830167704e-13,8.205565848145033e-13,9.481870973719769e-13,1.4132673436457873e-12,9.672910318594496e-13,7.191759311580962e-13],[6.390724251512194e-14,7.715110482851318e-13,9.532422871226869e-13,1.420182602132193e-12,8.927537562564321e-13,8.873931358330557e-13,5.447637403000308e-14,5.413920110987507e-13,3.013537563223568e-13,1.4789935872951181e-13,1.75941663701845e-13,2.0370839477081616e-13,1.6758569455309977e-13,2.539942952431721e-13,4.817548944831986e-12,1.060124499645588e-11,3.609627850992948e-11,9.107654942542872e-11,1.9359477971458918e-10,4.1923534433661427e-10,8.185282578839524e-10,1.9948842362234328e-09,3.055350522535789e-09,5.628084787872827e-09,1.8469522658941644e-08,4.954848975019338e-09,3.017088594171804e-09,1.833637605622544e-09,6.173616660017599e-10,3.904596839406604e-10,1.6808287543347194e-10,6.169879328014159e-11,3.1362576589690916e-11,9.870446717981638e-12,4.4489718940595144e-12,3.660657420089843e-13,2.748361439023376e-13,2.781722228983898e-13,2.6986949088719565e-13,1.9064688786388432e-13,2.4593990855795453e-13,6.893261219466713e-13,5.284820790446176e-14,9.328872908899208e-13,9.655930964961293e-13,1.4408820224519412e-12,8.958031710564822e-13,7.45662747605248e-13],[6.235760477889703e-14,8.033423637927155e-13,9.176174653028363e-13,1.4474589766447505e-12,8.730222995666864e-13,9.38465123370551e-13,8.224701502288351e-15,4.745963781277161e-13,2.320340934915959e-13,1.4242853545310459e-13,1.8163471272330294e-13,2.045106189867189e-13,2.1568815704651998e-13,4.988101692080977e-13,6.867937961564133e-12,1.623202369731932e-11,3.872521507603646e-11,9.355689520487182e-11,2.1922062254311508e-10,5.232809377049698e-10,1.0729614000698244e-09,2.9883947175137372e-09,5.657060051611928e-09,1.1456179903957882e-08,3.0133773920340394e-08,1.0198434791489431e-08,5.646610877151631e-09,2.7720373469392463e-09,8.112250740117544e-10,4.891016229723793e-10,1.905103769808613e-10,6.666649851980889e-11,3.1395215766782346e-11,1.458497498619094e-11,6.456264070764888e-12,5.905083139096416e-13,3.7369920355943124e-13,2.83605816413711e-13,2.736392214038616e-13,1.7523272912781257e-13,1.7655096535761684e-13,6.543212053706595e-13,7.575243984857888e-15,9.549848050965839e-13,9.5395643812402e-13,1.460331624860821e-12,8.572053238040528e-13,7.875036495720389e-13],[8.822530389448616e-14,8.264266420493512e-13,8.767707251789654e-13,1.47264779956169e-12,8.568498402928645e-13,8.862506902453519e-13,5.206195415179883e-16,3.9231974742201124e-13,1.8601987935464957e-13,1.3931369159158066e-13,1.680033686525105e-13,1.8328612162979336e-13,2.327641527557759e-13,8.961448440704955e-13,6.559434298722159e-12,2.1507226782582666e-11,5.331904360823315e-11,1.1569772402128239e-10,2.603310903933495e-10,6.504975831936394e-10,1.5616905094799669e-09,4.227502223148498e-09,1.0795153975201535e-08,1.6188767570860097e-08,2.3508074317221692e-08,1.4555321516866737e-08,1.0475554025253166e-08,3.8854398129737705e-09,1.2944390865783755e-09,5.815546490990933e-10,2.2236333290872212e-10,8.870126023929975e-11,4.4958697976940864e-11,1.8302102940585303e-11,6.084384827252967e-12,9.206241325541239e-13,4.2684847203612505e-13,2.808741594540664e-13,2.2179851279142493e-13,1.7217434541832424e-13,1.841659618878612e-13,5.074894864635428e-13,4.2373903585667473e-16,9.057930846085607e-13,9.20273817464373e-13,1.475929249163268e-12,8.373761774054983e-13,8.344442928549633e-13],[5.582776391401431e-14,8.512785819599624e-13,8.40006060064356e-13,1.5028540860938381e-12,8.38784789816833e-13,5.063441575826082e-13,3.3227677029774577e-16,3.1160711601074664e-13,1.675127469887744e-13,1.5125965659404928e-13,1.651452839146719e-13,1.7251241858256607e-13,2.159827536837981e-13,1.2798730843177353e-12,7.40628214281308e-12,1.9581770184925108e-11,6.295652007408734e-11,1.571718311192605e-10,3.4123334742525176e-10,8.650513051054847e-10,2.5535316269048237e-09,6.868942797994994e-09,2.0270721837102525e-08,6.649699449380857e-08,1.0684093201558688e-07,6.434129395614447e-08,1.8617682192750132e-08,6.181347249634068e-09,2.291596145653667e-09,7.325932515709818e-10,2.8090510164914193e-10,1.3140667300056535e-10,4.9663536005437845e-11,1.560245705838378e-11,6.843889740241711e-12,1.3255124808268491e-12,4.065309247274045e-13,2.698389117031601e-13,1.9948984867006392e-13,1.963314492669391e-13,2.2238211968997416e-13,3.2715425807299415e-13,2.27637484123568e-15,5.198434955762935e-13,8.773341910867269e-13,1.4946846385023384e-12,8.223845669831131e-13,8.758061022911237e-13],[5.291390718097753e-15,8.831905844864752e-13,8.124092535884247e-13,1.5425321905702462e-12,8.150129237448795e-13,1.0934861648532886e-13,7.047695391995985e-16,2.6065394322042155e-13,1.7039272925633183e-13,1.9056624265606004e-13,1.9296591961689084e-13,1.9274270132870118e-13,2.362768969505122e-13,1.4917134556596193e-12,1.0139765278647876e-11,1.9440132470617677e-11,5.894485665726765e-11,1.8578301677746984e-10,4.0687536445033277e-10,1.0496728161234593e-09,3.885935231593069e-09,1.0855591178712307e-08,3.92783319427099e-08,2.1564295661632562e-07,4.610699439253473e-07,2.1270939370863515e-07,3.4892655911890895e-08,9.595453098336394e-09,3.6878211609277054e-09,8.330093524242522e-10,3.261551614801711e-10,1.736271782380596e-10,4.4133908986624724e-11,1.4541416855369125e-11,9.845018936662452e-12,1.5428047870980092e-12,4.1888243928573933e-13,2.9273295734998865e-13,2.3288418748340126e-13,2.5421853611124475e-13,2.4137553297897234e-13,2.1773135285193144e-13,7.24072205274664e-15,8.313513991342454e-14,8.322921086982537e-13,1.5225680976611755e-12,8.076894564505657e-13,9.094562288140182e-13],[2.7793144454681213e-15,9.189469312597094e-13,7.92020620518546e-13,1.5877430468631708e-12,7.712418157312223e-13,3.6863955218555184e-14,9.148195182215981e-16,2.2918949170653634e-13,1.9549100541592218e-13,2.4704491976979115e-13,2.4845588949699104e-13,2.603911039349788e-13,3.3081652153389246e-13,2.1265585255815634e-12,1.0384678016560729e-11,2.5133497702359728e-11,6.193429749424979e-11,1.8527328940451136e-10,4.6081614052502553e-10,1.3179487726258866e-09,5.416766417826908e-09,1.821020243857099e-08,7.233203712240943e-08,4.550418601704344e-07,9.781693277875145e-07,4.5063674311705356e-07,6.458699759678827e-08,1.603085751654848e-08,5.113018022605276e-09,1.0670244252875642e-09,3.7095753724033934e-10,1.7214219481607292e-10,4.8901390543420725e-11,1.847793149800202e-11,1.0035086250411122e-11,2.175774969036584e-12,5.539561963685475e-13,3.909127472651682e-13,3.011471762757174e-13,3.247842847874158e-13,2.625969999715572e-13,1.918292046379546e-13,1.073833908723971e-14,2.4467996154655032e-14,7.71341824109182e-13,1.557436830383107e-12,7.935040100619689e-13,9.384287018850149e-13],[2.1983107627324374e-15,9.504878821970153e-13,7.751480775339572e-13,1.62580609314209e-12,6.071729138919519e-13,2.0673803176593312e-14,1.0994123479412811e-15,2.1690735568861204e-13,2.4457021720709653e-13,2.866628696406665e-13,2.968439116179997e-13,3.483903851174499e-13,4.454387593940176e-13,3.5916477814245097e-12,1.0324838340568778e-11,2.7615517936937668e-11,7.715407074759732e-11,2.0087653317004708e-10,5.610158850557961e-10,1.7884066459730918e-09,7.828487315966967e-09,3.346482251357294e-08,1.363608030625436e-07,4.971375825762208e-07,9.233259857278631e-07,4.885019885755469e-07,1.235273998014571e-07,2.983616358829825e-08,7.225704362288271e-09,1.49904133174147e-09,4.672369664006795e-10,1.794957119196489e-10,5.969410437064797e-11,2.1011263629423076e-11,9.156589715013562e-12,3.5245072827426762e-12,7.313738318164046e-13,5.224593991681291e-13,3.829409378498392e-13,3.6169464921767657e-13,3.188430149599312e-13,2.1727231108523127e-13,9.95524424018385e-15,1.1577643079919865e-14,5.902908982625945e-13,1.589710069073189e-12,7.800671729685554e-13,9.643214737336821e-13],[4.033658729543007e-15,9.713774711146289e-13,7.626374831158232e-13,1.642744652370262e-12,1.3055815156247687e-13,1.8863646193848448e-14,1.9491635758591205e-15,2.2620128885120397e-13,3.0369630371903144e-13,2.844590693651723e-13,2.9256977943227395e-13,4.04424327334751e-13,4.675552184479193e-13,3.973587421856822e-12,1.3474744457271879e-11,2.936746056519476e-11,9.295792915986022e-11,2.3299498258299646e-10,7.285789374566269e-10,2.558659211129719e-09,1.0320825010234073e-08,5.825026896570406e-08,2.595761831846791e-07,5.163255681771654e-07,5.081453149719225e-07,4.911909319520669e-07,2.4340660258005466e-07,5.306626369239882e-08,9.060926292673768e-09,2.256408255898504e-09,6.322034890631249e-10,1.951045593738638e-10,7.869734734839891e-11,2.4170138052526632e-11,1.130971451975341e-11,3.892594894750741e-12,7.44414450397651e-13,6.329886236243076e-13,4.2746214787388835e-13,3.3957461514326935e-13,3.6448186801668863e-13,2.591171674918019e-13,6.181963530861595e-15,4.3061517618228024e-15,1.1473793583103676e-13,1.609510825535119e-12,7.678153542966752e-13,9.843952972086108e-13],[5.488354417368478e-16,9.79724070924615e-13,7.586232785921318e-13,1.6299770795031317e-12,1.4065767123490932e-14,2.0958925760964743e-14,3.0118509151742433e-15,2.3883656536034825e-13,3.437333413943368e-13,2.4948245522154416e-13,2.515210770515765e-13,4.040994591895234e-13,4.018258581405743e-13,3.69190244243818e-12,1.7895156227307326e-11,3.76085800558199e-11,1.0372815815166059e-10,2.503311566334105e-10,8.959738750423257e-10,3.543033445733336e-09,1.3362964672863222e-08,9.678739605342088e-08,5.488665338125859e-07,9.000946410811291e-07,8.03093761863329e-07,8.166239972535933e-07,5.269091575925271e-07,8.986212737056353e-08,1.1323287871313951e-08,3.2777937576111246e-09,8.023690016757283e-10,1.8857776361359903e-10,9.328616254478408e-11,3.266694924531838e-11,1.3688581145092263e-11,3.622312456429339e-12,6.033850437114079e-13,6.666790000848607e-13,3.8793092821253536e-13,2.7983274315086915e-13,3.4970703375416534e-13,2.9167093207485567e-13,2.6937803438267446e-15,1.4341983259586488e-15,8.240651315643087e-15,1.6082327697962664e-12,7.579031811719907e-13,9.922830927651066e-13],[2.5117889396429445e-15,9.773426422431078e-13,7.654143029520455e-13,1.0206500179893478e-12,4.913350866714428e-15,1.7037201773622645e-14,3.0650332999927076e-15,2.376628810819728e-13,3.4418963760342884e-13,2.194092801069915e-13,2.327839412410478e-13,3.410826873381516e-13,4.0619223165118006e-13,4.323367170266246e-12,2.0174304870590304e-11,4.8355569106476126e-11,1.231329021638515e-10,2.9384207023821376e-10,9.785331918569283e-10,4.320739554211915e-09,1.9491095940899292e-08,1.541445410047718e-07,1.2400904726210555e-06,4.006198526997869e-06,5.566921473544543e-06,3.7479696995161986e-06,1.2093695827941972e-06,1.4502381891320434e-07,1.685506241471088e-08,4.027701967445742e-09,8.914001925126922e-10,2.2849944949934383e-10,1.1159872505585811e-10,4.23850778091031e-11,1.505874725967237e-11,3.947081131159171e-12,5.387533551263143e-13,5.728266304313777e-13,3.219118832166219e-13,2.292030378416034e-13,3.3626571343494844e-13,3.0166032070137034e-13,1.3402372951535815e-15,3.0925600004338758e-15,3.301729542079549e-16,1.3726303072626881e-12,7.517426869712164e-13,9.811852188393172e-13],[3.0795923876565695e-15,9.39707486776559e-13,7.772632435643308e-13,3.4449100231691317e-15,5.153163705336609e-15,6.440159879433851e-15,2.4575251080179566e-15,2.2066883062135138e-13,3.1561797626455586e-13,2.4604203050865613e-13,2.4370031562374736e-13,2.741821860059216e-13,6.324753974452002e-13,5.819383536735583e-12,2.2099392006557792e-11,5.217076058335052e-11,1.5769837648156452e-10,4.145706029359162e-10,9.724538066554884e-10,5.081477837888557e-09,3.151066639033895e-08,2.1499056428243843e-07,2.712677560572045e-06,2.9669202051531688e-05,7.279340570226229e-05,2.8984653529739273e-05,2.6448132714150674e-06,2.0417136110091119e-07,2.8545302532944543e-08,4.6944697009606625e-09,8.790594386856264e-10,3.599080187586349e-10,1.4536618903779618e-10,4.446613424220366e-11,1.921409971578981e-11,5.122475831886997e-12,7.01916462721647e-13,4.627811048796124e-13,2.840005746554177e-13,2.44953081467464e-13,4.177362355035049e-13,2.63057559739208e-13,1.5925881138311697e-15,2.754444438249692e-15,7.386017488107906e-16,8.085397087025444e-15,7.464091790976162e-13,9.13216064933095e-13],[5.950772730960745e-15,5.791201273446181e-14,1.4510306774774814e-14,4.712886648986192e-16,7.76202013764596e-15,5.788846941700434e-15,2.6210548638972006e-15,2.7275817588719876e-13,3.2171280550755557e-13,4.020004598303964e-13,2.645991879075227e-13,2.427077954932477e-13,1.1899761948675034e-12,8.589937941708082e-12,2.7722711278126065e-11,4.533969126789222e-11,1.732961888391555e-10,6.868678373353601e-10,8.701440013186354e-10,5.729809239785271e-09,5.455509304503283e-08,2.666222773882987e-07,6.302468755792346e-06,0.00018891895663832774,0.0007440326185143858,0.00018737916428113662,6.163617956890848e-06,2.5437502553213705e-07,5.198668641027966e-08,5.207648926688525e-09,7.568605539879906e-10,6.549316654032978e-10,1.5354060576930765e-10,3.526081059567489e-11,2.804196105120579e-11,6.788794891093745e-12,1.1692810760093448e-12,3.9721329960486037e-13,2.607864704256715e-13,4.027641149427042e-13,6.205632426167822e-13,2.2884816831389233e-13,2.1367248383782243e-15,3.82674312507611e-15,3.2984875697196137e-15,9.008144940866648e-16,5.617213171456635e-14,1.1759296208388708e-13],[9.432657712130335e-15,6.242116695868613e-14,1.9251167875067765e-15,4.032987764913273e-16,1.2538402726852304e-14,2.3341207399549723e-14,3.68259749711537e-15,6.496532270513095e-13,4.0791903988819305e-13,7.692276822551708e-13,3.0317034199620535e-13,3.3728631521141546e-13,2.072831458454187e-12,1.3756074641872439e-11,3.890954270452191e-11,3.3905852260153814e-11,1.589898280291579e-10,1.2139521919936649e-09,6.702675093737432e-10,5.606713578561412e-09,9.069343706555499e-08,3.1141123734727646e-07,1.3127699801867511e-05,0.0009404593408728524,0.005521706412749322,0.0009422037917373388,1.289042244561544e-05,2.980202199073946e-07,8.910510570226063e-08,4.933469234540028e-09,5.444210840814315e-10,1.214089008945812e-09,1.2818774168047732e-10,2.1765545048045826e-11,4.1753014662133504e-11,8.454086519293284e-12,1.958105056447173e-12,4.325806518577232e-13,2.5039132288560545e-13,7.775857569749516e-13,8.609108612534037e-13,5.004732666365799e-13,2.4790928809074343e-15,1.4597625236585782e-14,8.6031143530352e-15,8.127931900017982e-16,2.3988433219390023e-15,9.113241422860148e-14],[7.860466885339235e-15,9.203892485680393e-14,3.8824782033430337e-16,1.8934688852400107e-15,1.901840348514887e-14,4.3415197069717633e-14,4.533717643988946e-15,1.5283983371042434e-12,5.439851820697034e-13,1.3274929193448906e-12,3.5331906633068383e-13,8.438404392282081e-13,3.100223291777388e-12,2.1129354244833213e-11,5.618255194066976e-11,2.5637953596801906e-11,1.393622221896181e-10,1.915147162693522e-09,4.5714324459845796e-10,4.9848568900491235e-09,1.3256207516816402e-07,3.405581419383973e-07,2.429500910230437e-05,0.0035306442720386007,0.03218810878072827,0.003565426887085393,2.4031443548287953e-05,3.2813892803109495e-07,1.3185936866574934e-07,4.301587937988383e-09,3.4380139539414e-10,1.936852714789234e-09,1.0756277329149894e-10,1.3909633067687595e-11,6.044344363407645e-11,1.0456073331825233e-11,2.947046130694408e-12,8.634517524435603e-13,2.698000531257938e-13,1.3392845717017439e-12,9.986065254553677e-13,1.3527859992585609e-12,2.8591247419893815e-15,3.042638399775701e-14,1.703879036809555e-14,1.6373629646241235e-15,2.4930130834093922e-15,1.3335099313404453e-13],[6.670569576028759e-15,1.2375513431070134e-13,3.684798235956287e-17,3.550310961543835e-15,2.526731587563478e-14,5.142901940311069e-14,4.606681815655496e-15,2.5525673489968117e-12,6.96754307574007e-13,1.8661891301175423e-12,3.8141274604404685e-13,1.678069945695732e-12,3.937524144690592e-12,2.7148241174595652e-11,7.519445310365676e-11,2.165162895421348e-11,1.2326276052130252e-10,2.5137608178239924e-09,3.099628775210534e-10,4.403101519046839e-09,1.6782985950309155e-07,3.493414101149949e-07,3.6655379944947744e-05,0.009248901931694444,0.14778007693797346,0.009341595296953423,3.647674666010033e-05,3.4157442742976506e-07,1.676275186351308e-07,3.969021563333721e-09,2.4132292918504126e-10,2.534146259021841e-09,1.0361123534417708e-10,1.4273541689585751e-11,7.852462849194462e-11,1.3651555933307033e-11,3.831684047867641e-12,1.6608841973343837e-12,3.171219534231421e-13,1.874403029124142e-12,9.796615440865589e-13,2.4456910257802103e-12,3.4758198100703922e-15,4.248952248363522e-14,2.510266955090814e-14,2.9456922074371885e-15,2.4026544384078914e-15,1.5764554704169855e-13],[8.530821319813289e-15,1.4949580049641322e-13,1.03692876368642e-15,3.9327346690207635e-15,2.8119707885082792e-14,4.930802569215319e-14,4.141182210454613e-15,2.984481192730743e-12,8.543693450950737e-13,2.0947791042705525e-12,3.6568126717098647e-13,2.1029704679870446e-12,4.2272441048294165e-12,2.2813232051547193e-11,8.507380071790573e-11,1.826321001403559e-11,1.1058349706153524e-10,2.755043511474375e-09,2.3874446425814615e-10,4.035468177527815e-09,1.8209003037862583e-07,3.4728713981222797e-07,4.20188672658921e-05,0.01326949202743411,0.2927020982326788,0.013287021707545803,4.206016405006775e-05,3.4726035030856383e-07,1.8209768924113046e-07,4.039770541332697e-09,2.3854240402177553e-10,2.7550769536117454e-09,1.1068340982421139e-10,1.8259303523822077e-11,8.506898994491495e-11,2.2794732247462885e-11,4.229918808013489e-12,2.0998604664988825e-12,3.655212458661534e-13,2.0947813515872603e-12,8.544668120029048e-13,2.9856549490411175e-12,4.168872544198007e-15,4.9377057364774565e-14,2.8140476169746705e-14,3.916094017278814e-15,1.0295932262333754e-15,1.4932014265150725e-13],[1.840310911429465e-15,1.5807537181964173e-13,2.4020979902542594e-15,2.9564714740805166e-15,2.505600978247053e-14,4.244756043675288e-14,3.464976643056551e-15,2.44689121140603e-12,9.79335558606808e-13,1.874746809533343e-12,3.172530690289448e-13,1.6639757247632754e-12,3.830116400574619e-12,1.3677477340882965e-11,7.854609635773931e-11,1.4279422012104335e-11,1.0349857780255271e-10,2.5345445771570815e-09,2.4146783184472583e-10,3.963954224251379e-09,1.6765602254262794e-07,3.4158313041563255e-07,3.6449711226037025e-05,0.00933984674199491,0.14807950967565342,0.00926486435733718,3.6693446226528075e-05,3.4931385171562133e-07,1.6787351697310893e-07,4.406352990957772e-09,3.0969475490056067e-10,2.51415754667654e-09,1.2334316372751024e-10,2.1647658792669015e-11,7.52062584013824e-11,2.716754864386564e-11,3.940674310825e-12,1.6758705521344955e-12,3.813920523195942e-13,1.866648313655372e-12,6.966796326362291e-13,2.554972160460088e-12,4.631009281978892e-15,5.146403535431012e-14,2.5257464767645498e-14,3.5338200110429592e-15,3.4555661670639647e-17,1.2386645970730593e-13],[2.4411203024028278e-15,1.3384725987228306e-13,2.482008896192671e-15,1.6405562235016219e-15,1.7003236702289402e-14,3.044978139857519e-14,2.8649848745852333e-15,1.3547276937561908e-12,9.984357326742504e-13,1.339650537262157e-12,2.6982452136102265e-13,8.655892398103677e-13,2.9465252031457727e-12,1.0474956180637457e-11,6.046991627785594e-11,1.3912549633649989e-11,1.0743999754588e-10,1.937535386542758e-09,3.438293871697261e-10,4.296370348747566e-09,1.3190336429122667e-07,3.2812369377984423e-07,2.4022364213963718e-05,0.0035682551884885783,0.03224857767670232,0.0035355783104086074,2.4316934571842152e-05,3.405467819932957e-07,1.3262110026184356e-07,4.98701107206349e-09,4.568047837584756e-10,1.9157506905830255e-09,1.3941296618112557e-10,2.5629616269133046e-11,5.620118525633956e-11,2.115201555714787e-11,3.1029414504978805e-12,8.427660509547594e-13,3.534876780896336e-13,1.3281766947911845e-12,5.439986779761113e-13,1.529951344195706e-12,4.53888966583551e-15,4.3416994185125117e-14,1.9006087733179057e-14,1.88406289682496e-15,3.979360560444518e-16,9.228470811716388e-14],[3.2507303910604537e-15,9.159138930401321e-14,2.3935404192535673e-15,8.078407140557395e-16,8.59452112520011e-15,1.4641236180835186e-14,2.4880988093670584e-15,5.014503355215995e-13,8.611858220768285e-13,7.777819502351444e-13,2.5033624291566403e-13,4.334748304136662e-13,1.9581001703647808e-12,8.461331361296014e-12,4.177244531808085e-11,2.175868529889593e-11,1.280692511718783e-10,1.2147164474569697e-09,5.442635375174071e-10,4.929016419154488e-09,8.914222874625102e-08,2.9798888494061946e-07,1.2889771434263569e-05,0.0009432624228676008,0.005529542576009095,0.0009413919295801786,1.3136358903402026e-05,3.114251573276141e-07,9.074468220286885e-08,5.607836146446494e-09,6.699528862932485e-10,1.2145350192621726e-09,1.5900860637404716e-10,3.389592641145375e-11,3.8926572322384273e-11,1.3770437581802033e-11,2.074549499116042e-12,3.3684015553190307e-13,3.0340967699886285e-13,7.697920168199056e-13,4.08050633926971e-13,6.500984651785946e-13,3.674703445254505e-15,2.333769054642279e-14,1.2540720779867043e-14,4.018056963921891e-16,1.940771746144839e-15,6.260983282265257e-14],[1.0821843878723209e-14,1.1796873262714404e-13,5.58280955124749e-14,8.821690072307253e-16,3.3017565855662223e-15,3.8395109075010714e-15,2.1417756706487145e-15,2.290181080788637e-13,6.210133246742753e-13,4.0284960820316146e-13,2.6067786590143e-13,3.972936236849051e-13,1.1693745027400627e-12,6.789413545425135e-12,2.8051811918806005e-11,3.524589073875088e-11,1.5346319231240625e-10,6.553011629343075e-10,7.565519138571723e-10,5.204829264040176e-09,5.20080385507173e-08,2.543396566148326e-07,6.164877061466464e-06,0.00018761122525532236,0.0007449347732551238,0.00018908652967123616,6.305258155420992e-06,2.6666330570099007e-07,5.458858816980128e-08,5.730308263554245e-09,8.700049839629688e-10,6.872445361491211e-10,1.7329753094825046e-10,4.533768987769086e-11,2.773424268778528e-11,8.596478679682372e-12,1.1907601964246877e-12,2.4249945839955036e-13,2.64800204628122e-13,4.02315468586289e-13,3.2183250317008516e-13,2.7282072283295836e-13,2.61392766983985e-15,5.787899928165133e-15,7.774977909054012e-15,4.685337524197686e-16,1.441174262398138e-14,5.790098667477242e-14],[1.6441548754186154e-16,9.11693810773153e-13,7.463217296621528e-13,7.955140023994892e-15,7.403558032754897e-16,2.750190039408435e-15,1.5933520203744377e-15,2.629987499611419e-13,4.180662940976862e-13,2.4503741420452233e-13,2.838792441149724e-13,4.626548675206509e-13,7.019182086326199e-13,5.121736867162676e-12,1.9217688540549766e-11,4.445269090145969e-11,1.4534179192217788e-10,3.600544320015497e-10,8.787419062016962e-10,4.693505650121235e-09,2.8553792325010213e-08,2.0414802432415013e-07,2.645726769077113e-06,2.902103255497002e-05,7.289526108150051e-05,2.969619443499697e-05,2.7135590963588557e-06,2.150487571522107e-07,3.152880303508276e-08,5.0820100508032945e-09,9.725476340292293e-10,4.147524989577885e-10,1.5769453049286506e-10,5.217794235133371e-11,2.2105222183030625e-11,5.821249508072618e-12,6.326711699358445e-13,2.7408262075979613e-13,2.4384125161131286e-13,2.4620308994381835e-13,3.157446510971647e-13,2.2069520467670757e-13,2.4547906777717654e-15,6.446783453110628e-15,5.170119731077321e-15,3.39654677604255e-15,7.772377709654653e-13,9.401281851532873e-13],[2.823190672561644e-16,9.80638915756652e-13,7.516904583142427e-13,1.3727873955146783e-12,3.243669209480915e-16,3.098213652649806e-15,1.339575373662822e-15,3.0163826013814583e-13,3.3646946321129725e-13,2.2930322090883435e-13,3.218369766356851e-13,5.726280745207568e-13,5.385952965217175e-13,3.946376084308837e-12,1.50593958866527e-11,4.23784761108148e-11,1.116111851098067e-10,2.285114260160667e-10,8.91189031265705e-10,4.027926156774218e-09,1.6856506525853603e-08,1.4501887783481697e-07,1.2098693088547883e-06,3.7518330899959493e-06,5.571871642239087e-06,4.008598659704312e-06,1.2404270846384306e-06,1.5420443327233216e-07,1.9499801107111358e-08,4.321524393997882e-09,9.787884718115666e-10,2.9391566892035327e-10,1.2314082236947893e-10,4.836442839348181e-11,2.0176212820410316e-11,4.3232624658703814e-12,4.0609682399516634e-13,3.410276450066604e-13,2.328658548150342e-13,2.1952201872789343e-13,3.4433979693999836e-13,2.3777869374924494e-13,3.0615442374138647e-15,1.7064571066388574e-14,4.9326289145418186e-15,1.0252871393468947e-12,7.652691385917024e-13,9.77453805722963e-13],[2.497320576864499e-16,9.921960122875336e-13,7.577790359506914e-13,1.608368812854506e-12,8.224461504073971e-15,1.4426255422478204e-15,2.6976038164060057e-15,2.9178737858117437e-13,3.497950955063471e-13,2.799066993433323e-13,3.878963699576749e-13,6.665335105222595e-13,6.032108236811937e-13,3.622461084832249e-12,1.3688527420896778e-11,3.266648566681232e-11,9.331115235697639e-11,1.8853228218311308e-10,8.022905438043574e-10,3.2784350426904326e-09,1.1321950008910774e-08,8.9867475264101e-08,5.270895171307719e-07,8.166493578674182e-07,8.029769690934265e-07,8.998910325730916e-07,5.4905059810358e-07,9.683205547420035e-08,1.3366848387981004e-08,3.5441091752410336e-09,8.962636784759697e-10,2.503634707114493e-10,1.0375131621080412e-10,3.761675022252082e-11,1.789593588076847e-11,3.691193381972985e-12,4.0174903647804923e-13,4.0416881290659633e-13,2.5159040210653637e-13,2.4956872190919035e-13,3.438642022081401e-13,2.3902335332406744e-13,3.003245904797226e-15,2.09991697270051e-14,1.4097687206318359e-14,1.6301032383535558e-12,7.585427940490922e-13,9.797023708212848e-13],[9.828712170176398e-15,9.846366389084366e-13,7.676513067100154e-13,1.609610442347895e-12,1.1476236458092435e-13,4.308709163788185e-15,6.1816990339901946e-15,2.592687038790445e-13,3.6450991246606114e-13,3.3962623030516373e-13,4.2748802567177385e-13,6.330367342235193e-13,7.444654498334218e-13,3.8940297776157426e-12,1.1309392417337482e-11,2.4172922036557224e-11,7.870952218179486e-11,1.9504639560050294e-10,6.322381681967228e-10,2.2569542396907226e-09,9.059274893662579e-09,5.3075255183871784e-08,2.4346566970400647e-07,4.907295645783383e-07,5.071449110850199e-07,5.159338814579953e-07,2.596811314932345e-07,5.82763258576793e-08,1.0322790319063148e-08,2.5596387155390135e-09,7.287936374673303e-10,2.330097335919247e-10,9.297635171008263e-11,2.937272491808151e-11,1.3476536019648748e-11,3.973502993136448e-12,4.677312844372055e-13,4.0451651038550975e-13,2.926424979704323e-13,2.8451389635886615e-13,3.038182006461075e-13,2.2635238520443186e-13,1.9351529250578217e-15,1.888581866752797e-14,1.3061864178874086e-13,1.6427512961851757e-12,7.626421959903561e-13,9.713147825734292e-13],[1.0190144541656658e-15,9.646485298497713e-13,7.799400043700806e-13,1.5897541358546478e-12,5.907346984518105e-13,1.157725360396247e-14,9.923797230826313e-15,2.1738492314705713e-13,3.1892356323540795e-13,3.6176652392145543e-13,3.8303136455026773e-13,5.225312047669326e-13,7.314840497482724e-13,3.5258828481031924e-12,9.157130637981541e-12,2.1013077710072135e-11,5.969505984511307e-11,1.7946711406534068e-10,4.673056821628953e-10,1.499245383071285e-09,7.224923823750881e-09,2.9842604706148456e-08,1.2353240177841748e-07,4.880946408271734e-07,9.224892672893197e-07,4.97002999373691e-07,1.3642796549353594e-07,3.3477562700658034e-08,7.829763972503139e-09,1.7890772743956504e-09,5.611456878471403e-10,2.0089767426508004e-10,7.717031162086779e-11,2.761682098414306e-11,1.0326056474664044e-11,3.592478618713134e-12,4.4570312670287316e-13,3.4840915541398646e-13,2.968750106387677e-13,2.8672527772638233e-13,2.44691030229802e-13,2.1696999363648555e-13,1.0778372301813367e-15,2.0630387957457226e-14,6.070758736986967e-13,1.625768113171576e-12,7.751875302247487e-13,9.504539613901172e-13],[9.044372175478814e-16,9.386284700622224e-13,7.934910894034853e-13,1.5573975966159377e-12,7.716556101692154e-13,2.4469723254798644e-14,1.0673395763670613e-14,1.9193616160609493e-13,2.6267140282266754e-13,3.248537242036261e-13,3.0119990638080997e-13,3.9089949700914876e-13,5.540074256700324e-13,2.176813799922869e-12,1.0035340951573162e-11,1.8478308589141713e-11,4.8895342469351346e-11,1.7213198341958607e-10,3.710066546136426e-10,1.0669749290948222e-09,5.113360090057346e-09,1.603449056514144e-08,6.458240998258865e-08,4.505672688773532e-07,9.78204662281619e-07,4.552142352505331e-07,7.236962367497733e-08,1.8215467309778962e-08,5.418151343783519e-09,1.318352541559209e-09,4.608910956626971e-10,1.8529549259390005e-10,6.194743986835768e-11,2.513680771981392e-11,1.0386512752661829e-11,2.127193924173536e-12,3.310124244536413e-13,2.6040835248859565e-13,2.4848584230254506e-13,2.4714078930963954e-13,1.9558061163818444e-13,2.291994207578624e-13,8.821555308266807e-16,3.6608024002343205e-14,7.71317657128801e-13,1.5877295989271436e-12,7.920203159246187e-13,9.189541369416214e-13],[2.0406321935066636e-15,9.094619449793599e-13,8.078084933700298e-13,1.522457857958095e-12,8.32445167473806e-13,8.32909080202804e-14,7.185274734397285e-15,2.1784527912583992e-13,2.4144939278983036e-13,2.5424806846301765e-13,2.3286625535698386e-13,2.927098045460733e-13,4.189692783179921e-13,1.543823843808244e-12,9.844616233166331e-12,1.4540526227407386e-11,4.412459216496371e-11,1.7365350864999604e-10,3.261798956602039e-10,8.328635875744078e-10,3.6887655475735766e-09,9.597132614084134e-09,3.489145133490959e-08,2.1283499090750962e-07,4.6154883953566017e-07,2.158517837410122e-07,3.9296692825085244e-08,1.085834330977077e-08,3.887401593665117e-09,1.0498951589804236e-09,4.0692770186120756e-10,1.8581623645988332e-10,5.895035543468996e-11,1.944260633174987e-11,1.0141490691672443e-11,1.4926923278346643e-12,2.364287356197542e-13,1.9278886222261732e-13,1.9302530952413647e-13,1.906638118149418e-13,1.7046645749187906e-13,2.607145941008079e-13,6.714190973638764e-16,1.0837657155769122e-13,8.151198753017998e-13,1.5425886820870648e-12,8.123425939654721e-13,8.832105548124067e-13],[5.760463705324804e-14,8.75715798621414e-13,8.225689445748908e-13,1.4945653128699013e-12,8.773030711337181e-13,5.209591759748808e-13,2.2645221588014335e-15,3.273164344545776e-13,2.2253888707128098e-13,1.9635752686303745e-13,1.9944285569905095e-13,2.6981660274747693e-13,4.065321107758476e-13,1.3261066464809648e-12,6.843989702131039e-12,1.560021966806328e-11,4.965769520376073e-11,1.3143759793278644e-10,2.808912962554147e-10,7.324574726649449e-10,2.292326338217736e-09,6.182023347527111e-09,1.862068966471747e-08,6.442633356218253e-08,1.0704505711168633e-07,6.658735016809254e-08,2.0277865968953842e-08,6.870484193965365e-09,2.5544932212561236e-09,8.651741415853412e-10,3.4128774034744825e-10,1.5720965950772052e-10,6.296587952579359e-11,1.9585954721574112e-11,7.407144496716183e-12,1.2805535444028895e-12,2.16023115189794e-13,1.7252787702846487e-13,1.6520018353259215e-13,1.513406751493853e-13,1.6761877079866358e-13,3.117470906256079e-13,3.2018945457865074e-16,5.054081769636109e-13,8.388090188146264e-13,1.5029694482495244e-12,8.399096480571913e-13,8.512608602876664e-13],[1.5726480385567624e-16,8.344207609828066e-13,8.374968933685515e-13,1.4758797189317425e-12,9.2008511773691e-13,9.055829903197353e-13,4.284632708550297e-16,5.078054028000988e-13,1.8434853327481137e-13,1.7223342328962165e-13,2.217454340579726e-13,2.8078813443675475e-13,4.2673101674370843e-13,9.210212529488742e-13,6.0842807787508845e-12,1.830266884150881e-11,4.4956923754550613e-11,8.871405562652354e-11,2.2233216236152752e-10,5.814999400798356e-10,1.294797042126358e-09,3.885686316106406e-09,1.0479085517555845e-08,1.4567226583497836e-08,2.3499391074310058e-08,1.6198592362798254e-08,1.079782058571703e-08,4.228739485847013e-09,1.5622257135589982e-09,6.505849960255085e-10,2.6038155805719263e-10,1.1572037820611388e-10,5.332514629173377e-11,2.1512789086556583e-11,6.561386945155047e-12,8.964483930043542e-13,2.326857643300054e-13,1.8325729270713492e-13,1.6804282113386755e-13,1.3939961846736174e-13,1.8619180204519605e-13,3.9247734418359833e-13,5.235023576458099e-16,8.86253062028404e-13,8.56757358127092e-13,1.4727609664668075e-12,8.767225658091311e-13,8.263334345028133e-13],[3.683626826963922e-16,7.876282517593283e-13,8.571440167496371e-13,1.4603936137077363e-12,9.537466572990196e-13,9.548876520204531e-13,7.358548630007626e-15,6.546882383843417e-13,1.7671420950003387e-13,1.7530779958145654e-13,2.735894199436506e-13,2.8345766373608915e-13,3.736169647641695e-13,5.907907054787319e-13,6.4577047679266535e-12,1.458772302628197e-11,3.1399157251333343e-11,6.66652188239698e-11,1.904982866074042e-10,4.891504069946355e-10,8.113010259393998e-10,2.7721897298296855e-09,5.649727643775014e-09,1.0194080348769241e-08,3.0131325146447697e-08,1.1460156731314972e-08,5.658281518051415e-09,2.989315670138819e-09,1.0732049036706862e-09,5.233558615115672e-10,2.192724349073476e-10,9.357747979556674e-11,3.873244205545247e-11,1.6233892478892622e-11,6.868991047612908e-12,4.991252732621577e-13,2.1562731720473968e-13,2.0446019678421047e-13,1.8168208919028775e-13,1.425204789408669e-13,2.3226540607323897e-13,4.74732672755369e-13,8.090197817634926e-15,9.384931507286984e-13,8.728808551361474e-13,1.4474862148544238e-12,9.177017401450548e-13,8.031859382145584e-13],[1.5385709346395122e-15,7.458859915515274e-13,8.955478582231259e-13,1.4410267320363399e-12,9.655413034234113e-13,9.329094538816008e-13,5.211652142739429e-14,6.895658890459244e-13,2.4608208467589673e-13,1.9071289494817193e-13,2.6984984607592214e-13,2.7802938920906695e-13,2.7477646156764325e-13,3.6624707650024487e-13,4.451477151257762e-12,9.874010468123138e-12,3.137184910475797e-11,6.16900314348308e-11,1.6807032277111985e-10,3.9052794244032e-10,6.173083950808429e-10,1.8339240751028856e-09,3.0187541743253013e-09,4.957936130599685e-09,1.8495929314796585e-08,5.636963487321466e-09,3.0557975088102223e-09,1.9957035792039105e-09,8.186860547927747e-10,4.193173962838237e-10,1.936330728510098e-10,9.109414197297035e-11,3.6107758482043325e-11,1.0603539552927386e-11,4.81818495581889e-12,2.542433616021598e-13,1.6755098224516317e-13,2.0364267395926584e-13,1.7595804062840436e-13,1.4796389282066855e-13,3.015646286239129e-13,5.415212994241613e-13,5.4009308137474746e-14,8.878122308847555e-13,8.926800007226565e-13,1.420054158993943e-12,9.534722641839657e-13,7.713714124235665e-13],[8.807052072953649e-14,7.193792890865423e-13,9.66953325178248e-13,1.4133957883139183e-12,9.483353595672852e-13,8.200287788362481e-13,1.495824369314125e-13,6.388298933669077e-13,3.97583455834462e-13,2.0610427150315817e-13,2.0363954841936601e-13,2.369326436165682e-13,2.082632417828308e-13,3.003404291116956e-13,2.4472337824560805e-12,8.378398503392052e-12,2.720327506543424e-11,5.674933328130065e-11,1.1655267700501873e-10,2.4566582400534453e-10,5.019138228831738e-10,1.1688384257280877e-09,2.043147095355229e-09,1.2439325917293477e-09,1.0061746598392477e-09,1.395069098874691e-09,2.1912196418348883e-09,1.2956451234774997e-09,5.955346198267229e-10,2.832552932470187e-10,1.3693225804032457e-10,7.006391758365633e-11,3.281556059317935e-11,8.854745862624135e-12,2.661869997793989e-12,1.636208750127606e-13,1.309360639791001e-13,1.682318169890219e-13,1.5077856742088827e-13,1.5381627648308671e-13,3.840059497681181e-13,6.156236304806234e-13,1.6267723846909102e-13,7.923568697111793e-13,9.219327973760816e-13,1.3850699061600025e-12,9.772732632924475e-13,7.240986714988319e-13],[4.577569146902158e-15,7.070601214906711e-13,1.0705368347194548e-12,1.375308779027929e-12,9.079908795216444e-13,6.769506958209114e-13,2.57351497763642e-13,5.843199624996839e-13,5.811425582743936e-13,2.1624239227380516e-13,1.4525146085916896e-13,1.7089807872214437e-13,1.9782667202135891e-13,3.145448319883494e-13,1.7599984985151457e-12,6.6616197434967326e-12,1.645908704297051e-11,4.075566283775893e-11,8.940160724640051e-11,1.8019587864776498e-10,4.802008815590893e-10,8.473540788459754e-10,1.3817628386801506e-09,5.395542178278853e-09,1.044381814901979e-08,5.248324339331697e-09,1.5766957594839554e-09,9.642326048024513e-10,5.035315409139626e-10,2.3061697455522948e-10,1.0867410547949611e-10,4.7671661003461904e-11,1.9508418989620274e-11,7.071510209383765e-12,1.8755036762192686e-12,1.1790788325127495e-13,1.244206973567584e-13,1.27186604301805e-13,1.1481928537694332e-13,1.6625571190672696e-13,4.636316779213935e-13,7.077776657226817e-13,3.0543025337769084e-13,7.200449368106584e-13,9.598498201864148e-13,1.3399618054815152e-12,9.908794298231205e-13,6.662604578068451e-13],[4.4907110648085424e-15,6.949168744161853e-13,1.1791676739556513e-12,1.3241301155149273e-12,8.611193864367946e-13,5.754211082179187e-13,3.525594330127054e-13,6.015676238909648e-13,7.171648728984578e-13,2.2575872307173487e-13,1.0898458071905073e-13,1.4328749372365796e-13,2.338277440814131e-13,2.970529953015755e-13,1.2925922845509773e-12,3.436052761912374e-12,9.5902529288962e-12,4.5040397147930166e-11,8.736550865243578e-11,1.4194457559222744e-10,4.0092933214961364e-10,5.789740857081066e-10,1.0260835151509304e-09,7.849444077648858e-09,2.2693920285331134e-08,7.682699235204779e-09,1.2044042104739778e-09,6.658388734605813e-10,3.96323948606964e-10,2.0202036555342766e-10,1.0758164341148621e-10,4.552592034095373e-11,1.0911366121710915e-11,3.849678047967753e-12,1.6237456972798012e-12,1.1308173979432775e-13,1.5645576256664837e-13,1.0772445942140401e-13,7.898191682702672e-14,1.9374344044897437e-13,5.392859948863102e-13,7.957492804941617e-13,4.456000169153933e-13,6.847939217926505e-13,9.858123440286273e-13,1.2794097248164402e-12,1.0029113371747306e-12,6.1293279754729e-13],[4.765602089384455e-15,6.611603159339071e-13,1.225008243492468e-12,1.245427536337013e-12,8.229134298233171e-13,5.082701769447305e-13,4.3331191008706335e-13,7.313196894507445e-13,7.760961931868524e-13,2.533822380412618e-13,8.009179783314766e-14,1.6190727022488734e-13,2.87052269865865e-13,2.651433675288233e-13,8.192723669233737e-13,1.5619096413908609e-12,5.923053452978407e-12,3.175302422448228e-11,6.584750072462084e-11,1.1295823253529453e-10,2.6407107115036665e-10,4.3218144704177775e-10,8.334552606814005e-10,4.721436721314428e-09,1.0801931292956315e-08,4.626418428706942e-09,9.776835765500601e-10,4.891837155415798e-10,2.690972910970533e-10,1.403798360093506e-10,8.027703991324058e-11,3.330856575016162e-11,6.65778270372732e-12,1.7581765222228682e-12,9.832396098771346e-13,1.359589408346812e-13,2.230956678467795e-13,1.15728382973297e-13,5.722312471553054e-14,2.481204736947664e-13,6.308432560360167e-13,8.704558920835216e-13,5.52359627855779e-13,6.578258952642873e-13,9.456443191798113e-13,1.1732263956114797e-12,1.0133593275749909e-12,5.780798476987052e-13],[7.057957175066484e-14,5.956817632148612e-13,1.1291446554418963e-12,1.1141293720453824e-12,8.033244487078247e-13,4.633765127806995e-13,5.090220211646397e-13,9.65178331402036e-13,7.995815742361039e-13,3.2288915658631104e-13,6.734144820529726e-14,1.8369339105153862e-13,3.115585407014107e-13,2.272039613285735e-13,3.64885484149949e-13,8.777803881154745e-13,2.0728120847583263e-12,9.690444985448781e-12,5.3868316522372694e-11,1.0116985643707079e-10,2.1226123459342782e-10,3.703408561351901e-10,6.785352671883282e-10,1.7862199419058004e-09,2.7573055432397863e-09,1.8003891224012801e-09,7.238242774992016e-10,4.0226138876073734e-10,2.2862762106385615e-10,1.1658975735514652e-10,6.376154195271455e-11,1.0873609635881534e-11,2.103733254910037e-12,9.145344803712647e-13,3.4166380617858747e-13,1.3722126255998013e-13,2.7990529547892327e-13,1.5815882916134506e-13,4.5812312007806955e-14,3.384793198705827e-13,7.496863784827882e-13,9.547251215264363e-13,5.981880086357527e-13,6.024813166798835e-13,7.976256846563997e-13,9.964994151013529e-13,1.0316142557806155e-12,5.658042483364173e-13],[1.885251722214081e-15,5.264429426840357e-13,9.367701058629563e-13,9.492974358594352e-13,8.105299132353802e-13,4.477986011307537e-13,6.171840710705102e-13,1.222937252332465e-12,8.295101057203393e-13,4.049875307568916e-13,8.16255377636665e-14,1.8734629545902266e-13,2.838414006922068e-13,1.7834051649238661e-13,1.9495778726617188e-13,4.333147453258552e-13,3.874649619236806e-13,6.008326854147303e-13,6.085372388553095e-11,1.1752480685977248e-10,1.6236238628421113e-10,2.935680275144499e-10,5.269812671089669e-10,1.6096705517906004e-09,4.203013544533602e-09,1.7361339381456133e-09,5.192258825318068e-10,3.0602003619846337e-10,2.0178243945004492e-10,1.1146671347369935e-10,6.88116418923987e-11,1.9922352786051842e-13,2.815473960425381e-13,3.6093528576607074e-13,1.3046233759296676e-13,1.2165285440308154e-13,2.761197124299231e-13,2.2600763184134943e-13,3.6504008036092305e-14,4.2789384666437445e-13,8.744001748746697e-13,1.0432869024520421e-12,6.034332020567608e-13,5.259063394628423e-13,6.222221094130406e-13,8.302017523260152e-13,1.1124486081556912e-12,5.721315145324215e-13],[1.7666243675183313e-15,4.918236788301507e-13,7.829664243701164e-13,7.916513077236346e-13,8.134692555618141e-13,4.683504664640943e-13,8.192965503242616e-13,1.3839389442455317e-12,8.709411144120171e-13,4.707622092091786e-13,1.946920277869092e-13,1.8292300192225782e-13,2.2382583222367775e-13,1.4578133462877393e-13,1.5539910319546942e-13,2.00471097649136e-13,9.741782524974028e-14,1.9997008516077122e-13,2.971357407083642e-11,9.175691018959642e-11,1.2369242719265742e-10,2.348499728814156e-10,4.5707652130320284e-10,1.8717300321382855e-09,6.505537946462572e-09,1.9931031767999883e-09,4.143644907323427e-10,2.3956078785332125e-10,1.5021780745513967e-10,8.679826850502943e-11,3.7646599024196534e-11,1.543983640042403e-12,8.161404010942903e-15,4.516676844571062e-14,5.633126499573899e-14,1.1043936619955674e-13,2.197958802913184e-13,2.5277528290313536e-13,1.3977764203291998e-13,4.90582751759173e-13,9.638956787619575e-13,1.1103549221429166e-12,6.47002496218524e-13,4.809502380588574e-13,5.280425453503594e-13,7.088824394924172e-13,1.1873624180661315e-12,5.770379392516031e-13],[3.2062350087270853e-15,4.795674068697358e-13,7.287310980226666e-13,6.561515912486083e-13,7.745109462559138e-13,5.346319634354678e-13,1.1752829847643317e-12,1.384418028613045e-12,9.46396791297101e-13,5.58007303796143e-13,3.51364618483923e-13,1.5743318688332084e-13,1.5600042153805992e-13,1.3478992242333553e-13,1.7222360995299489e-13,1.3014887867230585e-13,3.6004309410667556e-13,7.634422552784249e-13,1.1615295269914078e-11,6.298187754622241e-11,1.045530181495108e-10,2.165127492682204e-10,3.5230336159025146e-10,1.1660643329346148e-09,3.140773063154705e-09,1.255884866090221e-09,3.3262235355688693e-10,2.2383724693619754e-10,1.2217102686622895e-10,6.469528074519517e-11,1.570088558763127e-11,2.624756712968544e-12,2.0907634229879269e-13,2.594166764542816e-14,1.1092910918754585e-13,9.990901244498447e-14,1.5002191429164874e-13,1.9726696834165265e-13,2.899156316940427e-13,5.551648818486328e-13,1.022677301513039e-12,1.1755849074431173e-12,7.905270611475118e-13,4.91065574451037e-13,5.559775681164427e-13,6.173316305081212e-13,1.0970876732207387e-12,5.539054117688634e-13]],\"type\":\"surface\"}],                        {\"template\":{\"data\":{\"histogram2dcontour\":[{\"type\":\"histogram2dcontour\",\"colorbar\":{\"outlinewidth\":0,\"ticks\":\"\"},\"colorscale\":[[0.0,\"#0d0887\"],[0.1111111111111111,\"#46039f\"],[0.2222222222222222,\"#7201a8\"],[0.3333333333333333,\"#9c179e\"],[0.4444444444444444,\"#bd3786\"],[0.5555555555555556,\"#d8576b\"],[0.6666666666666666,\"#ed7953\"],[0.7777777777777778,\"#fb9f3a\"],[0.8888888888888888,\"#fdca26\"],[1.0,\"#f0f921\"]]}],\"choropleth\":[{\"type\":\"choropleth\",\"colorbar\":{\"outlinewidth\":0,\"ticks\":\"\"}}],\"histogram2d\":[{\"type\":\"histogram2d\",\"colorbar\":{\"outlinewidth\":0,\"ticks\":\"\"},\"colorscale\":[[0.0,\"#0d0887\"],[0.1111111111111111,\"#46039f\"],[0.2222222222222222,\"#7201a8\"],[0.3333333333333333,\"#9c179e\"],[0.4444444444444444,\"#bd3786\"],[0.5555555555555556,\"#d8576b\"],[0.6666666666666666,\"#ed7953\"],[0.7777777777777778,\"#fb9f3a\"],[0.8888888888888888,\"#fdca26\"],[1.0,\"#f0f921\"]]}],\"heatmap\":[{\"type\":\"heatmap\",\"colorbar\":{\"outlinewidth\":0,\"ticks\":\"\"},\"colorscale\":[[0.0,\"#0d0887\"],[0.1111111111111111,\"#46039f\"],[0.2222222222222222,\"#7201a8\"],[0.3333333333333333,\"#9c179e\"],[0.4444444444444444,\"#bd3786\"],[0.5555555555555556,\"#d8576b\"],[0.6666666666666666,\"#ed7953\"],[0.7777777777777778,\"#fb9f3a\"],[0.8888888888888888,\"#fdca26\"],[1.0,\"#f0f921\"]]}],\"heatmapgl\":[{\"type\":\"heatmapgl\",\"colorbar\":{\"outlinewidth\":0,\"ticks\":\"\"},\"colorscale\":[[0.0,\"#0d0887\"],[0.1111111111111111,\"#46039f\"],[0.2222222222222222,\"#7201a8\"],[0.3333333333333333,\"#9c179e\"],[0.4444444444444444,\"#bd3786\"],[0.5555555555555556,\"#d8576b\"],[0.6666666666666666,\"#ed7953\"],[0.7777777777777778,\"#fb9f3a\"],[0.8888888888888888,\"#fdca26\"],[1.0,\"#f0f921\"]]}],\"contourcarpet\":[{\"type\":\"contourcarpet\",\"colorbar\":{\"outlinewidth\":0,\"ticks\":\"\"}}],\"contour\":[{\"type\":\"contour\",\"colorbar\":{\"outlinewidth\":0,\"ticks\":\"\"},\"colorscale\":[[0.0,\"#0d0887\"],[0.1111111111111111,\"#46039f\"],[0.2222222222222222,\"#7201a8\"],[0.3333333333333333,\"#9c179e\"],[0.4444444444444444,\"#bd3786\"],[0.5555555555555556,\"#d8576b\"],[0.6666666666666666,\"#ed7953\"],[0.7777777777777778,\"#fb9f3a\"],[0.8888888888888888,\"#fdca26\"],[1.0,\"#f0f921\"]]}],\"surface\":[{\"type\":\"surface\",\"colorbar\":{\"outlinewidth\":0,\"ticks\":\"\"},\"colorscale\":[[0.0,\"#0d0887\"],[0.1111111111111111,\"#46039f\"],[0.2222222222222222,\"#7201a8\"],[0.3333333333333333,\"#9c179e\"],[0.4444444444444444,\"#bd3786\"],[0.5555555555555556,\"#d8576b\"],[0.6666666666666666,\"#ed7953\"],[0.7777777777777778,\"#fb9f3a\"],[0.8888888888888888,\"#fdca26\"],[1.0,\"#f0f921\"]]}],\"mesh3d\":[{\"type\":\"mesh3d\",\"colorbar\":{\"outlinewidth\":0,\"ticks\":\"\"}}],\"scatter\":[{\"fillpattern\":{\"fillmode\":\"overlay\",\"size\":10,\"solidity\":0.2},\"type\":\"scatter\"}],\"parcoords\":[{\"type\":\"parcoords\",\"line\":{\"colorbar\":{\"outlinewidth\":0,\"ticks\":\"\"}}}],\"scatterpolargl\":[{\"type\":\"scatterpolargl\",\"marker\":{\"colorbar\":{\"outlinewidth\":0,\"ticks\":\"\"}}}],\"bar\":[{\"error_x\":{\"color\":\"#2a3f5f\"},\"error_y\":{\"color\":\"#2a3f5f\"},\"marker\":{\"line\":{\"color\":\"#E5ECF6\",\"width\":0.5},\"pattern\":{\"fillmode\":\"overlay\",\"size\":10,\"solidity\":0.2}},\"type\":\"bar\"}],\"scattergeo\":[{\"type\":\"scattergeo\",\"marker\":{\"colorbar\":{\"outlinewidth\":0,\"ticks\":\"\"}}}],\"scatterpolar\":[{\"type\":\"scatterpolar\",\"marker\":{\"colorbar\":{\"outlinewidth\":0,\"ticks\":\"\"}}}],\"histogram\":[{\"marker\":{\"pattern\":{\"fillmode\":\"overlay\",\"size\":10,\"solidity\":0.2}},\"type\":\"histogram\"}],\"scattergl\":[{\"type\":\"scattergl\",\"marker\":{\"colorbar\":{\"outlinewidth\":0,\"ticks\":\"\"}}}],\"scatter3d\":[{\"type\":\"scatter3d\",\"line\":{\"colorbar\":{\"outlinewidth\":0,\"ticks\":\"\"}},\"marker\":{\"colorbar\":{\"outlinewidth\":0,\"ticks\":\"\"}}}],\"scattermapbox\":[{\"type\":\"scattermapbox\",\"marker\":{\"colorbar\":{\"outlinewidth\":0,\"ticks\":\"\"}}}],\"scatterternary\":[{\"type\":\"scatterternary\",\"marker\":{\"colorbar\":{\"outlinewidth\":0,\"ticks\":\"\"}}}],\"scattercarpet\":[{\"type\":\"scattercarpet\",\"marker\":{\"colorbar\":{\"outlinewidth\":0,\"ticks\":\"\"}}}],\"carpet\":[{\"aaxis\":{\"endlinecolor\":\"#2a3f5f\",\"gridcolor\":\"white\",\"linecolor\":\"white\",\"minorgridcolor\":\"white\",\"startlinecolor\":\"#2a3f5f\"},\"baxis\":{\"endlinecolor\":\"#2a3f5f\",\"gridcolor\":\"white\",\"linecolor\":\"white\",\"minorgridcolor\":\"white\",\"startlinecolor\":\"#2a3f5f\"},\"type\":\"carpet\"}],\"table\":[{\"cells\":{\"fill\":{\"color\":\"#EBF0F8\"},\"line\":{\"color\":\"white\"}},\"header\":{\"fill\":{\"color\":\"#C8D4E3\"},\"line\":{\"color\":\"white\"}},\"type\":\"table\"}],\"barpolar\":[{\"marker\":{\"line\":{\"color\":\"#E5ECF6\",\"width\":0.5},\"pattern\":{\"fillmode\":\"overlay\",\"size\":10,\"solidity\":0.2}},\"type\":\"barpolar\"}],\"pie\":[{\"automargin\":true,\"type\":\"pie\"}]},\"layout\":{\"autotypenumbers\":\"strict\",\"colorway\":[\"#636efa\",\"#EF553B\",\"#00cc96\",\"#ab63fa\",\"#FFA15A\",\"#19d3f3\",\"#FF6692\",\"#B6E880\",\"#FF97FF\",\"#FECB52\"],\"font\":{\"color\":\"#2a3f5f\"},\"hovermode\":\"closest\",\"hoverlabel\":{\"align\":\"left\"},\"paper_bgcolor\":\"white\",\"plot_bgcolor\":\"#E5ECF6\",\"polar\":{\"bgcolor\":\"#E5ECF6\",\"angularaxis\":{\"gridcolor\":\"white\",\"linecolor\":\"white\",\"ticks\":\"\"},\"radialaxis\":{\"gridcolor\":\"white\",\"linecolor\":\"white\",\"ticks\":\"\"}},\"ternary\":{\"bgcolor\":\"#E5ECF6\",\"aaxis\":{\"gridcolor\":\"white\",\"linecolor\":\"white\",\"ticks\":\"\"},\"baxis\":{\"gridcolor\":\"white\",\"linecolor\":\"white\",\"ticks\":\"\"},\"caxis\":{\"gridcolor\":\"white\",\"linecolor\":\"white\",\"ticks\":\"\"}},\"coloraxis\":{\"colorbar\":{\"outlinewidth\":0,\"ticks\":\"\"}},\"colorscale\":{\"sequential\":[[0.0,\"#0d0887\"],[0.1111111111111111,\"#46039f\"],[0.2222222222222222,\"#7201a8\"],[0.3333333333333333,\"#9c179e\"],[0.4444444444444444,\"#bd3786\"],[0.5555555555555556,\"#d8576b\"],[0.6666666666666666,\"#ed7953\"],[0.7777777777777778,\"#fb9f3a\"],[0.8888888888888888,\"#fdca26\"],[1.0,\"#f0f921\"]],\"sequentialminus\":[[0.0,\"#0d0887\"],[0.1111111111111111,\"#46039f\"],[0.2222222222222222,\"#7201a8\"],[0.3333333333333333,\"#9c179e\"],[0.4444444444444444,\"#bd3786\"],[0.5555555555555556,\"#d8576b\"],[0.6666666666666666,\"#ed7953\"],[0.7777777777777778,\"#fb9f3a\"],[0.8888888888888888,\"#fdca26\"],[1.0,\"#f0f921\"]],\"diverging\":[[0,\"#8e0152\"],[0.1,\"#c51b7d\"],[0.2,\"#de77ae\"],[0.3,\"#f1b6da\"],[0.4,\"#fde0ef\"],[0.5,\"#f7f7f7\"],[0.6,\"#e6f5d0\"],[0.7,\"#b8e186\"],[0.8,\"#7fbc41\"],[0.9,\"#4d9221\"],[1,\"#276419\"]]},\"xaxis\":{\"gridcolor\":\"white\",\"linecolor\":\"white\",\"ticks\":\"\",\"title\":{\"standoff\":15},\"zerolinecolor\":\"white\",\"automargin\":true,\"zerolinewidth\":2},\"yaxis\":{\"gridcolor\":\"white\",\"linecolor\":\"white\",\"ticks\":\"\",\"title\":{\"standoff\":15},\"zerolinecolor\":\"white\",\"automargin\":true,\"zerolinewidth\":2},\"scene\":{\"xaxis\":{\"backgroundcolor\":\"#E5ECF6\",\"gridcolor\":\"white\",\"linecolor\":\"white\",\"showbackground\":true,\"ticks\":\"\",\"zerolinecolor\":\"white\",\"gridwidth\":2},\"yaxis\":{\"backgroundcolor\":\"#E5ECF6\",\"gridcolor\":\"white\",\"linecolor\":\"white\",\"showbackground\":true,\"ticks\":\"\",\"zerolinecolor\":\"white\",\"gridwidth\":2},\"zaxis\":{\"backgroundcolor\":\"#E5ECF6\",\"gridcolor\":\"white\",\"linecolor\":\"white\",\"showbackground\":true,\"ticks\":\"\",\"zerolinecolor\":\"white\",\"gridwidth\":2}},\"shapedefaults\":{\"line\":{\"color\":\"#2a3f5f\"}},\"annotationdefaults\":{\"arrowcolor\":\"#2a3f5f\",\"arrowhead\":0,\"arrowwidth\":1},\"geo\":{\"bgcolor\":\"white\",\"landcolor\":\"#E5ECF6\",\"subunitcolor\":\"white\",\"showland\":true,\"showlakes\":true,\"lakecolor\":\"white\"},\"title\":{\"x\":0.05},\"mapbox\":{\"style\":\"light\"}}},\"scene\":{\"xaxis\":{\"tickfont\":{\"color\":\"black\",\"size\":17,\"family\":\"Old Standard TT, serif\"},\"title\":{\"text\":\" \"},\"ticktext\":[\"-1/4\",\"0\",\"1/4\"],\"tickvals\":[12,23,35],\"range\":[11,36]},\"yaxis\":{\"tickfont\":{\"color\":\"black\",\"size\":17,\"family\":\"Old Standard TT, serif\"},\"title\":{\"text\":\" \"},\"ticktext\":[\"-1/4\",\"0\",\"1/4\"],\"tickvals\":[12,23,35],\"range\":[11,36]},\"zaxis\":{\"tickfont\":{\"color\":\"black\",\"size\":17,\"family\":\"Old Standard TT, serif\"},\"title\":{\"text\":\" \"}}},\"margin\":{\"r\":10,\"l\":10,\"b\":10,\"t\":10},\"width\":700},                        {\"responsive\": true}                    ).then(function(){\n",
       "                            \n",
       "var gd = document.getElementById('ce2ab18a-fbd8-411d-90f3-c786a27ff62d');\n",
       "var x = new MutationObserver(function (mutations, observer) {{\n",
       "        var display = window.getComputedStyle(gd).display;\n",
       "        if (!display || display === 'none') {{\n",
       "            console.log([gd, 'removed!']);\n",
       "            Plotly.purge(gd);\n",
       "            observer.disconnect();\n",
       "        }}\n",
       "}});\n",
       "\n",
       "// Listen for the removal of the full notebook cells\n",
       "var notebookContainer = gd.closest('#notebook-container');\n",
       "if (notebookContainer) {{\n",
       "    x.observe(notebookContainer, {childList: true});\n",
       "}}\n",
       "\n",
       "// Listen for the clearing of the current output cell\n",
       "var outputEl = gd.closest('.output');\n",
       "if (outputEl) {{\n",
       "    x.observe(outputEl, {childList: true});\n",
       "}}\n",
       "\n",
       "                        })                };                });            </script>        </div>"
      ]
     },
     "metadata": {},
     "output_type": "display_data"
    }
   ],
   "source": [
    "import plotly.express as px\n",
    "import plotly.graph_objects as go\n",
    "import plotly.figure_factory as ff\n",
    "\n",
    "\n",
    "x, y = np.linspace(0, nkx-1, nkx), np.linspace(0, nky-1, nky)\n",
    "X,Y = np.meshgrid(x,y)\n",
    "#fig = go.Figure(data=[go.Surface(z=ψ[0,:].reshape(nkx,nky,nkz)[:,:,16], x=x, y=y,\n",
    "fig = go.Figure(data=[go.Surface(z=ψ[0,:].reshape(nkx,nky,nkz)[:,:,int(nkz/2)], x=x, y=y,\n",
    "                        colorscale='Reds',cmin=0,cmax=0.6, colorbar = dict(tickfont=dict(\n",
    "                            color='black',size=30,family='Old Standard TT, serif',),orientation='h')   )])\n",
    "#fig = ff.create_trisurf(z=ψ[0,:].reshape(32,32,32)[:,:,16], x=X, y=Y)\n",
    "\n",
    "fig.update_layout(scene = dict(\n",
    "                    xaxis = dict( title = ' ',\n",
    "                        ticktext= [r'-1/4',r'0',r'1/4'],\n",
    "                        tickvals= [int(nkx/2)-int(nkx/4),int(nkx/2)-1,int(nkx/2)+int(nkx/4)-1],\n",
    "                        range=[int(nkx/2)-int(nkx/4)-1,int(nkx/2)+int(nkx/4)],tickfont=dict(\n",
    "                            color='black',\n",
    "                            size=17,\n",
    "                            family='Old Standard TT, serif',)),\n",
    "                    yaxis = dict( title = ' ',\n",
    "                        ticktext= [r'-1/4',r'0',r'1/4'],\n",
    "                        tickvals= [int(nky/2)-int(nky/4),int(nky/2)-1,int(nky/2)+int(nky/4)-1],\n",
    "                        range=[int(nky/2)-int(nky/4)-1,int(nky/2)+int(nky/4)],tickfont=dict(\n",
    "                            color='black',\n",
    "                            size=17,\n",
    "                            family='Old Standard TT, serif',)) ,\n",
    "                    zaxis = dict( title = ' ',\n",
    "                            tickfont=dict(\n",
    "                            color='black',\n",
    "                            size=17,\n",
    "                            family='Old Standard TT, serif',) )),\n",
    "                    width=700,\n",
    "                    margin=dict(r=10, l=10, b=10, t=10)\n",
    "                  )\n",
    "\n",
    "\n",
    "#fig.update_xaxes(range=[8, 23])\n",
    "#fig.update_layout(xaxis = dict(range=[7,24]))\n",
    "#fig.update_yaxes(range=[8, 23])\n",
    "\n",
    "\n",
    "fig.show()"
   ]
  },
  {
   "cell_type": "code",
   "execution_count": 28,
   "id": "d9a91953",
   "metadata": {},
   "outputs": [
    {
     "data": {
      "image/png": "[encoded data removed]",
      "text/plain": [
       "<Figure size 640x480 with 1 Axes>"
      ]
     },
     "metadata": {},
     "output_type": "display_data"
    }
   ],
   "source": [
    "fig, ax = plt.subplots(1, 1)\n",
    "palette = copy(plt.get_cmap('Reds'))\n",
    "palette.set_under('white', 1.0)  # 1.0 represents not transparent\n",
    "#levels = np.arange(0.0,0.6, 0.01)\n",
    "#levels[0] = 1e-3\n",
    "#norm = colors.BoundaryNorm(levels, ncolors=palette.N)\n",
    "\n",
    "\n",
    "#contour = ax.imshow(ψ[0,:].reshape(32,32,32)[:,:,16],aspect='auto', cmap=palette,norm=norm)\n",
    "contour = ax.contourf(ψ[0,:].reshape(nkx,nky,nkz)[:,:,int(nkz/2)], cmap=palette)\n",
    "#cbar = fig.colorbar(contour, extend='min', shrink=0.9, ax=ax)\n"
   ]
  },
  {
   "cell_type": "code",
   "execution_count": 29,
   "id": "8d6878c0",
   "metadata": {},
   "outputs": [],
   "source": [
    "name_lat = path+'Lattice'\n",
    "orbitales,parameters = Reading.ReadLattice(name_lat+'.h5')\n",
    "\n",
    "a = parameters[0] / cst.aB\n",
    "b = parameters[1] / cst.aB\n",
    "c = parameters[2] / cst.aB\n",
    "\n",
    "\n",
    "lat = np.zeros([3,3])\n",
    "lat[0,:] =  np.array([a,  0.0, 0.0])\n",
    "lat[1,:] =  np.array([0.0,  b, 0.0])\n",
    "lat[2,:] =  np.array([0.0, 0.0,  c])\n",
    "\n",
    "a1, a2, a3 = lat[0,:], lat[1,:], lat[2,:]"
   ]
  },
  {
   "cell_type": "code",
   "execution_count": 30,
   "id": "4f97fde8",
   "metadata": {},
   "outputs": [],
   "source": [
    "first_x   = np.arange(0,int(nkx/2)+1,1,dtype=int)\n",
    "second_x  = np.arange(-int(nkx/2)+1,0,1,dtype=int)\n",
    "\n",
    "first_y   = np.arange(0,int(nky/2)+1,1,dtype=int)\n",
    "second_y  = np.arange(-int(nky/2)+1,0,1,dtype=int)\n",
    "\n",
    "first_z   = np.arange(0,int(nkz/2)+1,1,dtype=int)\n",
    "second_z  = np.arange(-int(nkz/2)+1,0,1,dtype=int)\n",
    "\n",
    "total_x = np.array( list(first_x) + list(second_x))\n",
    "total_y = np.array( list(first_y) + list(second_y))\n",
    "total_z = np.array( list(first_z) + list(second_z))\n",
    "\n",
    "irvec = np.zeros( (len(total_x)*len(total_y)*len(total_z),3),dtype=int )\n",
    "\n",
    "contador=0\n",
    "for kk in range(0,len(total_z)):\n",
    "    for jj in range(0,len(total_y)):\n",
    "        for ii in range(0,len(total_x)):\n",
    "\n",
    "            irvec[contador,0] = total_x[ii]\n",
    "            irvec[contador,1] = total_y[jj]\n",
    "            irvec[contador,2] = total_z[kk]\n",
    "            contador+=1\n",
    "\n",
    "xs = irvec[:,0]\n",
    "ys = irvec[:,1]\n",
    "zs = irvec[:,2]\n",
    "\n",
    "rvecs = xs[:,None] * a1[None,:] + ys[:,None] * a2[None,:]+ zs[:,None] * a3[None,:]\n",
    "\n",
    "\n",
    "p_ex = np.array([0.0,0.0,0.0])"
   ]
  },
  {
   "cell_type": "code",
   "execution_count": 31,
   "id": "621acdd7",
   "metadata": {},
   "outputs": [],
   "source": [
    "p_dot_R = np.einsum('ri,i->r', rvecs, p_ex)"
   ]
  },
  {
   "cell_type": "code",
   "execution_count": 32,
   "id": "307b3444",
   "metadata": {},
   "outputs": [],
   "source": [
    "gR = np.zeros_like(ψ_Exciton_R)\n",
    "gR[0,0,:] = ψ_Exciton_R[0,0,:]*np.exp(-1.0j*p_dot_R)\n",
    "\n",
    "ψ_Exciton_k_plus_p = np.zeros_like(ψ_Exciton_k)\n",
    "\n",
    "ψ_Exciton_k_plus_p = Fourier.Transform_q(nkx,nky,nkz,gR)"
   ]
  },
  {
   "cell_type": "code",
   "execution_count": 33,
   "id": "52aaa82c",
   "metadata": {},
   "outputs": [
    {
     "data": {
      "image/png": "[encoded data removed]",
      "text/plain": [
       "<Figure size 640x480 with 1 Axes>"
      ]
     },
     "metadata": {},
     "output_type": "display_data"
    }
   ],
   "source": [
    "fig, ax = plt.subplots(1, 1)\n",
    "palette = copy(plt.get_cmap('Reds'))\n",
    "palette.set_under('white', 1.0)  # 1.0 represents not transparent\n",
    "#levels = np.arange(0.0,0.6, 0.01)\n",
    "#levels[0] = 1e-3\n",
    "#norm = colors.BoundaryNorm(levels, ncolors=palette.N)\n",
    "\n",
    "\n",
    "#contour = ax.imshow(ψ[0,:].reshape(32,32,32)[:,:,16],aspect='auto', cmap=palette,norm=norm)\n",
    "contour = ax.contourf(abs(ψ_Exciton_k_plus_p[0,0,:].reshape(nkx,nky,nkz)[:,:,int(nkz/2)]), cmap=palette)\n",
    "#cbar = fig.colorbar(contour, extend='min', shrink=0.9, ax=ax)\n"
   ]
  },
  {
   "cell_type": "code",
   "execution_count": 34,
   "id": "40eb80d5",
   "metadata": {},
   "outputs": [],
   "source": [
    "# Approximate the delta function\n",
    "\"\"\"eps = 0.1\n",
    "def delta(x):\n",
    "    return (1/pi)*(eps/(x**2 + eps**2))\n",
    "\"\"\"\n",
    "def Delta (E,sigma):\n",
    "    return 1/np.sqrt(2*np.pi*sigma**2)*np.exp(-0.5*E**2/sigma**2)"
   ]
  },
  {
   "cell_type": "code",
   "execution_count": 35,
   "id": "015ff7e8",
   "metadata": {},
   "outputs": [],
   "source": [
    "EnergySpectrum = np.linspace(np.min(Energie_Valence)+0.4943417/cst.Ry,np.max(Energie_Valence)+0.4943417/cst.Ry,40)\n",
    "\n",
    "Photo = np.zeros((len(EnergySpectrum),np.shape(ψ_Exciton_k_plus_p)[-1]))\n",
    "\n",
    "tolerancia = 0.01\n",
    "\n",
    "\n",
    "for energia_ii in range(len(EnergySpectrum)):\n",
    "\n",
    "    for kk in range(np.shape(ψ_Exciton_k_plus_p)[-1]):\n",
    "        if abs(EnergySpectrum[energia_ii]-Energie_Valence[kk]-0.4943417/cst.Ry)<= tolerancia:\n",
    "            Photo[energia_ii,kk] = Delta( EnergySpectrum[energia_ii]-Energie_Valence[kk]-0.4943417/cst.Ry, tolerancia) * abs(ψ_Exciton_k_plus_p[0,0,kk])\n",
    "\n"
   ]
  },
  {
   "cell_type": "code",
   "execution_count": 36,
   "id": "f6138ce9",
   "metadata": {},
   "outputs": [
    {
     "name": "stderr",
     "output_type": "stream",
     "text": [
      "/tmp/ipykernel_10591/929303922.py:14: RuntimeWarning:\n",
      "\n",
      "More than 20 figures have been opened. Figures created through the pyplot interface (`matplotlib.pyplot.figure`) are retained until explicitly closed and may consume too much memory. (To control this warning, see the rcParam `figure.max_open_warning`). Consider using `matplotlib.pyplot.close()`.\n",
      "\n"
     ]
    },
    {
     "data": {
      "image/png": "[encoded data removed]",
      "text/plain": [
       "<Figure size 640x480 with 1 Axes>"
      ]
     },
     "metadata": {},
     "output_type": "display_data"
    },
    {
     "data": {
      "image/png": "[encoded data removed]",
      "text/plain": [
       "<Figure size 640x480 with 1 Axes>"
      ]
     },
     "metadata": {},
     "output_type": "display_data"
    },
    {
     "data": {
      "image/png": "[encoded data removed]",
      "text/plain": [
       "<Figure size 640x480 with 1 Axes>"
      ]
     },
     "metadata": {},
     "output_type": "display_data"
    },
    {
     "data": {
      "image/png": "[encoded data removed]",
      "text/plain": [
       "<Figure size 640x480 with 1 Axes>"
      ]
     },
     "metadata": {},
     "output_type": "display_data"
    },
    {
     "data": {
      "image/png": "[encoded data removed]",
      "text/plain": [
       "<Figure size 640x480 with 1 Axes>"
      ]
     },
     "metadata": {},
     "output_type": "display_data"
    },
    {
     "data": {
      "image/png": "[encoded data removed]",
      "text/plain": [
       "<Figure size 640x480 with 1 Axes>"
      ]
     },
     "metadata": {},
     "output_type": "display_data"
    },
    {
     "data": {
      "image/png": "[encoded data removed]",
      "text/plain": [
       "<Figure size 640x480 with 1 Axes>"
      ]
     },
     "metadata": {},
     "output_type": "display_data"
    },
    {
     "data": {
      "image/png": "[encoded data removed]",
      "text/plain": [
       "<Figure size 640x480 with 1 Axes>"
      ]
     },
     "metadata": {},
     "output_type": "display_data"
    },
    {
     "data": {
      "image/png": "[encoded data removed]",
      "text/plain": [
       "<Figure size 640x480 with 1 Axes>"
      ]
     },
     "metadata": {},
     "output_type": "display_data"
    },
    {
     "data": {
      "image/png": "[encoded data removed]",
      "text/plain": [
       "<Figure size 640x480 with 1 Axes>"
      ]
     },
     "metadata": {},
     "output_type": "display_data"
    },
    {
     "data": {
      "image/png": "[encoded data removed]",
      "text/plain": [
       "<Figure size 640x480 with 1 Axes>"
      ]
     },
     "metadata": {},
     "output_type": "display_data"
    },
    {
     "data": {
      "image/png": "[encoded data removed]",
      "text/plain": [
       "<Figure size 640x480 with 1 Axes>"
      ]
     },
     "metadata": {},
     "output_type": "display_data"
    },
    {
     "data": {
      "image/png": "[encoded data removed]",
      "text/plain": [
       "<Figure size 640x480 with 1 Axes>"
      ]
     },
     "metadata": {},
     "output_type": "display_data"
    },
    {
     "data": {
      "image/png": "[encoded data removed]",
      "text/plain": [
       "<Figure size 640x480 with 1 Axes>"
      ]
     },
     "metadata": {},
     "output_type": "display_data"
    },
    {
     "data": {
      "image/png": "[encoded data removed]",
      "text/plain": [
       "<Figure size 640x480 with 1 Axes>"
      ]
     },
     "metadata": {},
     "output_type": "display_data"
    },
    {
     "data": {
      "image/png": "[encoded data removed]",
      "text/plain": [
       "<Figure size 640x480 with 1 Axes>"
      ]
     },
     "metadata": {},
     "output_type": "display_data"
    },
    {
     "data": {
      "image/png": "[encoded data removed]",
      "text/plain": [
       "<Figure size 640x480 with 1 Axes>"
      ]
     },
     "metadata": {},
     "output_type": "display_data"
    },
    {
     "data": {
      "image/png": "[encoded data removed]",
      "text/plain": [
       "<Figure size 640x480 with 1 Axes>"
      ]
     },
     "metadata": {},
     "output_type": "display_data"
    },
    {
     "data": {
      "image/png": "[encoded data removed]",
      "text/plain": [
       "<Figure size 640x480 with 1 Axes>"
      ]
     },
     "metadata": {},
     "output_type": "display_data"
    },
    {
     "data": {
      "image/png": "[encoded data removed]",
      "text/plain": [
       "<Figure size 640x480 with 1 Axes>"
      ]
     },
     "metadata": {},
     "output_type": "display_data"
    },
    {
     "data": {
      "image/png": "[encoded data removed]",
      "text/plain": [
       "<Figure size 640x480 with 1 Axes>"
      ]
     },
     "metadata": {},
     "output_type": "display_data"
    },
    {
     "data": {
      "image/png": "[encoded data removed]",
      "text/plain": [
       "<Figure size 640x480 with 1 Axes>"
      ]
     },
     "metadata": {},
     "output_type": "display_data"
    },
    {
     "data": {
      "image/png": "[encoded data removed]",
      "text/plain": [
       "<Figure size 640x480 with 1 Axes>"
      ]
     },
     "metadata": {},
     "output_type": "display_data"
    },
    {
     "data": {
      "image/png": "[encoded data removed]",
      "text/plain": [
       "<Figure size 640x480 with 1 Axes>"
      ]
     },
     "metadata": {},
     "output_type": "display_data"
    },
    {
     "data": {
      "image/png": "[encoded data removed]",
      "text/plain": [
       "<Figure size 640x480 with 1 Axes>"
      ]
     },
     "metadata": {},
     "output_type": "display_data"
    },
    {
     "data": {
      "image/png": "[encoded data removed]",
      "text/plain": [
       "<Figure size 640x480 with 1 Axes>"
      ]
     },
     "metadata": {},
     "output_type": "display_data"
    },
    {
     "data": {
      "image/png": "[encoded data removed]",
      "text/plain": [
       "<Figure size 640x480 with 1 Axes>"
      ]
     },
     "metadata": {},
     "output_type": "display_data"
    },
    {
     "data": {
      "image/png": "[encoded data removed]",
      "text/plain": [
       "<Figure size 640x480 with 1 Axes>"
      ]
     },
     "metadata": {},
     "output_type": "display_data"
    },
    {
     "data": {
      "image/png": "[encoded data removed]",
      "text/plain": [
       "<Figure size 640x480 with 1 Axes>"
      ]
     },
     "metadata": {},
     "output_type": "display_data"
    },
    {
     "data": {
      "image/png": "[encoded data removed]",
      "text/plain": [
       "<Figure size 640x480 with 1 Axes>"
      ]
     },
     "metadata": {},
     "output_type": "display_data"
    },
    {
     "data": {
      "image/png": "[encoded data removed]",
      "text/plain": [
       "<Figure size 640x480 with 1 Axes>"
      ]
     },
     "metadata": {},
     "output_type": "display_data"
    },
    {
     "data": {
      "image/png": "[encoded data removed]",
      "text/plain": [
       "<Figure size 640x480 with 1 Axes>"
      ]
     },
     "metadata": {},
     "output_type": "display_data"
    },
    {
     "data": {
      "image/png": "[encoded data removed]",
      "text/plain": [
       "<Figure size 640x480 with 1 Axes>"
      ]
     },
     "metadata": {},
     "output_type": "display_data"
    },
    {
     "data": {
      "image/png": "[encoded data removed]",
      "text/plain": [
       "<Figure size 640x480 with 1 Axes>"
      ]
     },
     "metadata": {},
     "output_type": "display_data"
    },
    {
     "data": {
      "image/png": "[encoded data removed]",
      "text/plain": [
       "<Figure size 640x480 with 1 Axes>"
      ]
     },
     "metadata": {},
     "output_type": "display_data"
    },
    {
     "data": {
      "image/png": "[encoded data removed]",
      "text/plain": [
       "<Figure size 640x480 with 1 Axes>"
      ]
     },
     "metadata": {},
     "output_type": "display_data"
    },
    {
     "data": {
      "image/png": "[encoded data removed]",
      "text/plain": [
       "<Figure size 640x480 with 1 Axes>"
      ]
     },
     "metadata": {},
     "output_type": "display_data"
    },
    {
     "data": {
      "image/png": "[encoded data removed]",
      "text/plain": [
       "<Figure size 640x480 with 1 Axes>"
      ]
     },
     "metadata": {},
     "output_type": "display_data"
    },
    {
     "data": {
      "image/png": "[encoded data removed]",
      "text/plain": [
       "<Figure size 640x480 with 1 Axes>"
      ]
     },
     "metadata": {},
     "output_type": "display_data"
    },
    {
     "data": {
      "image/png": "[encoded data removed]",
      "text/plain": [
       "<Figure size 640x480 with 1 Axes>"
      ]
     },
     "metadata": {},
     "output_type": "display_data"
    }
   ],
   "source": [
    "#levels = np.arange(0.0,0.6, 0.01)\n",
    "#levels[0] = 1e-3\n",
    "#norm = colors.BoundaryNorm(levels, ncolors=palette.N)\n",
    "\n",
    "palette = copy(plt.get_cmap('Reds'))\n",
    "palette.set_under('white', 1.0)  # 1.0 represents not transparent\n",
    "levels = np.arange(np.min(Photo[:,:]),np.max(Photo[:,:]), 0.1)\n",
    "levels[0] = 1e-3\n",
    "norm = colors.BoundaryNorm(levels, ncolors=palette.N)\n",
    "\n",
    "\n",
    "\n",
    "for i in range(0,40):\n",
    "    fig, ax = plt.subplots(1, 1)\n",
    "    palette = copy(plt.get_cmap('Reds'))\n",
    "    palette.set_under('white', 1.0)  # 1.0 represents not transparent\n",
    "    #levels = np.arange(0.0,0.6, 0.01)\n",
    "    #levels[0] = 1e-3\n",
    "    #norm = colors.BoundaryNorm(levels, ncolors=palette.N)\n",
    "\n",
    "    #contour = ax.imshow(ψ[0,:].reshape(32,32,32)[:,:,16],aspect='auto', cmap=palette,norm=norm)\n",
    "    contour = ax.contourf(Photo[i,:].reshape(nkx,nky,nkz)[:,:,int(nkz/2)],\n",
    "                          vmin=np.min(Photo[i,:]), vmax=np.max(Photo[i,:]))\n",
    "    #cbar = fig.colorbar(contour, extend='min', shrink=0.9, ax=ax)"
   ]
  },
  {
   "cell_type": "code",
   "execution_count": 9,
   "id": "6a152cfb",
   "metadata": {},
   "outputs": [
    {
     "data": {
      "text/plain": [
       "0.50248904773909"
      ]
     },
     "execution_count": 9,
     "metadata": {},
     "output_type": "execute_result"
    }
   ],
   "source": [
    "(np.min(Energie_Conduction) - np.max(Energie_Valence))*27"
   ]
  },
  {
   "cell_type": "code",
   "execution_count": 10,
   "id": "59cad983",
   "metadata": {},
   "outputs": [
    {
     "data": {
      "text/plain": [
       "-0.017550601142684374"
      ]
     },
     "execution_count": 10,
     "metadata": {},
     "output_type": "execute_result"
    }
   ],
   "source": [
    "np.min(Energie_Valence)\n",
    "np.max(Energie_Valence)"
   ]
  },
  {
   "cell_type": "code",
   "execution_count": null,
   "id": "f639c563",
   "metadata": {},
   "outputs": [],
   "source": []
  }
 ],
 "metadata": {
  "kernelspec": {
   "display_name": "Python 3 (ipykernel)",
   "language": "python",
   "name": "python3"
  },
  "language_info": {
   "codemirror_mode": {
    "name": "ipython",
    "version": 3
   },
   "file_extension": ".py",
   "mimetype": "text/x-python",
   "name": "python",
   "nbconvert_exporter": "python",
   "pygments_lexer": "ipython3",
   "version": "3.11.4"
  }
 },
 "nbformat": 4,
 "nbformat_minor": 5
}
