{
 "cells": [
  {
   "cell_type": "code",
   "execution_count": 1,
   "id": "06510bfb",
   "metadata": {},
   "outputs": [],
   "source": [
    "import numpy as np\n",
    "import matplotlib.pyplot as plt\n",
    "from copy import copy"
   ]
  },
  {
   "cell_type": "code",
   "execution_count": 115,
   "id": "b7153a28",
   "metadata": {},
   "outputs": [],
   "source": [
    "import numpy as np\n",
    "nkx = 6\n",
    "nky = 4\n",
    "nkz = 2\n",
    "\n",
    "y=np.ones((nkx,nky,nkz))\n",
    "\n",
    "xr = np.fft.fftfreq(nkx,d=1. / nkx).astype(int)\n",
    "yr = np.fft.fftfreq(nky,d=1. / nky).astype(int)\n",
    "zr = np.fft.fftfreq(nkz,d=1. / nkz).astype(int)\n",
    "\n",
    "yp = xr[:,None,None] * yr[None,:,None] * zr[None,None,:]\n",
    "\n",
    "\n",
    "#yp = np.einsum('i,j,k,ijk',xr,yr,zr,y)"
   ]
  },
  {
   "cell_type": "code",
   "execution_count": 116,
   "id": "7fad1afd",
   "metadata": {},
   "outputs": [],
   "source": [
    "first_x   = np.arange(0,int(nkx/2)+1,1,dtype=int)\n",
    "second_x  = np.arange(-int(nkx/2)+1,0,1,dtype=int)\n",
    "\n",
    "first_y   = np.arange(0,int(nky/2)+1,1,dtype=int)\n",
    "second_y  = np.arange(-int(nky/2)+1,0,1,dtype=int)\n",
    "\n",
    "first_z   = np.arange(0,int(nkz/2)+1,1,dtype=int)\n",
    "second_z  = np.arange(-int(nkz/2)+1,0,1,dtype=int)\n",
    "\n",
    "total_x = np.array( list(first_x) + list(second_x))\n",
    "total_y = np.array( list(first_y) + list(second_y))\n",
    "total_z = np.array( list(first_z) + list(second_z))\n",
    "\n",
    "irvec = np.zeros( (len(total_x)*len(total_y)*len(total_z),3),dtype=int )\n",
    "\n",
    "\"\"\"X, Y, Z = np.meshgrid(total_x, total_y, total_z, indexing='ij')\n",
    "X, Y, Z = np.meshgrid(total_x, total_y, total_z)\n",
    "irvec[:,0] = np.reshape(X, [nkx*nky*nkz])\n",
    "irvec[:,1] = np.reshape(Y, [nkx*nky*nkz])\n",
    "irvec[:,2] = np.reshape(Z, [nkx*nky*nkz])\"\"\"\n",
    "\n",
    "contador=0\n",
    "for kk in range(0,len(total_z)):\n",
    "    for jj in range(0,len(total_y)):\n",
    "        for ii in range(0,len(total_x)):\n",
    "\n",
    "            irvec[contador,0] = total_x[ii]\n",
    "            irvec[contador,1] = total_y[jj]\n",
    "            irvec[contador,2] = total_z[kk]\n",
    "            contador+=1\n",
    "\n",
    "xs = irvec[:,0]\n",
    "ys = irvec[:,1]\n",
    "zs = irvec[:,2]\n",
    "\n",
    "yp_test = np.reshape(xs * ys * zs, [nkx,nky,nkz])\n",
    "\n"
   ]
  },
  {
   "cell_type": "code",
   "execution_count": 117,
   "id": "1c0b8ed7",
   "metadata": {},
   "outputs": [
    {
     "data": {
      "text/plain": [
       "(6, 4, 2)"
      ]
     },
     "execution_count": 117,
     "metadata": {},
     "output_type": "execute_result"
    }
   ],
   "source": [
    "np.shape(yp_test)"
   ]
  },
  {
   "cell_type": "code",
   "execution_count": 118,
   "id": "fa516868",
   "metadata": {},
   "outputs": [
    {
     "data": {
      "image/png": "[encoded data removed]",
      "text/plain": [
       "<Figure size 640x480 with 2 Axes>"
      ]
     },
     "metadata": {},
     "output_type": "display_data"
    },
    {
     "data": {
      "image/png": "[encoded data removed]",
      "text/plain": [
       "<Figure size 640x480 with 2 Axes>"
      ]
     },
     "metadata": {},
     "output_type": "display_data"
    }
   ],
   "source": [
    "fig, ax = plt.subplots(1, 1)\n",
    "palette = copy(plt.get_cmap('Reds'))\n",
    "palette.set_under('white', 1.0)  # 1.0 represents not transparent\n",
    "\n",
    "contour = ax.contourf(np.real(yp[:,:,int(nkz/2)]), cmap=palette)\n",
    "cbar = fig.colorbar(contour)\n",
    "\n",
    "fig, ax = plt.subplots(1, 1)\n",
    "palette = copy(plt.get_cmap('Reds'))\n",
    "palette.set_under('white', 1.0)  # 1.0 represents not transparent\n",
    "\n",
    "contour = ax.contourf(np.real(yp_test[:,:,int(nkz/2)]), cmap=palette)\n",
    "cbar = fig.colorbar(contour)"
   ]
  },
  {
   "cell_type": "code",
   "execution_count": 119,
   "id": "09826443",
   "metadata": {},
   "outputs": [
    {
     "name": "stdout",
     "output_type": "stream",
     "text": [
      "[[ 0  0  0  0]\n",
      " [ 0  0  0  0]\n",
      " [ 0  0  0  0]\n",
      " [ 0  0  0  1]\n",
      " [ 3 -1  2  6]\n",
      " [-2 -1 -3  1]]\n",
      "[[ 0  0  0  0]\n",
      " [ 0 -1  2  1]\n",
      " [ 0 -2  4  2]\n",
      " [ 0  3 -6 -3]\n",
      " [ 0  2 -4 -2]\n",
      " [ 0  1 -2 -1]]\n"
     ]
    }
   ],
   "source": [
    "print(yp_test[:,:,int(nkz/2)])\n",
    "print(yp[:,:,int(nkz/2)])"
   ]
  },
  {
   "cell_type": "code",
   "execution_count": 120,
   "id": "47d365d8",
   "metadata": {},
   "outputs": [
    {
     "data": {
      "text/plain": [
       "array([[[ 0,  0],\n",
       "        [ 0,  0],\n",
       "        [ 0,  0],\n",
       "        [ 0,  0]],\n",
       "\n",
       "       [[ 0,  0],\n",
       "        [ 0, -1],\n",
       "        [ 0,  2],\n",
       "        [ 0,  1]],\n",
       "\n",
       "       [[ 0,  0],\n",
       "        [ 0, -2],\n",
       "        [ 0,  4],\n",
       "        [ 0,  2]],\n",
       "\n",
       "       [[ 0,  0],\n",
       "        [ 0,  3],\n",
       "        [ 0, -6],\n",
       "        [ 0, -3]],\n",
       "\n",
       "       [[ 0,  0],\n",
       "        [ 0,  2],\n",
       "        [ 0, -4],\n",
       "        [ 0, -2]],\n",
       "\n",
       "       [[ 0,  0],\n",
       "        [ 0,  1],\n",
       "        [ 0, -2],\n",
       "        [ 0, -1]]])"
      ]
     },
     "execution_count": 120,
     "metadata": {},
     "output_type": "execute_result"
    }
   ],
   "source": [
    "np.shape(xr[:,None,None] * yr[None,:,None] * zr[None,None,:])\n",
    "\n",
    "yp[:,:,:]"
   ]
  },
  {
   "cell_type": "code",
   "execution_count": 121,
   "id": "f33b7166",
   "metadata": {},
   "outputs": [
    {
     "data": {
      "text/plain": [
       "array([[[ 0,  0],\n",
       "        [ 0,  0],\n",
       "        [ 0,  0],\n",
       "        [ 0,  0]],\n",
       "\n",
       "       [[ 0,  0],\n",
       "        [ 0,  0],\n",
       "        [ 0,  0],\n",
       "        [ 0,  0]],\n",
       "\n",
       "       [[ 0,  0],\n",
       "        [ 0,  0],\n",
       "        [ 0,  0],\n",
       "        [ 0,  0]],\n",
       "\n",
       "       [[ 0,  0],\n",
       "        [ 0,  0],\n",
       "        [ 0,  0],\n",
       "        [ 0,  1]],\n",
       "\n",
       "       [[ 2,  3],\n",
       "        [-2, -1],\n",
       "        [ 0,  2],\n",
       "        [ 4,  6]],\n",
       "\n",
       "       [[-4, -2],\n",
       "        [ 0, -1],\n",
       "        [-2, -3],\n",
       "        [ 2,  1]]])"
      ]
     },
     "execution_count": 121,
     "metadata": {},
     "output_type": "execute_result"
    }
   ],
   "source": [
    "yp_test[:,:,:]"
   ]
  },
  {
   "cell_type": "code",
   "execution_count": 98,
   "id": "be99ddd0",
   "metadata": {},
   "outputs": [
    {
     "data": {
      "text/plain": [
       "array([[0],\n",
       "       [0],\n",
       "       [0],\n",
       "       [0]])"
      ]
     },
     "execution_count": 98,
     "metadata": {},
     "output_type": "execute_result"
    }
   ],
   "source": [
    "(xr[:,None,None]*yr[None,:,None])[0,:]"
   ]
  },
  {
   "cell_type": "code",
   "execution_count": 109,
   "id": "751f1c5c",
   "metadata": {},
   "outputs": [
    {
     "data": {
      "text/plain": [
       "(12, 1, 1)"
      ]
     },
     "execution_count": 109,
     "metadata": {},
     "output_type": "execute_result"
    }
   ],
   "source": [
    "np.shape(xr[:,None,None])"
   ]
  },
  {
   "cell_type": "code",
   "execution_count": 6,
   "id": "c133149e",
   "metadata": {},
   "outputs": [
    {
     "data": {
      "text/plain": [
       "array([[ 0,  1, -2, -1]])"
      ]
     },
     "execution_count": 6,
     "metadata": {},
     "output_type": "execute_result"
    }
   ],
   "source": [
    "zr[None,:]"
   ]
  },
  {
   "cell_type": "code",
   "execution_count": 112,
   "id": "c8018c0f",
   "metadata": {},
   "outputs": [],
   "source": [
    "a = np.array([1,2,3,4])\n",
    "b = np.array([5,6])"
   ]
  },
  {
   "cell_type": "code",
   "execution_count": 116,
   "id": "ca1e067e",
   "metadata": {},
   "outputs": [
    {
     "data": {
      "text/plain": [
       "array([[ 5,  6],\n",
       "       [10, 12],\n",
       "       [15, 18],\n",
       "       [20, 24]])"
      ]
     },
     "execution_count": 116,
     "metadata": {},
     "output_type": "execute_result"
    }
   ],
   "source": [
    "a[:,None] * b[None,:]"
   ]
  },
  {
   "cell_type": "code",
   "execution_count": 117,
   "id": "bf5d580b",
   "metadata": {},
   "outputs": [
    {
     "data": {
      "text/plain": [
       "array([[ 5,  6],\n",
       "       [10, 12],\n",
       "       [15, 18],\n",
       "       [20, 24]])"
      ]
     },
     "execution_count": 117,
     "metadata": {},
     "output_type": "execute_result"
    }
   ],
   "source": [
    "np.einsum('ki,il->kl',a[:,None] , b[None,:])"
   ]
  },
  {
   "cell_type": "code",
   "execution_count": 35,
   "id": "be2d26e2",
   "metadata": {},
   "outputs": [
    {
     "name": "stdout",
     "output_type": "stream",
     "text": [
      "False\n"
     ]
    }
   ],
   "source": [
    "import numpy as np\n",
    "\n",
    "nkx = 8\n",
    "nky = 6\n",
    "nkz = 4\n",
    "\n",
    "# Define frequency arrays\n",
    "xr = np.fft.fftfreq(nkx, d=1. / nkx).astype(int)\n",
    "yr = np.fft.fftfreq(nky, d=1. / nky).astype(int)\n",
    "zr = np.fft.fftfreq(nkz, d=1. / nkz).astype(int)\n",
    "\n",
    "# Construct irvec\n",
    "irvec = np.zeros((len(xr) * len(yr) * len(zr), 3), dtype=int)\n",
    "\n",
    "contador = 0\n",
    "for kk in range(len(zr)):\n",
    "    for jj in range(len(yr)):\n",
    "        for ii in range(len(xr)):\n",
    "            irvec[contador, 0] = xr[ii]\n",
    "            irvec[contador, 1] = yr[jj]\n",
    "            irvec[contador, 2] = zr[kk]\n",
    "            contador += 1\n",
    "\n",
    "# Calculate yp_test\n",
    "xs = irvec[:, 0]\n",
    "ys = irvec[:, 1]\n",
    "zs = irvec[:, 2]\n",
    "yp_test = np.reshape(xs * ys * zs, [nkx, nky, nkz])\n",
    "\n",
    "# Compare results\n",
    "yp = xr[:, None, None] * yr[None, :, None] * zr[None, None, :]\n",
    "print(np.array_equal(yp_test, yp))\n"
   ]
  },
  {
   "cell_type": "code",
   "execution_count": 37,
   "id": "2c05081d",
   "metadata": {},
   "outputs": [
    {
     "name": "stdout",
     "output_type": "stream",
     "text": [
      "False\n"
     ]
    }
   ],
   "source": [
    "import numpy as np\n",
    "\n",
    "nkx = 8\n",
    "nky = 6\n",
    "nkz = 4\n",
    "\n",
    "# Define frequency arrays\n",
    "xr = np.fft.fftfreq(nkx, d=1. / nkx).astype(int)\n",
    "yr = np.fft.fftfreq(nky, d=1. / nky).astype(int)\n",
    "zr = np.fft.fftfreq(nkz, d=1. / nkz).astype(int)\n",
    "\n",
    "# Construct irvec\n",
    "irvec = np.zeros((len(xr) * len(yr) * len(zr), 3), dtype=int)\n",
    "\n",
    "contador = 0\n",
    "for kk in range(len(zr)):\n",
    "    for jj in range(len(yr)):\n",
    "        for ii in range(len(xr)):\n",
    "            irvec[contador, 0] = xr[ii]\n",
    "            irvec[contador, 1] = yr[jj]\n",
    "            irvec[contador, 2] = zr[kk]\n",
    "            contador += 1\n",
    "\n",
    "# Calculate yp_test\n",
    "xs = irvec[:, 0]\n",
    "ys = irvec[:, 1]\n",
    "zs = irvec[:, 2]\n",
    "yp_test = np.reshape(xs * ys * zs, [nkx, nky, nkz])\n",
    "\n",
    "# Compare results\n",
    "yp = xr[:, None, None] * yr[None, :, None] * zr[None, None, :]\n",
    "print(np.array_equal(yp_test, yp))\n",
    "\n"
   ]
  },
  {
   "cell_type": "code",
   "execution_count": 38,
   "id": "8dad6f8c",
   "metadata": {},
   "outputs": [
    {
     "data": {
      "text/plain": [
       "array([1, 2, 4])"
      ]
     },
     "execution_count": 38,
     "metadata": {},
     "output_type": "execute_result"
    }
   ],
   "source": [
    "np.array([1,2,4])*np.array([1,1,1])"
   ]
  },
  {
   "cell_type": "code",
   "execution_count": 126,
   "id": "52ea438b",
   "metadata": {},
   "outputs": [
    {
     "ename": "ValueError",
     "evalue": "operands could not be broadcast together with remapped shapes [original->remapped]: (4,)->(4,newaxis) (2,)->(2) (2,4)->(2,4) ",
     "output_type": "error",
     "traceback": [
      "\u001b[0;31m---------------------------------------------------------------------------\u001b[0m",
      "\u001b[0;31mValueError\u001b[0m                                Traceback (most recent call last)",
      "\u001b[0;32m/tmp/ipykernel_278337/4233227313.py\u001b[0m in \u001b[0;36m<module>\u001b[0;34m\u001b[0m\n\u001b[1;32m      4\u001b[0m \u001b[0mg\u001b[0m\u001b[0;34m=\u001b[0m\u001b[0mnp\u001b[0m\u001b[0;34m.\u001b[0m\u001b[0marray\u001b[0m\u001b[0;34m(\u001b[0m\u001b[0;34m[\u001b[0m\u001b[0;36m1\u001b[0m\u001b[0;34m,\u001b[0m\u001b[0;36m2\u001b[0m\u001b[0;34m]\u001b[0m\u001b[0;34m)\u001b[0m\u001b[0;34m\u001b[0m\u001b[0;34m\u001b[0m\u001b[0m\n\u001b[1;32m      5\u001b[0m \u001b[0;34m\u001b[0m\u001b[0m\n\u001b[0;32m----> 6\u001b[0;31m \u001b[0mnp\u001b[0m\u001b[0;34m.\u001b[0m\u001b[0meinsum\u001b[0m\u001b[0;34m(\u001b[0m\u001b[0;34m'i,j,ij->ij'\u001b[0m\u001b[0;34m,\u001b[0m\u001b[0mf\u001b[0m\u001b[0;34m,\u001b[0m\u001b[0mg\u001b[0m\u001b[0;34m,\u001b[0m\u001b[0mA\u001b[0m\u001b[0;34m)\u001b[0m\u001b[0;34m\u001b[0m\u001b[0;34m\u001b[0m\u001b[0m\n\u001b[0m",
      "\u001b[0;32m<__array_function__ internals>\u001b[0m in \u001b[0;36meinsum\u001b[0;34m(*args, **kwargs)\u001b[0m\n",
      "\u001b[0;32m~/anaconda3/lib/python3.9/site-packages/numpy/core/einsumfunc.py\u001b[0m in \u001b[0;36meinsum\u001b[0;34m(out, optimize, *operands, **kwargs)\u001b[0m\n\u001b[1;32m   1357\u001b[0m         \u001b[0;32mif\u001b[0m \u001b[0mspecified_out\u001b[0m\u001b[0;34m:\u001b[0m\u001b[0;34m\u001b[0m\u001b[0;34m\u001b[0m\u001b[0m\n\u001b[1;32m   1358\u001b[0m             \u001b[0mkwargs\u001b[0m\u001b[0;34m[\u001b[0m\u001b[0;34m'out'\u001b[0m\u001b[0;34m]\u001b[0m \u001b[0;34m=\u001b[0m \u001b[0mout\u001b[0m\u001b[0;34m\u001b[0m\u001b[0;34m\u001b[0m\u001b[0m\n\u001b[0;32m-> 1359\u001b[0;31m         \u001b[0;32mreturn\u001b[0m \u001b[0mc_einsum\u001b[0m\u001b[0;34m(\u001b[0m\u001b[0;34m*\u001b[0m\u001b[0moperands\u001b[0m\u001b[0;34m,\u001b[0m \u001b[0;34m**\u001b[0m\u001b[0mkwargs\u001b[0m\u001b[0;34m)\u001b[0m\u001b[0;34m\u001b[0m\u001b[0;34m\u001b[0m\u001b[0m\n\u001b[0m\u001b[1;32m   1360\u001b[0m \u001b[0;34m\u001b[0m\u001b[0m\n\u001b[1;32m   1361\u001b[0m     \u001b[0;31m# Check the kwargs to avoid a more cryptic error later, without having to\u001b[0m\u001b[0;34m\u001b[0m\u001b[0;34m\u001b[0m\u001b[0m\n",
      "\u001b[0;31mValueError\u001b[0m: operands could not be broadcast together with remapped shapes [original->remapped]: (4,)->(4,newaxis) (2,)->(2) (2,4)->(2,4) "
     ]
    }
   ],
   "source": [
    "A = np.array([[1,2,3,4],[5,6,7,8]])\n",
    "\n",
    "f=np.array([1,2,3,4])\n",
    "g=np.array([1,2])\n",
    "\n",
    "np.einsum('i,j,ij->ij',f,g,A)"
   ]
  },
  {
   "cell_type": "code",
   "execution_count": 129,
   "id": "325c6393",
   "metadata": {},
   "outputs": [
    {
     "name": "stdout",
     "output_type": "stream",
     "text": [
      "[[[ 812  992 1188]\n",
      "  [1225 1480 1755]\n",
      "  [1722 2064 2430]]\n",
      "\n",
      " [[1624 1984 2376]\n",
      "  [2450 2960 3510]\n",
      "  [3444 4128 4860]]\n",
      "\n",
      " [[2436 2976 3564]\n",
      "  [3675 4440 5265]\n",
      "  [5166 6192 7290]]]\n"
     ]
    }
   ],
   "source": [
    "import numpy as np\n",
    "\n",
    "# Example 1D arrays\n",
    "a = np.array([1, 2, 3])\n",
    "b = np.array([4, 5, 6])\n",
    "c = np.array([7, 8, 9])\n",
    "\n",
    "# Example 3D array\n",
    "d = np.array([[[10, 11, 12],\n",
    "               [13, 14, 15],\n",
    "               [16, 17, 18]],\n",
    "              [[19, 20, 21],\n",
    "               [22, 23, 24],\n",
    "               [25, 26, 27]]])\n",
    "\n",
    "# Element-wise multiplication using einsum\n",
    "result = np.einsum('i,j,k,ljk->ijk', a, b, c, d)\n",
    "\n",
    "print(result)\n"
   ]
  },
  {
   "cell_type": "code",
   "execution_count": 128,
   "id": "da9cb0f7",
   "metadata": {},
   "outputs": [
    {
     "data": {
      "text/plain": [
       "(3, 3, 3, 2)"
      ]
     },
     "execution_count": 128,
     "metadata": {},
     "output_type": "execute_result"
    }
   ],
   "source": [
    "np.shape(result)"
   ]
  },
  {
   "cell_type": "code",
   "execution_count": null,
   "id": "cb0d637f",
   "metadata": {},
   "outputs": [],
   "source": []
  }
 ],
 "metadata": {
  "kernelspec": {
   "display_name": "Python 3 (ipykernel)",
   "language": "python",
   "name": "python3"
  },
  "language_info": {
   "codemirror_mode": {
    "name": "ipython",
    "version": 3
   },
   "file_extension": ".py",
   "mimetype": "text/x-python",
   "name": "python",
   "nbconvert_exporter": "python",
   "pygments_lexer": "ipython3",
   "version": "3.9.13"
  }
 },
 "nbformat": 4,
 "nbformat_minor": 5
}
